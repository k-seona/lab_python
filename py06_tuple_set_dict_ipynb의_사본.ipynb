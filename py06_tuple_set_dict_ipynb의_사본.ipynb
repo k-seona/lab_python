{
  "nbformat": 4,
  "nbformat_minor": 0,
  "metadata": {
    "colab": {
      "provenance": [],
      "include_colab_link": true
    },
    "kernelspec": {
      "name": "python3",
      "display_name": "Python 3"
    },
    "language_info": {
      "name": "python"
    }
  },
  "cells": [
    {
      "cell_type": "markdown",
      "metadata": {
        "id": "view-in-github",
        "colab_type": "text"
      },
      "source": [
        "<a href=\"https://colab.research.google.com/github/k-seona/lab_python/blob/main/py06_tuple_set_dict_ipynb%EC%9D%98_%EC%82%AC%EB%B3%B8.ipynb\" target=\"_parent\"><img src=\"https://colab.research.google.com/assets/colab-badge.svg\" alt=\"Open In Colab\"/></a>"
      ]
    },
    {
      "cell_type": "markdown",
      "source": [
        "# tuple(튜플)\n",
        "\n",
        "*  하나의 변수에 여러 개의 값들을 저장하기 위한 자료 타입.\n",
        "*  저장된 원소(아이템)들을 변경할 수 없는 리스트.\n",
        "    *  `append()`, `remove()`와 같은 원소를 변경하는 메서드(기능)은 제공하지 않음.\n",
        "*  인덱스 기반 자료 타입.\n",
        "    *  indexing, slicing\n",
        "    *  음수 인덱스도 사용 가능"
      ],
      "metadata": {
        "id": "vZN6lt_LWr5m"
      }
    },
    {
      "cell_type": "code",
      "execution_count": null,
      "metadata": {
        "colab": {
          "base_uri": "https://localhost:8080/"
        },
        "id": "uyrNwmXeWahq",
        "outputId": "fcd91b5d-6dcd-42e5-bf7b-b7d1b853c2f1"
      },
      "outputs": [
        {
          "output_type": "execute_result",
          "data": {
            "text/plain": [
              "(1, 2, 10, 20, 100, 200)"
            ]
          },
          "metadata": {},
          "execution_count": 1
        }
      ],
      "source": [
        "# 숫자들을 저장하는 튜플\n",
        "numbers = (1, 2, 10, 20, 100, 200)\n",
        "numbers"
      ]
    },
    {
      "cell_type": "code",
      "source": [
        "type(numbers)"
      ],
      "metadata": {
        "colab": {
          "base_uri": "https://localhost:8080/"
        },
        "id": "Lqdvkc1JX8vv",
        "outputId": "2fe89520-c27a-48c8-b8f6-315d19cb3c9b"
      },
      "execution_count": null,
      "outputs": [
        {
          "output_type": "execute_result",
          "data": {
            "text/plain": [
              "tuple"
            ]
          },
          "metadata": {},
          "execution_count": 2
        }
      ]
    },
    {
      "cell_type": "markdown",
      "source": [
        "indexing: 인덱스를 사용해서 원소 1개를 참조하는 방법"
      ],
      "metadata": {
        "id": "tkiGeqBGYsZO"
      }
    },
    {
      "cell_type": "code",
      "source": [
        "numbers[0]  # 튜플의 첫번째 원소"
      ],
      "metadata": {
        "colab": {
          "base_uri": "https://localhost:8080/"
        },
        "id": "0GIsTs8iYO_2",
        "outputId": "bff94c38-c5db-4979-9c9f-994efc5d6fa9"
      },
      "execution_count": null,
      "outputs": [
        {
          "output_type": "execute_result",
          "data": {
            "text/plain": [
              "1"
            ]
          },
          "metadata": {},
          "execution_count": 3
        }
      ]
    },
    {
      "cell_type": "code",
      "source": [
        "numbers[-1]  # 튜플의 마지막 원소"
      ],
      "metadata": {
        "colab": {
          "base_uri": "https://localhost:8080/"
        },
        "id": "s0BjbvKLZAlC",
        "outputId": "fce5cde5-b996-410e-e0f0-1e2ced6dd896"
      },
      "execution_count": null,
      "outputs": [
        {
          "output_type": "execute_result",
          "data": {
            "text/plain": [
              "200"
            ]
          },
          "metadata": {},
          "execution_count": 4
        }
      ]
    },
    {
      "cell_type": "markdown",
      "source": [
        "slicing: 자르기. 부분집합."
      ],
      "metadata": {
        "id": "NkrjYpziZL5m"
      }
    },
    {
      "cell_type": "code",
      "source": [
        "numbers[:3]  # 튜플에서 첫 3개의 원소들을 잘라내기. [start, end) 범위."
      ],
      "metadata": {
        "colab": {
          "base_uri": "https://localhost:8080/"
        },
        "id": "8dVAI2ZSZJXO",
        "outputId": "c6b8e9c2-11f0-4ae7-84e5-245ee022c604"
      },
      "execution_count": null,
      "outputs": [
        {
          "output_type": "execute_result",
          "data": {
            "text/plain": [
              "(1, 2, 10)"
            ]
          },
          "metadata": {},
          "execution_count": 5
        }
      ]
    },
    {
      "cell_type": "code",
      "source": [
        "numbers[-3:]  # 튜플에서 마지막 3개의 원소들을 잘라내기."
      ],
      "metadata": {
        "colab": {
          "base_uri": "https://localhost:8080/"
        },
        "id": "TUAsqovtZd7m",
        "outputId": "30aef44c-66c7-4a7a-c9fd-b820e6343e02"
      },
      "execution_count": null,
      "outputs": [
        {
          "output_type": "execute_result",
          "data": {
            "text/plain": [
              "(20, 100, 200)"
            ]
          },
          "metadata": {},
          "execution_count": 6
        }
      ]
    },
    {
      "cell_type": "markdown",
      "source": [
        "## decomposition(분해)"
      ],
      "metadata": {
        "id": "OZPD-9FjZ3Xn"
      }
    },
    {
      "cell_type": "code",
      "source": [
        "odds = (1, 3, 5)\n",
        "a = odds[0]\n",
        "b = odds[1]\n",
        "c = odds[2]\n",
        "print(a, b, c)"
      ],
      "metadata": {
        "colab": {
          "base_uri": "https://localhost:8080/"
        },
        "id": "VGOdx75NZwLG",
        "outputId": "baf99d24-310e-4a30-8188-e927ea41d2f7"
      },
      "execution_count": null,
      "outputs": [
        {
          "output_type": "stream",
          "name": "stdout",
          "text": [
            "1 3 5\n"
          ]
        }
      ]
    },
    {
      "cell_type": "code",
      "source": [
        "x, y, z = (1, 3, 5)\n",
        "print(x, y, z)"
      ],
      "metadata": {
        "colab": {
          "base_uri": "https://localhost:8080/"
        },
        "id": "zYdAX1WwaVHm",
        "outputId": "bbd1fcf0-73f5-4714-a92d-4f86d7c313b8"
      },
      "execution_count": null,
      "outputs": [
        {
          "output_type": "stream",
          "name": "stdout",
          "text": [
            "1 3 5\n"
          ]
        }
      ]
    },
    {
      "cell_type": "markdown",
      "source": [
        "## tuple & for"
      ],
      "metadata": {
        "id": "E4vwG-BkbJuP"
      }
    },
    {
      "cell_type": "code",
      "source": [
        "for x in odds:\n",
        "    print(x)"
      ],
      "metadata": {
        "colab": {
          "base_uri": "https://localhost:8080/"
        },
        "id": "b_U0UcGLbMwn",
        "outputId": "ca1f13bf-d703-4b4b-de8a-c1821000bef6"
      },
      "execution_count": null,
      "outputs": [
        {
          "output_type": "stream",
          "name": "stdout",
          "text": [
            "1\n",
            "3\n",
            "5\n"
          ]
        }
      ]
    },
    {
      "cell_type": "markdown",
      "source": [
        "# 2차원 리스트/튜플"
      ],
      "metadata": {
        "id": "yNK0QRG2b-Nf"
      }
    },
    {
      "cell_type": "code",
      "source": [
        "numbers = [\n",
        "    [1, 2, 3],\n",
        "    [4, 5, 6]\n",
        "]\n",
        "numbers"
      ],
      "metadata": {
        "colab": {
          "base_uri": "https://localhost:8080/"
        },
        "id": "_gx0_spBbUeW",
        "outputId": "c0f9e737-b21a-47fa-cac5-0f0247eecc2c"
      },
      "execution_count": null,
      "outputs": [
        {
          "output_type": "execute_result",
          "data": {
            "text/plain": [
              "[[1, 2, 3], [4, 5, 6]]"
            ]
          },
          "metadata": {},
          "execution_count": 10
        }
      ]
    },
    {
      "cell_type": "code",
      "source": [
        "len(numbers)  # 2차원 리스트 numbers의 원소 개수"
      ],
      "metadata": {
        "colab": {
          "base_uri": "https://localhost:8080/"
        },
        "id": "7rherNFRc_mQ",
        "outputId": "2cce286e-637d-4abb-ed70-a46aab241340"
      },
      "execution_count": null,
      "outputs": [
        {
          "output_type": "execute_result",
          "data": {
            "text/plain": [
              "2"
            ]
          },
          "metadata": {},
          "execution_count": 11
        }
      ]
    },
    {
      "cell_type": "code",
      "source": [
        "numbers[0]"
      ],
      "metadata": {
        "colab": {
          "base_uri": "https://localhost:8080/"
        },
        "id": "H-s5Gf7HdTjX",
        "outputId": "b326230a-8714-458f-e011-b7a22e1418de"
      },
      "execution_count": null,
      "outputs": [
        {
          "output_type": "execute_result",
          "data": {
            "text/plain": [
              "[1, 2, 3]"
            ]
          },
          "metadata": {},
          "execution_count": 12
        }
      ]
    },
    {
      "cell_type": "code",
      "source": [
        "numbers[0][0]"
      ],
      "metadata": {
        "colab": {
          "base_uri": "https://localhost:8080/"
        },
        "id": "uCrsFfo7dkyJ",
        "outputId": "662f0397-a621-48ac-f2eb-67cc5e24568c"
      },
      "execution_count": null,
      "outputs": [
        {
          "output_type": "execute_result",
          "data": {
            "text/plain": [
              "1"
            ]
          },
          "metadata": {},
          "execution_count": 13
        }
      ]
    },
    {
      "cell_type": "markdown",
      "source": [
        "Ex.\n",
        "1. 2x2 모양의 [0, 10) 범위의 정수 난수들을 저장하는 2차원 리스트 array1을 만드고 출력하세요.\n",
        "1. 2x2 모양의 [0, 10) 범위의 정수 난수들을 저장하는 2차원 리스트 array2을 만드고 출력하세요.\n",
        "1. array1과 array2의 같은 인덱스의 원소들끼리의 덧셈 결과를 저장하는 2차원 리스트 add를 만들고 출력하세요."
      ],
      "metadata": {
        "id": "wDCXRg07d1ET"
      }
    },
    {
      "cell_type": "code",
      "source": [
        "import random"
      ],
      "metadata": {
        "id": "fF5odw0Xegko"
      },
      "execution_count": 4,
      "outputs": []
    },
    {
      "cell_type": "code",
      "source": [
        "\n",
        "array1 = [] #1차원 리스트들을 저장할 빈 리스트\n",
        "#array2 = []\n",
        "for _ in range(2): #2번반복\n",
        "    row =[] # 난수들을 저장할 빈 리스트.\n",
        "    #row1 =[]\n",
        "    for _ in range(2): # 2번반복\n",
        "        row.append(random.randrange(10)) #난수를 row에 추가\n",
        "       # row1.append(random.randrange(10))\n",
        "    array1.append(row) #난수 두개를 갖는 1차원 리스트를 어레이1번에 추가\n",
        "    #array2.append(row1)\n",
        "\n",
        "print(array1)\n",
        "#print(array2)"
      ],
      "metadata": {
        "colab": {
          "base_uri": "https://localhost:8080/"
        },
        "id": "-TzUaObekdoX",
        "outputId": "27a44250-ae44-4e8a-bb85-736e6263e87a"
      },
      "execution_count": 18,
      "outputs": [
        {
          "output_type": "stream",
          "name": "stdout",
          "text": [
            "[[6, 1], [4, 6]]\n"
          ]
        }
      ]
    },
    {
      "cell_type": "code",
      "source": [
        "array2 = [[random.randrange(10) for _ in range(2)]\n",
        "          for _ in range(2)]\n",
        "array2"
      ],
      "metadata": {
        "colab": {
          "base_uri": "https://localhost:8080/"
        },
        "id": "6v0DDIMkmzPO",
        "outputId": "86980a4d-d788-4ba9-d7ce-d35e0afa8b0d"
      },
      "execution_count": 19,
      "outputs": [
        {
          "output_type": "execute_result",
          "data": {
            "text/plain": [
              "[[6, 2], [8, 8]]"
            ]
          },
          "metadata": {},
          "execution_count": 19
        }
      ]
    },
    {
      "cell_type": "code",
      "source": [
        "add = []\n",
        "for row1, row2 in zip(array1,array2):\n",
        "    print(row1, row2)\n",
        "    temp = [] #덧셈 결과를 저장할 빈 배열\n",
        "    for x, y in zip(row1, row2):\n",
        "        temp.append(x + y)\n",
        "    add.append(temp)\n",
        "add\n"
      ],
      "metadata": {
        "colab": {
          "base_uri": "https://localhost:8080/"
        },
        "id": "hP7x2rj4ne1s",
        "outputId": "6789a64b-f98e-4cd1-ba88-88bc690df88c"
      },
      "execution_count": 24,
      "outputs": [
        {
          "output_type": "stream",
          "name": "stdout",
          "text": [
            "[6, 1] [6, 2]\n",
            "[4, 6] [8, 8]\n"
          ]
        },
        {
          "output_type": "execute_result",
          "data": {
            "text/plain": [
              "[[12, 3], [12, 14]]"
            ]
          },
          "metadata": {},
          "execution_count": 24
        }
      ]
    },
    {
      "cell_type": "code",
      "source": [
        "[[x + y for x, y in zip(row1, row2)]\n",
        " for row1, row2 in zip(array1, array2)]"
      ],
      "metadata": {
        "colab": {
          "base_uri": "https://localhost:8080/"
        },
        "id": "OI5QbxmBpMmO",
        "outputId": "910ed67b-df37-4f8c-b05a-9ae76f399c22"
      },
      "execution_count": 25,
      "outputs": [
        {
          "output_type": "execute_result",
          "data": {
            "text/plain": [
              "[[12, 3], [12, 14]]"
            ]
          },
          "metadata": {},
          "execution_count": 25
        }
      ]
    },
    {
      "cell_type": "markdown",
      "source": [
        "#Set(집합)\n",
        "\n",
        "* 중복된 데이터를 허용하지 않음: `{1,2,2,3,3} = {1, 2, 3}`\n",
        "* 인덱스 기반의 자료 구조가 아님, 인덱스가 없음\n",
        "    * 데이터의 저장 순서가 중요하지 않음.:`{1, 2, 3} = {3, 1, 2}`\n",
        "    * indexing, slicing 기능을 제공하지 않음.\n",
        "    * for-in구문에서 사용할 수 있는 iterable 타입.\n",
        "\n"
      ],
      "metadata": {
        "id": "kEScWbSRqMOS"
      }
    },
    {
      "cell_type": "markdown",
      "source": [
        "리스트 []\n",
        "튜플 ()\n",
        "set{}"
      ],
      "metadata": {
        "id": "f6Aec-mdrd_i"
      }
    },
    {
      "cell_type": "code",
      "source": [
        "s = {1, 2, 2, 3, 3}\n",
        "s"
      ],
      "metadata": {
        "colab": {
          "base_uri": "https://localhost:8080/"
        },
        "id": "HSW3ILRXrTda",
        "outputId": "25505a15-2f39-4406-af1b-80e2ffd12ffc"
      },
      "execution_count": 27,
      "outputs": [
        {
          "output_type": "execute_result",
          "data": {
            "text/plain": [
              "{1, 2, 3}"
            ]
          },
          "metadata": {},
          "execution_count": 27
        }
      ]
    },
    {
      "cell_type": "code",
      "source": [
        "type(s)"
      ],
      "metadata": {
        "colab": {
          "base_uri": "https://localhost:8080/"
        },
        "id": "v65QrOdXroGm",
        "outputId": "dec1dc21-6a0e-4351-e6db-8d1814580873"
      },
      "execution_count": 29,
      "outputs": [
        {
          "output_type": "execute_result",
          "data": {
            "text/plain": [
              "set"
            ]
          },
          "metadata": {},
          "execution_count": 29
        }
      ]
    },
    {
      "cell_type": "markdown",
      "source": [
        "#set의 기능(메서드)"
      ],
      "metadata": {
        "id": "E6lkq53DrvYt"
      }
    },
    {
      "cell_type": "code",
      "source": [
        "s.add(5) #set에 원소추가\n",
        "s"
      ],
      "metadata": {
        "colab": {
          "base_uri": "https://localhost:8080/"
        },
        "id": "TVJZU3DRrt8N",
        "outputId": "65438aab-9403-4e8f-e162-47c8765947e9"
      },
      "execution_count": 32,
      "outputs": [
        {
          "output_type": "execute_result",
          "data": {
            "text/plain": [
              "{1, 2, 3, 5}"
            ]
          },
          "metadata": {},
          "execution_count": 32
        }
      ]
    },
    {
      "cell_type": "code",
      "source": [
        "s.add(5) #개수 늘어나지 않음. 같은값 있음.\n",
        "s"
      ],
      "metadata": {
        "colab": {
          "base_uri": "https://localhost:8080/"
        },
        "id": "49HMawUasPfe",
        "outputId": "a8ed8188-e3ab-49b4-be0b-080bb398874b"
      },
      "execution_count": 38,
      "outputs": [
        {
          "output_type": "execute_result",
          "data": {
            "text/plain": [
              "{1, 2, 3, 5}"
            ]
          },
          "metadata": {},
          "execution_count": 38
        }
      ]
    },
    {
      "cell_type": "code",
      "source": [
        "s.remove(3) #set의 원소를 삭제,삭제할 원소를 아규먼트로 전달\n",
        "s"
      ],
      "metadata": {
        "colab": {
          "base_uri": "https://localhost:8080/",
          "height": 191
        },
        "id": "X54510jOsU_k",
        "outputId": "a40e35dd-f6f2-45f2-9e2b-bb4e2d42b820"
      },
      "execution_count": 40,
      "outputs": [
        {
          "output_type": "error",
          "ename": "KeyError",
          "evalue": "ignored",
          "traceback": [
            "\u001b[0;31m---------------------------------------------------------------------------\u001b[0m",
            "\u001b[0;31mKeyError\u001b[0m                                  Traceback (most recent call last)",
            "\u001b[0;32m<ipython-input-40-fbce4b2eec0c>\u001b[0m in \u001b[0;36m<cell line: 1>\u001b[0;34m()\u001b[0m\n\u001b[0;32m----> 1\u001b[0;31m \u001b[0ms\u001b[0m\u001b[0;34m.\u001b[0m\u001b[0mremove\u001b[0m\u001b[0;34m(\u001b[0m\u001b[0;36m3\u001b[0m\u001b[0;34m)\u001b[0m\u001b[0;34m\u001b[0m\u001b[0;34m\u001b[0m\u001b[0m\n\u001b[0m\u001b[1;32m      2\u001b[0m \u001b[0ms\u001b[0m\u001b[0;34m\u001b[0m\u001b[0;34m\u001b[0m\u001b[0m\n",
            "\u001b[0;31mKeyError\u001b[0m: 3"
          ]
        }
      ]
    },
    {
      "cell_type": "code",
      "source": [
        "s.pop() #임의의숫자 삭제\n",
        "s"
      ],
      "metadata": {
        "colab": {
          "base_uri": "https://localhost:8080/"
        },
        "id": "gT6zk0BYsoJ0",
        "outputId": "cca19e00-78a8-4074-a3fc-90c5565c3555"
      },
      "execution_count": 41,
      "outputs": [
        {
          "output_type": "execute_result",
          "data": {
            "text/plain": [
              "{2, 5}"
            ]
          },
          "metadata": {},
          "execution_count": 41
        }
      ]
    },
    {
      "cell_type": "code",
      "source": [
        "s1 = {1, 2, 3, 4}\n",
        "s2 = {2,3, 5, 6}\n",
        "s1.union(s2) #합집합"
      ],
      "metadata": {
        "colab": {
          "base_uri": "https://localhost:8080/"
        },
        "id": "42Wu3rwctXsS",
        "outputId": "9989947b-69cf-42f6-f1c1-856ead9a8aa7"
      },
      "execution_count": 42,
      "outputs": [
        {
          "output_type": "execute_result",
          "data": {
            "text/plain": [
              "{1, 2, 3, 4, 5, 6}"
            ]
          },
          "metadata": {},
          "execution_count": 42
        }
      ]
    },
    {
      "cell_type": "code",
      "source": [
        "s1.intersection(s2) #교집합"
      ],
      "metadata": {
        "colab": {
          "base_uri": "https://localhost:8080/"
        },
        "id": "PEOpXpwDtj7O",
        "outputId": "90dce871-9d74-4896-8277-54b5f3fbfac6"
      },
      "execution_count": 44,
      "outputs": [
        {
          "output_type": "execute_result",
          "data": {
            "text/plain": [
              "{2, 3}"
            ]
          },
          "metadata": {},
          "execution_count": 44
        }
      ]
    },
    {
      "cell_type": "code",
      "source": [
        "s1.difference(s2) # 차집합 s1 - s2"
      ],
      "metadata": {
        "colab": {
          "base_uri": "https://localhost:8080/"
        },
        "id": "oQ9B6g75tqNM",
        "outputId": "c6106431-8855-4c4e-f355-a1b09c350a08"
      },
      "execution_count": 45,
      "outputs": [
        {
          "output_type": "execute_result",
          "data": {
            "text/plain": [
              "{1, 4}"
            ]
          },
          "metadata": {},
          "execution_count": 45
        }
      ]
    },
    {
      "cell_type": "code",
      "source": [
        "s2.difference(s1) # 차집합 s1 - s2"
      ],
      "metadata": {
        "colab": {
          "base_uri": "https://localhost:8080/"
        },
        "id": "HTlV6jWht9ZS",
        "outputId": "510f4b5d-0e2a-45c3-d847-fd2e587dd5b4"
      },
      "execution_count": 46,
      "outputs": [
        {
          "output_type": "execute_result",
          "data": {
            "text/plain": [
              "{5, 6}"
            ]
          },
          "metadata": {},
          "execution_count": 46
        }
      ]
    },
    {
      "cell_type": "markdown",
      "source": [
        "#dict\n",
        "(자바 Map<String, value>)\n",
        "\n",
        "*dictionary(사전)형식의 데이터 타입.\n",
        "*키(key) 를 기반으로 값(value)를 저장하는 데이터타입\n",
        "    * list, tuple: 인덱스 기반의 데이터 타입\n",
        "    * key-value 기반의 데이터타입\n",
        "    * dict에서 key의 역할은 1개 아이템의 값(value)를 찾기 위한용도"
      ],
      "metadata": {
        "id": "FJjTxmsEx6Hv"
      }
    },
    {
      "cell_type": "code",
      "source": [
        "students = {1: '홍길동', 2:'혀균', 3:'오쌤'} #번호 key 이름 value\n",
        "students"
      ],
      "metadata": {
        "colab": {
          "base_uri": "https://localhost:8080/"
        },
        "id": "v9I6-seWx52T",
        "outputId": "39173563-2449-445a-99a0-c6a0450a2695"
      },
      "execution_count": 49,
      "outputs": [
        {
          "output_type": "execute_result",
          "data": {
            "text/plain": [
              "{1: '홍길동', 2: '혀균', 3: '오쌤'}"
            ]
          },
          "metadata": {},
          "execution_count": 49
        }
      ]
    },
    {
      "cell_type": "code",
      "source": [
        "type(students)"
      ],
      "metadata": {
        "colab": {
          "base_uri": "https://localhost:8080/"
        },
        "id": "4O44lKNPzxcy",
        "outputId": "234ab26f-6813-453e-efd9-9d3ba6cff008"
      },
      "execution_count": 50,
      "outputs": [
        {
          "output_type": "execute_result",
          "data": {
            "text/plain": [
              "dict"
            ]
          },
          "metadata": {},
          "execution_count": 50
        }
      ]
    },
    {
      "cell_type": "markdown",
      "source": [
        "`dict`에서 키를 사용하는 방법은 `list` 또는 `tuple`과 마찬가리로 인덱스 연산자 (`[]`)을 사용함."
      ],
      "metadata": {
        "id": "O4xky7pM0Iqt"
      }
    },
    {
      "cell_type": "code",
      "source": [
        "students[1] #dict에서 key가 1인 아이템의 value"
      ],
      "metadata": {
        "colab": {
          "base_uri": "https://localhost:8080/",
          "height": 35
        },
        "id": "wQQCr1wf0pQT",
        "outputId": "8876fe42-f4bc-4ba0-9de8-90a66951c40e"
      },
      "execution_count": 52,
      "outputs": [
        {
          "output_type": "execute_result",
          "data": {
            "text/plain": [
              "'홍길동'"
            ],
            "application/vnd.google.colaboratory.intrinsic+json": {
              "type": "string"
            }
          },
          "metadata": {},
          "execution_count": 52
        }
      ]
    },
    {
      "cell_type": "code",
      "source": [
        "students[10] = '홍길동' #dict에 새로운 key-value 아이템을 추가\n",
        "students # key는 중복 불가. value는 됨"
      ],
      "metadata": {
        "colab": {
          "base_uri": "https://localhost:8080/"
        },
        "id": "eUNP2BXj06AC",
        "outputId": "a405b10f-8962-4c35-8a01-8f552918e993"
      },
      "execution_count": 54,
      "outputs": [
        {
          "output_type": "execute_result",
          "data": {
            "text/plain": [
              "{1: '홍길동', 2: '혀균', 3: '오쌤', 10: '홍길동'}"
            ]
          },
          "metadata": {},
          "execution_count": 54
        }
      ]
    },
    {
      "cell_type": "code",
      "source": [
        "students[3] = 'scott'\n",
        "students #기존의 키를 사용하면 value값 변경"
      ],
      "metadata": {
        "colab": {
          "base_uri": "https://localhost:8080/"
        },
        "id": "pLMoi8E71W3m",
        "outputId": "955e2cd5-ed7c-44dd-b44d-410fba1eaa81"
      },
      "execution_count": 56,
      "outputs": [
        {
          "output_type": "execute_result",
          "data": {
            "text/plain": [
              "{1: '홍길동', 2: '혀균', 3: 'scott', 10: '홍길동'}"
            ]
          },
          "metadata": {},
          "execution_count": 56
        }
      ]
    },
    {
      "cell_type": "code",
      "source": [
        "students.pop(3) #해당하는 key의 아이템 (key: value)을 삭제\n",
        "students"
      ],
      "metadata": {
        "colab": {
          "base_uri": "https://localhost:8080/",
          "height": 191
        },
        "id": "TBLvh2-y17RL",
        "outputId": "2a3c3401-6350-496e-921e-b956a2de99d1"
      },
      "execution_count": 58,
      "outputs": [
        {
          "output_type": "error",
          "ename": "KeyError",
          "evalue": "ignored",
          "traceback": [
            "\u001b[0;31m---------------------------------------------------------------------------\u001b[0m",
            "\u001b[0;31mKeyError\u001b[0m                                  Traceback (most recent call last)",
            "\u001b[0;32m<ipython-input-58-d60cb0392871>\u001b[0m in \u001b[0;36m<cell line: 1>\u001b[0;34m()\u001b[0m\n\u001b[0;32m----> 1\u001b[0;31m \u001b[0mstudents\u001b[0m\u001b[0;34m.\u001b[0m\u001b[0mpop\u001b[0m\u001b[0;34m(\u001b[0m\u001b[0;36m3\u001b[0m\u001b[0;34m)\u001b[0m \u001b[0;31m#해당하는 key의 아이템 (key: value)을 삭제\u001b[0m\u001b[0;34m\u001b[0m\u001b[0;34m\u001b[0m\u001b[0m\n\u001b[0m\u001b[1;32m      2\u001b[0m \u001b[0mstudents\u001b[0m\u001b[0;34m\u001b[0m\u001b[0;34m\u001b[0m\u001b[0m\n",
            "\u001b[0;31mKeyError\u001b[0m: 3"
          ]
        }
      ]
    },
    {
      "cell_type": "code",
      "source": [
        "book = {\n",
        "    'title':'점프 투 파이썬',\n",
        "    'authors': ['박응용', '웨스 매키니'], #아이템들은 쉼표로 구별\n",
        "    'isbn': 132456789\n",
        "}\n",
        "book"
      ],
      "metadata": {
        "colab": {
          "base_uri": "https://localhost:8080/"
        },
        "id": "b11DTahh2qMS",
        "outputId": "7fb909ba-7c8d-4ee0-ba51-660767b65388"
      },
      "execution_count": 60,
      "outputs": [
        {
          "output_type": "execute_result",
          "data": {
            "text/plain": [
              "{'title': '점프 투 파이썬', 'authors': ['박응용', '웨스 매키니'], 'isbn': 132456789}"
            ]
          },
          "metadata": {},
          "execution_count": 60
        }
      ]
    },
    {
      "cell_type": "code",
      "source": [
        "book['title']"
      ],
      "metadata": {
        "colab": {
          "base_uri": "https://localhost:8080/",
          "height": 35
        },
        "id": "mVN50Fm73Wg7",
        "outputId": "58388e4c-b61c-439f-8e27-f0f5d6c2d8fa"
      },
      "execution_count": 62,
      "outputs": [
        {
          "output_type": "execute_result",
          "data": {
            "text/plain": [
              "'점프 투 파이썬'"
            ],
            "application/vnd.google.colaboratory.intrinsic+json": {
              "type": "string"
            }
          },
          "metadata": {},
          "execution_count": 62
        }
      ]
    },
    {
      "cell_type": "code",
      "source": [
        "book['authors']"
      ],
      "metadata": {
        "colab": {
          "base_uri": "https://localhost:8080/"
        },
        "id": "BzHxs6pA3eog",
        "outputId": "23fd4e18-f186-4ec9-c0ae-a393be742b3e"
      },
      "execution_count": 64,
      "outputs": [
        {
          "output_type": "execute_result",
          "data": {
            "text/plain": [
              "['박응용', '웨스 매키니']"
            ]
          },
          "metadata": {},
          "execution_count": 64
        }
      ]
    },
    {
      "cell_type": "code",
      "source": [
        "book['authors'][0]"
      ],
      "metadata": {
        "colab": {
          "base_uri": "https://localhost:8080/",
          "height": 35
        },
        "id": "02KTDe1n3leI",
        "outputId": "ca3c70e6-c418-4e32-d3af-88c393aa833d"
      },
      "execution_count": 66,
      "outputs": [
        {
          "output_type": "execute_result",
          "data": {
            "text/plain": [
              "'박응용'"
            ],
            "application/vnd.google.colaboratory.intrinsic+json": {
              "type": "string"
            }
          },
          "metadata": {},
          "execution_count": 66
        }
      ]
    },
    {
      "cell_type": "markdown",
      "source": [
        "##dict & for"
      ],
      "metadata": {
        "id": "BkbR-Vcx3zWl"
      }
    },
    {
      "cell_type": "code",
      "source": [
        "contact = {\n",
        "    'no' : 1,\n",
        "    'name': '오쌤',\n",
        "    'phones': ['010-0000-0000', '02-0000-0000'],\n",
        "    'emails': {\n",
        "        'company': 'jaket@itwill.co.kr',\n",
        "        'personal': 'jake@naver.com'\n",
        "    }\n",
        "}\n",
        "contact"
      ],
      "metadata": {
        "colab": {
          "base_uri": "https://localhost:8080/"
        },
        "id": "Cnn9hYlS31ow",
        "outputId": "aa277efc-545e-4b37-82fb-ea0520ba7180"
      },
      "execution_count": 68,
      "outputs": [
        {
          "output_type": "execute_result",
          "data": {
            "text/plain": [
              "{'no': 1,\n",
              " 'name': '오쌤',\n",
              " 'phones': ['010-0000-0000', '02-0000-0000'],\n",
              " 'emails': {'company': 'jaket@itwill.co.kr', 'personal': 'jake@naver.com'}}"
            ]
          },
          "metadata": {},
          "execution_count": 68
        }
      ]
    },
    {
      "cell_type": "code",
      "source": [
        "for k in contact:\n",
        "    print(k)"
      ],
      "metadata": {
        "colab": {
          "base_uri": "https://localhost:8080/"
        },
        "id": "ZtLljOCN4jDT",
        "outputId": "8757a534-2e83-4ecf-f07c-6adf30b7b192"
      },
      "execution_count": 69,
      "outputs": [
        {
          "output_type": "stream",
          "name": "stdout",
          "text": [
            "no\n",
            "name\n",
            "phones\n",
            "emails\n"
          ]
        }
      ]
    },
    {
      "cell_type": "markdown",
      "source": [
        "for in 구문에서 dict를 사용하면 키(key)를 iteration함!"
      ],
      "metadata": {
        "id": "BHoGxcwC41BS"
      }
    },
    {
      "cell_type": "code",
      "source": [
        "for k in contact:\n",
        "    print(k, ':',contact[k])"
      ],
      "metadata": {
        "colab": {
          "base_uri": "https://localhost:8080/"
        },
        "id": "HNYX9BYh5AJS",
        "outputId": "700451c1-01ee-4212-85e1-aeb4d4f87e3b"
      },
      "execution_count": 71,
      "outputs": [
        {
          "output_type": "stream",
          "name": "stdout",
          "text": [
            "no : 1\n",
            "name : 오쌤\n",
            "phones : ['010-0000-0000', '02-0000-0000']\n",
            "emails : {'company': 'jaket@itwill.co.kr', 'personal': 'jake@naver.com'}\n"
          ]
        }
      ]
    },
    {
      "cell_type": "code",
      "source": [
        "contact.keys() # dict의 key들이 리스트를 리턴 (리스트를가지고 있는 객체)"
      ],
      "metadata": {
        "colab": {
          "base_uri": "https://localhost:8080/"
        },
        "id": "uI5YTe4p5fgq",
        "outputId": "140e3ec6-4c6c-4b99-c6fb-d30aa19cbe68"
      },
      "execution_count": 73,
      "outputs": [
        {
          "output_type": "execute_result",
          "data": {
            "text/plain": [
              "dict_keys(['no', 'name', 'phones', 'emails'])"
            ]
          },
          "metadata": {},
          "execution_count": 73
        }
      ]
    },
    {
      "cell_type": "code",
      "source": [
        "contact.values() #dict의 value들의 리스트를 리턴"
      ],
      "metadata": {
        "colab": {
          "base_uri": "https://localhost:8080/"
        },
        "id": "eBH2pIwW5vGw",
        "outputId": "cecc50fc-808c-4c9f-d630-6a71776a1e2d"
      },
      "execution_count": 75,
      "outputs": [
        {
          "output_type": "execute_result",
          "data": {
            "text/plain": [
              "dict_values([1, '오쌤', ['010-0000-0000', '02-0000-0000'], {'company': 'jaket@itwill.co.kr', 'personal': 'jake@naver.com'}])"
            ]
          },
          "metadata": {},
          "execution_count": 75
        }
      ]
    },
    {
      "cell_type": "code",
      "source": [
        "contact.items() #dict에서 (key,value) 튜플들의 리스트를 리턴"
      ],
      "metadata": {
        "colab": {
          "base_uri": "https://localhost:8080/"
        },
        "id": "yuyJXx_G5-Oo",
        "outputId": "845eb72e-95b8-4ad4-bef8-680c08cb5ca9"
      },
      "execution_count": 77,
      "outputs": [
        {
          "output_type": "execute_result",
          "data": {
            "text/plain": [
              "dict_items([('no', 1), ('name', '오쌤'), ('phones', ['010-0000-0000', '02-0000-0000']), ('emails', {'company': 'jaket@itwill.co.kr', 'personal': 'jake@naver.com'})])"
            ]
          },
          "metadata": {},
          "execution_count": 77
        }
      ]
    },
    {
      "cell_type": "code",
      "source": [
        "for k,v in contact.items():\n",
        "    print(k,v)"
      ],
      "metadata": {
        "colab": {
          "base_uri": "https://localhost:8080/"
        },
        "id": "mb9wyTr260Zn",
        "outputId": "cfad5477-1fb8-480b-a94b-a275e312276d"
      },
      "execution_count": 78,
      "outputs": [
        {
          "output_type": "stream",
          "name": "stdout",
          "text": [
            "no 1\n",
            "name 오쌤\n",
            "phones ['010-0000-0000', '02-0000-0000']\n",
            "emails {'company': 'jaket@itwill.co.kr', 'personal': 'jake@naver.com'}\n"
          ]
        }
      ]
    },
    {
      "cell_type": "markdown",
      "source": [
        "##dictionary comprehension"
      ],
      "metadata": {
        "id": "b9qC89z4-9at"
      }
    },
    {
      "cell_type": "code",
      "source": [
        "emp_no= [1001,1002,2001,2002] #직원번호\n",
        "emp_name = ['king', 'Scott', 'Allen','Tiger']\n",
        "#emp_no를 key로 하고 emp_name을 value로 dict를 만들고 출력"
      ],
      "metadata": {
        "id": "5p-WxN3f-8md"
      },
      "execution_count": null,
      "outputs": []
    }
  ]
}