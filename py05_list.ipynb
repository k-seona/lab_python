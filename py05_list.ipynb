{
  "nbformat": 4,
  "nbformat_minor": 0,
  "metadata": {
    "colab": {
      "provenance": [],
      "authorship_tag": "ABX9TyOf27Im4ifTnWdptzaAM7dh",
      "include_colab_link": true
    },
    "kernelspec": {
      "name": "python3",
      "display_name": "Python 3"
    },
    "language_info": {
      "name": "python"
    }
  },
  "cells": [
    {
      "cell_type": "markdown",
      "metadata": {
        "id": "view-in-github",
        "colab_type": "text"
      },
      "source": [
        "<a href=\"https://colab.research.google.com/github/k-seona/lab_python/blob/main/py05_list.ipynb\" target=\"_parent\"><img src=\"https://colab.research.google.com/assets/colab-badge.svg\" alt=\"Open In Colab\"/></a>"
      ]
    },
    {
      "cell_type": "markdown",
      "source": [
        "#list\n",
        "\n",
        "* 여러 개의 값들을 하나의 변수에 저장하기 위한 데이터 타입(자바와 다른점 : 여러개 타입을 넣을 수 있음.)\n",
        "* element(원소, 요소): 리스트에 저장되는 각각의 값\n",
        "* index(인덱스): 리스트에서 원소가 저장된 위치\n",
        "  * 리스트의 인덱스는 **0**부터 시작\n",
        "  * 리스트의 마지막 인덱스는 (원소 개수 -1).\n",
        "* 리스트는 원소들을 추가, 삭제, 변경 할 수 있음.\n",
        "   *`tuple`과 다른 점!\n",
        "\n",
        "```\n",
        "# 코드로 형식 지정됨\n",
        "```\n",
        "\n"
      ],
      "metadata": {
        "id": "i4QZZBnSh3La"
      }
    },
    {
      "cell_type": "code",
      "source": [
        "#숫자들을 저장하는 리스트\n",
        "numbers = [1, 2, 3, 10, 20, 30]\n",
        "numbers"
      ],
      "metadata": {
        "colab": {
          "base_uri": "https://localhost:8080/"
        },
        "id": "nvyfnkBejhrT",
        "outputId": "742e1687-e841-41c2-eb40-43f51a2f701d"
      },
      "execution_count": 1,
      "outputs": [
        {
          "output_type": "execute_result",
          "data": {
            "text/plain": [
              "[1, 2, 3, 10, 20, 30]"
            ]
          },
          "metadata": {},
          "execution_count": 1
        }
      ]
    },
    {
      "cell_type": "markdown",
      "source": [
        "#인덱싱(indexing)\n",
        "인덱스를 사용해서리스트와 원소를 저장하는 리스트"
      ],
      "metadata": {
        "id": "LWAVy4q_ngwh"
      }
    },
    {
      "cell_type": "code",
      "execution_count": 2,
      "metadata": {
        "colab": {
          "base_uri": "https://localhost:8080/"
        },
        "id": "br-qnA3ChqzM",
        "outputId": "6065a712-5743-4fca-a448-ef623d34d7ad"
      },
      "outputs": [
        {
          "output_type": "execute_result",
          "data": {
            "text/plain": [
              "1"
            ]
          },
          "metadata": {},
          "execution_count": 2
        }
      ],
      "source": [
        "numbers [0] #리스트 numbers의 인덱스 0 위치의 원소"
      ]
    },
    {
      "cell_type": "code",
      "source": [
        "numbers [5] #리스트 numbers의 인덱스 5 위치의 원소"
      ],
      "metadata": {
        "colab": {
          "base_uri": "https://localhost:8080/"
        },
        "id": "Viz64YYCoIHo",
        "outputId": "5af2ea61-232b-4a94-9ad8-de8c13f92ead"
      },
      "execution_count": 3,
      "outputs": [
        {
          "output_type": "execute_result",
          "data": {
            "text/plain": [
              "30"
            ]
          },
          "metadata": {},
          "execution_count": 3
        }
      ]
    },
    {
      "cell_type": "code",
      "source": [
        "numbers [-1] #리스트 numbers에서 가장마지막 원소"
      ],
      "metadata": {
        "colab": {
          "base_uri": "https://localhost:8080/"
        },
        "id": "aGiEPFehoYaX",
        "outputId": "5f72e0d2-0802-4de8-8b32-1ed878736598"
      },
      "execution_count": 4,
      "outputs": [
        {
          "output_type": "execute_result",
          "data": {
            "text/plain": [
              "30"
            ]
          },
          "metadata": {},
          "execution_count": 4
        }
      ]
    },
    {
      "cell_type": "code",
      "source": [
        "numbers [-2]#리스트 numbers에서 마지막 두번째 원소"
      ],
      "metadata": {
        "colab": {
          "base_uri": "https://localhost:8080/"
        },
        "id": "bcZdoOa1od8f",
        "outputId": "062d0935-39ea-4d1b-f3a3-828e36272d97"
      },
      "execution_count": 5,
      "outputs": [
        {
          "output_type": "execute_result",
          "data": {
            "text/plain": [
              "20"
            ]
          },
          "metadata": {},
          "execution_count": 5
        }
      ]
    },
    {
      "cell_type": "markdown",
      "source": [
        "#slicing\n",
        "\n",
        "인덱스를 사용해서 리스트의 부분집합(리스트)를 잘라내는 방법\n",
        "\n",
        "`list[start:end]`\n",
        "\n",
        "*start <= index < end 범위의 인덱스 위치의 원소들을 잘라냄\n",
        "*start를 생략한 경우에는 첫번째 원소부터 잘라냄\n",
        "  * `list[0:5]`과 `list[:5]`는 같은 결과\n",
        "*end를 생략한 경우에는 마지막 원소까지 잘라냄.\n",
        "*리스트를 slicing한 결과는 또다른 새로운 **리스트**"
      ],
      "metadata": {
        "id": "bVWMKPSNqL5D"
      }
    },
    {
      "cell_type": "code",
      "source": [
        "numbers[1:4]"
      ],
      "metadata": {
        "colab": {
          "base_uri": "https://localhost:8080/"
        },
        "id": "drGQaIggrqx7",
        "outputId": "bfe3aad8-6409-4135-f97d-e186ea04cd87"
      },
      "execution_count": 6,
      "outputs": [
        {
          "output_type": "execute_result",
          "data": {
            "text/plain": [
              "[2, 3, 10]"
            ]
          },
          "metadata": {},
          "execution_count": 6
        }
      ]
    },
    {
      "cell_type": "code",
      "source": [
        "numbers[3:6]"
      ],
      "metadata": {
        "colab": {
          "base_uri": "https://localhost:8080/"
        },
        "id": "-lnk4qU_siiG",
        "outputId": "0edb5760-40f9-40ab-f5db-a43d95740f64"
      },
      "execution_count": 7,
      "outputs": [
        {
          "output_type": "execute_result",
          "data": {
            "text/plain": [
              "[10, 20, 30]"
            ]
          },
          "metadata": {},
          "execution_count": 7
        }
      ]
    },
    {
      "cell_type": "code",
      "source": [
        "numbers[3:]"
      ],
      "metadata": {
        "colab": {
          "base_uri": "https://localhost:8080/"
        },
        "id": "FeTzIggwssll",
        "outputId": "adda2404-8a97-4028-9cb9-44af8a6e90bc"
      },
      "execution_count": 8,
      "outputs": [
        {
          "output_type": "execute_result",
          "data": {
            "text/plain": [
              "[10, 20, 30]"
            ]
          },
          "metadata": {},
          "execution_count": 8
        }
      ]
    },
    {
      "cell_type": "code",
      "source": [
        "numbers[:3] #리스트에서 앞에서 3개를 선택"
      ],
      "metadata": {
        "colab": {
          "base_uri": "https://localhost:8080/"
        },
        "id": "aTcfc47FtB_8",
        "outputId": "3dd46794-9af1-4c80-8775-ab16da357706"
      },
      "execution_count": 9,
      "outputs": [
        {
          "output_type": "execute_result",
          "data": {
            "text/plain": [
              "[1, 2, 3]"
            ]
          },
          "metadata": {},
          "execution_count": 9
        }
      ]
    },
    {
      "cell_type": "code",
      "source": [
        "numbers[-3:]#리스트에서 뒤에서 3개"
      ],
      "metadata": {
        "colab": {
          "base_uri": "https://localhost:8080/"
        },
        "id": "WIPba87xtX5l",
        "outputId": "ff2c294f-98fc-41e6-c617-c3ad0120ff2b"
      },
      "execution_count": 10,
      "outputs": [
        {
          "output_type": "execute_result",
          "data": {
            "text/plain": [
              "[10, 20, 30]"
            ]
          },
          "metadata": {},
          "execution_count": 10
        }
      ]
    },
    {
      "cell_type": "code",
      "source": [
        "numbers[0:1] #slicing -> 리스트(1개의 리스트)"
      ],
      "metadata": {
        "colab": {
          "base_uri": "https://localhost:8080/"
        },
        "id": "POYbp-i3uMZ3",
        "outputId": "9f2fdd20-15d7-4ad9-d030-c116d886ede2"
      },
      "execution_count": 11,
      "outputs": [
        {
          "output_type": "execute_result",
          "data": {
            "text/plain": [
              "[1]"
            ]
          },
          "metadata": {},
          "execution_count": 11
        }
      ]
    },
    {
      "cell_type": "code",
      "source": [
        "numbers[0] #indexcing -> 값(숫자)(원소1)"
      ],
      "metadata": {
        "colab": {
          "base_uri": "https://localhost:8080/"
        },
        "id": "6L62_qdgujpW",
        "outputId": "86a74f67-d43c-4ac2-9300-84f3eada7bc5"
      },
      "execution_count": 12,
      "outputs": [
        {
          "output_type": "execute_result",
          "data": {
            "text/plain": [
              "1"
            ]
          },
          "metadata": {},
          "execution_count": 12
        }
      ]
    },
    {
      "cell_type": "markdown",
      "source": [
        "#문자열(str)\n",
        "*문자들의 *리스트*\n",
        "*문자열은 인덱스를 사용할 수 있음\n",
        "*indexcion, slicing 가능.\n"
      ],
      "metadata": {
        "id": "Q3mBgtkqvAHt"
      }
    },
    {
      "cell_type": "code",
      "source": [
        "message = '안녕하세요, 여러분!' #11개의 문자들로 이루어진 리스트.\n"
      ],
      "metadata": {
        "id": "FR1c8_jKu-ak"
      },
      "execution_count": 13,
      "outputs": []
    },
    {
      "cell_type": "code",
      "source": [
        "message[0] #문자열에서 첫번째 문자"
      ],
      "metadata": {
        "colab": {
          "base_uri": "https://localhost:8080/",
          "height": 36
        },
        "id": "eABK5yB5vjSn",
        "outputId": "6cd4b730-6ef3-400a-e5af-19b0e73ddeef"
      },
      "execution_count": 14,
      "outputs": [
        {
          "output_type": "execute_result",
          "data": {
            "text/plain": [
              "'안'"
            ],
            "application/vnd.google.colaboratory.intrinsic+json": {
              "type": "string"
            }
          },
          "metadata": {},
          "execution_count": 14
        }
      ]
    },
    {
      "cell_type": "code",
      "source": [
        "message[-1]"
      ],
      "metadata": {
        "colab": {
          "base_uri": "https://localhost:8080/",
          "height": 36
        },
        "id": "cFAmyVQQv7XM",
        "outputId": "7512119f-137f-4f49-b541-37f17467da9b"
      },
      "execution_count": 15,
      "outputs": [
        {
          "output_type": "execute_result",
          "data": {
            "text/plain": [
              "'!'"
            ],
            "application/vnd.google.colaboratory.intrinsic+json": {
              "type": "string"
            }
          },
          "metadata": {},
          "execution_count": 15
        }
      ]
    },
    {
      "cell_type": "code",
      "source": [
        "message[:3] # 문자열에서 앞에서 3글자"
      ],
      "metadata": {
        "colab": {
          "base_uri": "https://localhost:8080/",
          "height": 36
        },
        "id": "9aVPtPEewPVr",
        "outputId": "808f9c7d-175f-4d1b-ac38-4a8e6de1ee30"
      },
      "execution_count": 16,
      "outputs": [
        {
          "output_type": "execute_result",
          "data": {
            "text/plain": [
              "'안녕하'"
            ],
            "application/vnd.google.colaboratory.intrinsic+json": {
              "type": "string"
            }
          },
          "metadata": {},
          "execution_count": 16
        }
      ]
    },
    {
      "cell_type": "code",
      "source": [
        "message[-3:] #문자열에서 뒤에서 3글자"
      ],
      "metadata": {
        "colab": {
          "base_uri": "https://localhost:8080/",
          "height": 36
        },
        "id": "0Qqw0r_3wUwt",
        "outputId": "e6046229-1ba4-477e-b3cf-520ec136113f"
      },
      "execution_count": 17,
      "outputs": [
        {
          "output_type": "execute_result",
          "data": {
            "text/plain": [
              "'러분!'"
            ],
            "application/vnd.google.colaboratory.intrinsic+json": {
              "type": "string"
            }
          },
          "metadata": {},
          "execution_count": 17
        }
      ]
    },
    {
      "cell_type": "code",
      "source": [
        "#문자열 산술 연산 : +, *\n",
        "print('hello' + 'python')\n",
        "print('hello' * 3)"
      ],
      "metadata": {
        "colab": {
          "base_uri": "https://localhost:8080/"
        },
        "id": "2_rbZIRWwek-",
        "outputId": "ec848ebb-e3a5-4e41-a59a-0576838c0992"
      },
      "execution_count": 18,
      "outputs": [
        {
          "output_type": "stream",
          "name": "stdout",
          "text": [
            "hellopython\n",
            "hellohellohello\n"
          ]
        }
      ]
    },
    {
      "cell_type": "markdown",
      "source": [
        "#리스트의 산술 연산\n",
        "\n",
        "* `list + list `\n",
        "* `list * int` 또는 `int * list`"
      ],
      "metadata": {
        "id": "b0miG9S0xLl4"
      }
    },
    {
      "cell_type": "code",
      "source": [
        "[1,2,3] + [4,5,6]"
      ],
      "metadata": {
        "colab": {
          "base_uri": "https://localhost:8080/"
        },
        "id": "tMa7H_l0xi9N",
        "outputId": "63b9d0e2-9b99-4ef4-8eab-eea769057b7a"
      },
      "execution_count": 19,
      "outputs": [
        {
          "output_type": "execute_result",
          "data": {
            "text/plain": [
              "[1, 2, 3, 4, 5, 6]"
            ]
          },
          "metadata": {},
          "execution_count": 19
        }
      ]
    },
    {
      "cell_type": "code",
      "source": [
        "[1, 2, 3] * 3"
      ],
      "metadata": {
        "colab": {
          "base_uri": "https://localhost:8080/"
        },
        "id": "Dpiktfu8xpEc",
        "outputId": "e69301b0-3769-4d0e-ee0c-1e763742df9a"
      },
      "execution_count": 20,
      "outputs": [
        {
          "output_type": "execute_result",
          "data": {
            "text/plain": [
              "[1, 2, 3, 1, 2, 3, 1, 2, 3]"
            ]
          },
          "metadata": {},
          "execution_count": 20
        }
      ]
    },
    {
      "cell_type": "code",
      "source": [
        "for x in 'hello':\n",
        "  print(x)"
      ],
      "metadata": {
        "colab": {
          "base_uri": "https://localhost:8080/"
        },
        "id": "7uKosDe52eKD",
        "outputId": "a03129cd-c455-4b52-d43c-99ef3db92336"
      },
      "execution_count": 21,
      "outputs": [
        {
          "output_type": "stream",
          "name": "stdout",
          "text": [
            "h\n",
            "e\n",
            "l\n",
            "l\n",
            "o\n"
          ]
        }
      ]
    },
    {
      "cell_type": "code",
      "source": [
        "numbers=[1,10,5,100]\n",
        "for x in numbers:\n",
        "  print(x)"
      ],
      "metadata": {
        "colab": {
          "base_uri": "https://localhost:8080/"
        },
        "id": "i-IUFsyx2n8U",
        "outputId": "0c1a3ab0-b36c-4c5e-ca22-bbee593415d0"
      },
      "execution_count": 22,
      "outputs": [
        {
          "output_type": "stream",
          "name": "stdout",
          "text": [
            "1\n",
            "10\n",
            "5\n",
            "100\n"
          ]
        }
      ]
    },
    {
      "cell_type": "code",
      "source": [
        "for i in range(len(numbers)): # 0 <=X <len\n",
        "  print(i, ':',numbers[i])"
      ],
      "metadata": {
        "colab": {
          "base_uri": "https://localhost:8080/"
        },
        "id": "6iOBu_Zl27mN",
        "outputId": "dacbcb8a-bffd-4c0a-e2a2-692aa712e84e"
      },
      "execution_count": 23,
      "outputs": [
        {
          "output_type": "stream",
          "name": "stdout",
          "text": [
            "0 : 1\n",
            "1 : 10\n",
            "2 : 5\n",
            "3 : 100\n"
          ]
        }
      ]
    },
    {
      "cell_type": "code",
      "source": [
        "for i, v in enumerate(numbers):\n",
        "  print(i, ':', v)"
      ],
      "metadata": {
        "colab": {
          "base_uri": "https://localhost:8080/"
        },
        "id": "-eVEAnAm4SRr",
        "outputId": "307fae6f-102c-4894-f28d-5b833e67ccc8"
      },
      "execution_count": 24,
      "outputs": [
        {
          "output_type": "stream",
          "name": "stdout",
          "text": [
            "0 : 1\n",
            "1 : 10\n",
            "2 : 5\n",
            "3 : 100\n"
          ]
        }
      ]
    },
    {
      "cell_type": "code",
      "source": [
        "numbers1=[1,2,3]\n",
        "numbers2 = [10, 11, 12]\n",
        "#numbers1과 numbers2의 같은 인덱스의 원소들끼리의 합을 원소로 갖는리스트.\n",
        "#[11, 13, 15]\n",
        "result = []\n",
        "for i in range(len(numbers1)):\n",
        "  result.append(numbers1[i] + numbers2[i])\n",
        "result"
      ],
      "metadata": {
        "colab": {
          "base_uri": "https://localhost:8080/"
        },
        "id": "s8VVxuYc57z4",
        "outputId": "e3b069f1-6664-4760-e1eb-4fd5fdf27db6"
      },
      "execution_count": 25,
      "outputs": [
        {
          "output_type": "execute_result",
          "data": {
            "text/plain": [
              "[11, 13, 15]"
            ]
          },
          "metadata": {},
          "execution_count": 25
        }
      ]
    },
    {
      "cell_type": "code",
      "source": [
        "result = []\n",
        "for x, y in zip(numbers1, numbers2):\n",
        "  result.append(x+ y)\n",
        "result"
      ],
      "metadata": {
        "colab": {
          "base_uri": "https://localhost:8080/"
        },
        "id": "3rPYqU9V66pw",
        "outputId": "b93d8d1b-f035-44c6-a4c0-781396d64ab9"
      },
      "execution_count": 26,
      "outputs": [
        {
          "output_type": "execute_result",
          "data": {
            "text/plain": [
              "[11, 13, 15]"
            ]
          },
          "metadata": {},
          "execution_count": 26
        }
      ]
    },
    {
      "cell_type": "markdown",
      "source": [
        "파이썬에 난수를 만드는 방법"
      ],
      "metadata": {
        "id": "76nGKYD1-F3Z"
      }
    },
    {
      "cell_type": "code",
      "source": [
        "import random # random 모듈을 임포트"
      ],
      "metadata": {
        "id": "e800kA6g8AA_"
      },
      "execution_count": 27,
      "outputs": []
    },
    {
      "cell_type": "code",
      "source": [
        "# random모듈의 random()함수를 호출\n",
        "random.random() #[0, 1) 범위 (0 <= x < 1)의 실수 난수를 리턴."
      ],
      "metadata": {
        "colab": {
          "base_uri": "https://localhost:8080/"
        },
        "id": "cZJogTUY-bMO",
        "outputId": "a7805ba3-22ac-4dbf-e095-8e1100da8f37"
      },
      "execution_count": 28,
      "outputs": [
        {
          "output_type": "execute_result",
          "data": {
            "text/plain": [
              "0.2797524324563261"
            ]
          },
          "metadata": {},
          "execution_count": 28
        }
      ]
    },
    {
      "cell_type": "code",
      "source": [
        "#random 모듈의 randrange()함수를 호출\n",
        "random.randrange(10) #[0,10)\n"
      ],
      "metadata": {
        "colab": {
          "base_uri": "https://localhost:8080/"
        },
        "id": "Z8CbrHNc_D6f",
        "outputId": "b3b6c655-1309-4c9b-8073-042b99295175"
      },
      "execution_count": 29,
      "outputs": [
        {
          "output_type": "execute_result",
          "data": {
            "text/plain": [
              "4"
            ]
          },
          "metadata": {},
          "execution_count": 29
        }
      ]
    },
    {
      "cell_type": "code",
      "source": [
        "random.randrange(1,4) # [1,4)"
      ],
      "metadata": {
        "colab": {
          "base_uri": "https://localhost:8080/"
        },
        "id": "2rGXYmr3_eVQ",
        "outputId": "32b08c34-5555-4029-be78-742f3a8b6775"
      },
      "execution_count": 30,
      "outputs": [
        {
          "output_type": "execute_result",
          "data": {
            "text/plain": [
              "2"
            ]
          },
          "metadata": {},
          "execution_count": 30
        }
      ]
    },
    {
      "cell_type": "markdown",
      "source": [
        "## Ex 1.\n",
        "\n",
        "1. 빈 리스트를 생성.\n",
        "1. 1 이상 10 이하의 정수 난수 5개를 저장.\n",
        "1. 리스트의 모든 정수들의 합을 출력.\n",
        "1. 리스트의 모든 정수들의 평균을 출력."
      ],
      "metadata": {
        "id": "pKn2cstYCmDU"
      }
    },
    {
      "cell_type": "code",
      "source": [
        "numbers=[]\n",
        "for i in range(5):\n",
        "  number = random.randrange(1,11)\n",
        "  numbers.append(number)\n",
        "\n",
        "print(numbers)\n",
        "count = 0 #sum = 0 sum사용 ㄴㄴ\n",
        "\n",
        "for i in numbers:\n",
        "  count += i\n",
        "print('count',count)\n",
        "print(f'count = {count}')\n",
        "print('avg',count / len(numbers))\n"
      ],
      "metadata": {
        "id": "pJz8qOvx_xIG",
        "colab": {
          "base_uri": "https://localhost:8080/"
        },
        "outputId": "79ae1e26-c18e-42fb-c699-bad1c49ec894"
      },
      "execution_count": 41,
      "outputs": [
        {
          "output_type": "stream",
          "name": "stdout",
          "text": [
            "[3, 9, 9, 1, 9]\n",
            "count 31\n",
            "count = 31\n",
            "avg 6.2\n"
          ]
        }
      ]
    },
    {
      "cell_type": "code",
      "source": [
        "numbers = []\n",
        "numbers = [random.randrange(1,11) for x in range(5) ]\n",
        "print(numbers)\n",
        "\n",
        "count = 0\n",
        "for x in numbers:\n",
        "    count += x\n",
        "print('count',count)\n",
        "print('avg',count / len(numbers))"
      ],
      "metadata": {
        "colab": {
          "base_uri": "https://localhost:8080/"
        },
        "id": "Uau1zPbaveAm",
        "outputId": "926685c2-38e8-4014-a8f9-aa233057dffa"
      },
      "execution_count": 104,
      "outputs": [
        {
          "output_type": "stream",
          "name": "stdout",
          "text": [
            "[3, 4, 9, 9, 9]\n",
            "count 34\n",
            "avg 6.8\n"
          ]
        }
      ]
    },
    {
      "cell_type": "markdown",
      "source": [
        "## Ex 2.\n",
        "\n",
        "1. 빈 리스트(numbers)를 생성.\n",
        "1. 10 이상, 100 미만의 정수 난수 10개를 numbers에 저장.\n",
        "1. numbers에서 짝수들만 선택해서 evens 리스트를 만들고 출력.\n",
        "1. numbers에서 홀수들만 선택해서 odds 리스트를 만들고 출력."
      ],
      "metadata": {
        "id": "jcTNowvbA0Bt"
      }
    },
    {
      "cell_type": "code",
      "source": [
        "numbers = []\n",
        "for i in range(10):\n",
        "  #number = random.randrange(10, 99)\n",
        "  #numbers.append(number)\n",
        "  numbers.append(random.randrange(10,100))\n",
        "print(numbers)\n",
        "\n",
        "evens = []\n",
        "odds = []\n",
        "for i in range(len(numbers)):\n",
        "  if numbers[i] % 2 == 0:\n",
        "    evens.append(numbers[i])\n",
        "  else:\n",
        "    odds.append(numbers[i])\n",
        "print('evens', evens)\n",
        "print('odds',odds)\n"
      ],
      "metadata": {
        "colab": {
          "base_uri": "https://localhost:8080/"
        },
        "id": "1MwSEKONJ6-J",
        "outputId": "5608e418-c176-4b01-d2de-2415e8ae07a7"
      },
      "execution_count": 44,
      "outputs": [
        {
          "output_type": "stream",
          "name": "stdout",
          "text": [
            "[43, 64, 14, 68, 89, 22, 35, 24, 47, 30]\n",
            "evens [64, 14, 68, 22, 24, 30]\n",
            "odds [43, 89, 35, 47]\n"
          ]
        }
      ]
    },
    {
      "cell_type": "code",
      "source": [
        "numbers = [random.randrange(10,100) for _ in range(10) ]\n",
        "print('num', numbers)\n",
        "\n",
        "evens = [i for i in numbers if i % 2 == 0]\n",
        "print('e', evens)\n",
        "\n",
        "odd = [x for x in numbers if x % 2]\n",
        "print('o',odd)"
      ],
      "metadata": {
        "colab": {
          "base_uri": "https://localhost:8080/"
        },
        "id": "uin8Gtc9ybz2",
        "outputId": "93ae4474-ed0a-4f3b-9b58-730ae9c6236d"
      },
      "execution_count": 123,
      "outputs": [
        {
          "output_type": "stream",
          "name": "stdout",
          "text": [
            "num [53, 50, 56, 16, 66, 71, 77, 75, 26, 69]\n",
            "e [50, 56, 16, 66, 26]\n",
            "o [53, 71, 77, 75, 69]\n"
          ]
        }
      ]
    },
    {
      "cell_type": "markdown",
      "source": [
        "## Ex 3.\n",
        "\n",
        "1. 빈 리스트 numbers를 만듦.\n",
        "1. -10 이상 10 이하인 범위의 정수 난수 10개를 numbers에 저장.\n",
        "1. numbers의 원소가 양수이면 True, 그렇지 않으면 False를 저장하는 is_positive 리스트를 만들고 출력."
      ],
      "metadata": {
        "id": "y6jJtZ0KAxsV"
      }
    },
    {
      "cell_type": "code",
      "source": [
        "numbers = []\n",
        "is_positive = []\n",
        "\n",
        "for i in range(10):\n",
        "    number = random.randrange(-10, 10)\n",
        "    numbers.append(random.randrange(-10, 10))\n",
        "    if number > 0:\n",
        "      is_positive.append('True')\n",
        "    else:\n",
        "      is_positive.append('False')\n",
        "\n",
        "print(numbers)\n",
        "print(is_positive)"
      ],
      "metadata": {
        "colab": {
          "base_uri": "https://localhost:8080/"
        },
        "id": "mouAjM1BBBaA",
        "outputId": "b2931ebc-9cc7-430a-819f-41f24fbe5f35"
      },
      "execution_count": 60,
      "outputs": [
        {
          "output_type": "stream",
          "name": "stdout",
          "text": [
            "[2, -4, -1, -9, -9, 3, 2, -6, 6, 0]\n",
            "['False', 'True', 'True', 'False', 'False', 'False', 'False', 'False', 'True', 'False']\n"
          ]
        }
      ]
    },
    {
      "cell_type": "code",
      "source": [
        "# 삼항 연산자 x\n",
        "x = -1\n",
        "is_positive = True if x > 0 else False # <=삼항 연산자\n",
        "\n",
        "is_positive"
      ],
      "metadata": {
        "colab": {
          "base_uri": "https://localhost:8080/"
        },
        "id": "ZW3lVlWP8ai5",
        "outputId": "2e87fd70-c95f-445d-92c1-d325e503768b"
      },
      "execution_count": 133,
      "outputs": [
        {
          "output_type": "execute_result",
          "data": {
            "text/plain": [
              "False"
            ]
          },
          "metadata": {},
          "execution_count": 133
        }
      ]
    },
    {
      "cell_type": "code",
      "source": [
        "numbers = [random.randrange(-10,11) for _ in range(10) ]\n",
        "print('num', numbers)\n",
        "\n",
        "is_positive = [True if x > 0 else False for x in numbers]\n",
        "print(is_positive)\n",
        "\n",
        "\n"
      ],
      "metadata": {
        "colab": {
          "base_uri": "https://localhost:8080/"
        },
        "id": "nL8H6dAT3mFF",
        "outputId": "8e0bec2c-2874-4651-85c3-259b970722f2"
      },
      "execution_count": 137,
      "outputs": [
        {
          "output_type": "stream",
          "name": "stdout",
          "text": [
            "num [3, 7, -6, 10, -1, 9, -8, -6, 1, -1]\n",
            "[True, True, False, True, False, True, False, False, True, False]\n"
          ]
        }
      ]
    },
    {
      "cell_type": "markdown",
      "source": [
        "## Ex 4.\n",
        "\n",
        "1. gender_codes 리스트에 0 또는 1을 랜덤하게 10개를 저장.\n",
        "1. gender_codes의 값이 0이면 'Male', 그렇지 않으며 'Female'을 저장하는 genders 리스트를 만들고 출력."
      ],
      "metadata": {
        "id": "a0mKXvbMA6d9"
      }
    },
    {
      "cell_type": "code",
      "source": [
        "gender_codes = []\n",
        "genders = []\n",
        "for i in range(10):\n",
        "  code = random.randrange(0, 2)\n",
        "  gender_codes.append(code)\n",
        "\n",
        "  if code == 0:\n",
        "    genders.append('Male')\n",
        "  else:\n",
        "    genders.append('Femal')\n",
        "print(gender_codes)\n",
        "print(genders)"
      ],
      "metadata": {
        "colab": {
          "base_uri": "https://localhost:8080/"
        },
        "id": "9cyYGOoECFif",
        "outputId": "00d638fc-a5d1-469c-f13b-318204f7d2bb"
      },
      "execution_count": 34,
      "outputs": [
        {
          "output_type": "stream",
          "name": "stdout",
          "text": [
            "[0, 0, 1, 1, 1, 1, 1, 1, 1, 0]\n",
            "['Male', 'Male', 'Femal', 'Femal', 'Femal', 'Femal', 'Femal', 'Femal', 'Femal', 'Male']\n"
          ]
        }
      ]
    },
    {
      "cell_type": "code",
      "source": [
        "gender_codes = [random.randrange(0,2) for _ in range(10)]\n",
        "print(gender_codes)\n",
        "\n",
        "genders = ['Male' if x == 0 else 'Female' for x in gender_codes]\n",
        "print(genders)"
      ],
      "metadata": {
        "colab": {
          "base_uri": "https://localhost:8080/"
        },
        "id": "0vYhe4SQ9z7p",
        "outputId": "e299a64f-24ca-4a0e-e197-ebdc3d69130e"
      },
      "execution_count": 149,
      "outputs": [
        {
          "output_type": "stream",
          "name": "stdout",
          "text": [
            "[1, 1, 1, 1, 0, 1, 0, 0, 1, 1]\n",
            "['Female', 'Female', 'Female', 'Female', 'Male', 'Female', 'Male', 'Male', 'Female', 'Female']\n"
          ]
        }
      ]
    },
    {
      "cell_type": "code",
      "source": [
        "gender_codes =[1,2,1,2,3]\n",
        "# 1 -> m 2->f ,3->unknwon\n",
        "genders = ['Male' if x == 1 else 'Femal' if x == 2 else 'unknwon' for x in gender_codes]\n",
        "print(genders)"
      ],
      "metadata": {
        "colab": {
          "base_uri": "https://localhost:8080/"
        },
        "id": "29MtdIh-A_ip",
        "outputId": "3511e351-416e-483f-a253-2fe94f3b8a3a"
      },
      "execution_count": 150,
      "outputs": [
        {
          "output_type": "stream",
          "name": "stdout",
          "text": [
            "['Male', 'Femal', 'Male', 'Femal', 'unknwon']\n"
          ]
        }
      ]
    },
    {
      "cell_type": "markdown",
      "source": [
        "## Ex 5.\n",
        "\n",
        "1. `numbers1`: 100 미만의 정수 난수 10개를 저장하는 리스트.\n",
        "1. `numbers2`: 100 미만의 정수 난수 10개를 저장하는 리스트.\n",
        "1. `multiplication`: `numbers1`과 `numbers2`의 같은 인덱스에 있는 원소들끼리의 곱셈 결과를 저장하는 리스트.\n",
        "1. `subtraction`: `numbers1`의 원소에서 같은 인덱스에 있는 `numbers2`의 원소를 뺀 값을 저장하는 리스트.\n",
        "\n",
        "`numbers1`, `numbers2`, `multiplication`, `subtraction`를 출력."
      ],
      "metadata": {
        "id": "wO5QjPBNA83f"
      }
    },
    {
      "cell_type": "code",
      "source": [
        "numbers1 = []\n",
        "numbers2 = []\n",
        "\n",
        "multiplication = [] #곱\n",
        "subtraction = [] #n1-n2\n",
        "\n",
        "for i in range(10):\n",
        "  number1 = random.randrange(100)\n",
        "  number2 = random.randrange(100)\n",
        "  numbers2.append(number2)\n",
        "  numbers1.append(number1)\n",
        "\n",
        "  multiplication.append(number1 * number2)\n",
        "  subtraction.append(number1 - number2)\n",
        "print('num1',numbers1)\n",
        "print('num2',numbers2)\n",
        "print('mul',multiplication)\n",
        "print('sub',subtraction)\n"
      ],
      "metadata": {
        "colab": {
          "base_uri": "https://localhost:8080/"
        },
        "id": "naInOycnFDg4",
        "outputId": "4df1b6e9-bfb6-44b8-8f59-8a1f83e5eada"
      },
      "execution_count": 63,
      "outputs": [
        {
          "output_type": "stream",
          "name": "stdout",
          "text": [
            "num1 [69, 83, 85, 6, 40, 63, 3, 92, 92, 45]\n",
            "num2 [8, 18, 6, 32, 90, 2, 43, 76, 65, 39]\n",
            "mul [552, 1494, 510, 192, 3600, 126, 129, 6992, 5980, 1755]\n",
            "sub [61, 65, 79, -26, -50, 61, -40, 16, 27, 6]\n"
          ]
        }
      ]
    },
    {
      "cell_type": "code",
      "source": [
        "numbers1 = [random.randrange(100) for _ in range(10) ]\n",
        "print('num1', numbers1)\n",
        "numbers2 = [random.randrange(100) for _ in range(10) ]\n",
        "print('num2', numbers2)\n",
        "\n",
        "multiplication = [x * y for x,y in zip(numbers1, numbers2) ]\n",
        "print(multiplication)\n",
        "subtraction = [x - y for x,y in zip(numbers1, numbers2) ]\n",
        "print(subtraction)"
      ],
      "metadata": {
        "colab": {
          "base_uri": "https://localhost:8080/"
        },
        "id": "2ZeEjGJF_AUD",
        "outputId": "3a440ea9-4827-4e3d-f5cb-09487087df7e"
      },
      "execution_count": 148,
      "outputs": [
        {
          "output_type": "stream",
          "name": "stdout",
          "text": [
            "num1 [43, 68, 18, 21, 26, 81, 23, 60, 31, 50]\n",
            "num2 [15, 30, 34, 8, 4, 9, 83, 86, 37, 85]\n",
            "[645, 2040, 612, 168, 104, 729, 1909, 5160, 1147, 4250]\n",
            "[28, 38, -16, 13, 22, 72, -60, -26, -6, -35]\n"
          ]
        }
      ]
    },
    {
      "cell_type": "code",
      "source": [],
      "metadata": {
        "id": "026EzExSA2eH"
      },
      "execution_count": null,
      "outputs": []
    },
    {
      "cell_type": "markdown",
      "source": [
        "#List comprehension(리스트내포)\n"
      ],
      "metadata": {
        "id": "EdYZRyr_sUbU"
      }
    },
    {
      "cell_type": "markdown",
      "source": [
        "1 ~ 10 정수들을 순서대로 리스트에 저장 `[1, 2, 3, ..., 9, 10 ]`"
      ],
      "metadata": {
        "id": "costCuYXsvQ6"
      }
    },
    {
      "cell_type": "code",
      "source": [
        "numbers = []\n",
        "for x in range(1, 11):\n",
        "    numbers.append(x)\n",
        "numbers\n",
        "\n",
        "# 이걸 한줄로 줄이면 컴프리 핸션"
      ],
      "metadata": {
        "colab": {
          "base_uri": "https://localhost:8080/"
        },
        "id": "rSZPpaQHs96U",
        "outputId": "1d2dcd78-89f9-4f60-c11f-35aed3e163af"
      },
      "execution_count": 65,
      "outputs": [
        {
          "output_type": "execute_result",
          "data": {
            "text/plain": [
              "[1, 2, 3, 4, 5, 6, 7, 8, 9, 10]"
            ]
          },
          "metadata": {},
          "execution_count": 65
        }
      ]
    },
    {
      "cell_type": "code",
      "source": [
        "#comprehension\n",
        "numbers = [x for x in range(1,11)] # 두번쨰 x = range에서 찾는거.\n",
        "numbers"
      ],
      "metadata": {
        "colab": {
          "base_uri": "https://localhost:8080/"
        },
        "id": "mxx_5qqetaj5",
        "outputId": "a1fd0ae3-a68d-4736-b2ce-569b8c974b86"
      },
      "execution_count": 69,
      "outputs": [
        {
          "output_type": "execute_result",
          "data": {
            "text/plain": [
              "[1, 2, 3, 4, 5, 6, 7, 8, 9, 10]"
            ]
          },
          "metadata": {},
          "execution_count": 69
        }
      ]
    },
    {
      "cell_type": "code",
      "source": [
        "# [1,4,9,14,16,...,100]\n",
        "squares = [x*x for x in range (1,11)]\n",
        "squares"
      ],
      "metadata": {
        "colab": {
          "base_uri": "https://localhost:8080/"
        },
        "id": "UMksL2NEt1Q8",
        "outputId": "3fd5cd5b-9a96-4045-ed4b-e770b8ab911d"
      },
      "execution_count": 70,
      "outputs": [
        {
          "output_type": "execute_result",
          "data": {
            "text/plain": [
              "[1, 4, 9, 16, 25, 36, 49, 64, 81, 100]"
            ]
          },
          "metadata": {},
          "execution_count": 70
        }
      ]
    },
    {
      "cell_type": "code",
      "source": [
        "#난수 10개를저장하는 리스트를 만들기 0이상~10미만\n",
        "numbers = [random.randrange(10) for x in range(10) ]\n",
        "\n",
        "numbers"
      ],
      "metadata": {
        "colab": {
          "base_uri": "https://localhost:8080/"
        },
        "id": "_Mz2uXviuhbl",
        "outputId": "4df8bce2-46a0-4950-e00a-bf7a7d42f6ea"
      },
      "execution_count": 82,
      "outputs": [
        {
          "output_type": "execute_result",
          "data": {
            "text/plain": [
              "[4, 7, 2, 2, 2, 3, 6, 7, 5, 4]"
            ]
          },
          "metadata": {},
          "execution_count": 82
        }
      ]
    }
  ]
}