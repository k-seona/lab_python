{
  "nbformat": 4,
  "nbformat_minor": 0,
  "metadata": {
    "colab": {
      "provenance": [],
      "authorship_tag": "ABX9TyOWk5jZxEpgT7zcraDRYSPX",
      "include_colab_link": true
    },
    "kernelspec": {
      "name": "python3",
      "display_name": "Python 3"
    },
    "language_info": {
      "name": "python"
    }
  },
  "cells": [
    {
      "cell_type": "markdown",
      "metadata": {
        "id": "view-in-github",
        "colab_type": "text"
      },
      "source": [
        "<a href=\"https://colab.research.google.com/github/k-seona/lab_python/blob/main/py05_list.ipynb\" target=\"_parent\"><img src=\"https://colab.research.google.com/assets/colab-badge.svg\" alt=\"Open In Colab\"/></a>"
      ]
    },
    {
      "cell_type": "markdown",
      "source": [
        "#list\n",
        "\n",
        "* 여러 개의 값들을 하나의 변수에 저장하기 위한 데이터 타입(자바와 다른점 : 여러개 타입을 넣을 수 있음.)\n",
        "* element(원소, 요소): 리스트에 저장되는 각각의 값\n",
        "* index(인덱스): 리스트에서 원소가 저장된 위치\n",
        "  * 리스트의 인덱스는 **0**부터 시작\n",
        "  * 리스트의 마지막 인덱스는 (원소 개수 -1).\n",
        "* 리스트는 원소들을 추가, 삭제, 변경 할 수 있음.\n",
        "   *`tuple`과 다른 점!\n",
        "\n",
        "```\n",
        "# 코드로 형식 지정됨\n",
        "```\n",
        "\n"
      ],
      "metadata": {
        "id": "i4QZZBnSh3La"
      }
    },
    {
      "cell_type": "code",
      "source": [
        "#숫자들을 저장하는 리스트\n",
        "numbers = [1, 2, 3, 10, 20, 30]\n",
        "numbers"
      ],
      "metadata": {
        "colab": {
          "base_uri": "https://localhost:8080/"
        },
        "id": "nvyfnkBejhrT",
        "outputId": "eb035955-f777-4227-f0eb-2bf1ea33ef86"
      },
      "execution_count": null,
      "outputs": [
        {
          "output_type": "execute_result",
          "data": {
            "text/plain": [
              "[1, 2, 3, 10, 20, 30]"
            ]
          },
          "metadata": {},
          "execution_count": 4
        }
      ]
    },
    {
      "cell_type": "markdown",
      "source": [
        "#인덱싱(indexing)\n",
        "인덱스를 사용해서리스트와 원소를 저장하는 리스트"
      ],
      "metadata": {
        "id": "LWAVy4q_ngwh"
      }
    },
    {
      "cell_type": "code",
      "execution_count": null,
      "metadata": {
        "colab": {
          "base_uri": "https://localhost:8080/"
        },
        "id": "br-qnA3ChqzM",
        "outputId": "3b712be7-68fe-4415-b798-a85eee5ed0f4"
      },
      "outputs": [
        {
          "output_type": "execute_result",
          "data": {
            "text/plain": [
              "1"
            ]
          },
          "metadata": {},
          "execution_count": 9
        }
      ],
      "source": [
        "numbers [0] #리스트 numbers의 인덱스 0 위치의 원소"
      ]
    },
    {
      "cell_type": "code",
      "source": [
        "numbers [5] #리스트 numbers의 인덱스 5 위치의 원소"
      ],
      "metadata": {
        "colab": {
          "base_uri": "https://localhost:8080/"
        },
        "id": "Viz64YYCoIHo",
        "outputId": "396d8889-d9fd-4f74-a555-a0c369d9a75b"
      },
      "execution_count": null,
      "outputs": [
        {
          "output_type": "execute_result",
          "data": {
            "text/plain": [
              "30"
            ]
          },
          "metadata": {},
          "execution_count": 12
        }
      ]
    },
    {
      "cell_type": "code",
      "source": [
        "numbers [-1] #리스트 numbers에서 가장마지막 원소"
      ],
      "metadata": {
        "colab": {
          "base_uri": "https://localhost:8080/"
        },
        "id": "aGiEPFehoYaX",
        "outputId": "ec6a17f0-316c-48a8-bc89-11abb7cd3843"
      },
      "execution_count": null,
      "outputs": [
        {
          "output_type": "execute_result",
          "data": {
            "text/plain": [
              "30"
            ]
          },
          "metadata": {},
          "execution_count": 14
        }
      ]
    },
    {
      "cell_type": "code",
      "source": [
        "numbers [-2]#리스트 numbers에서 마지막 두번째 원소"
      ],
      "metadata": {
        "colab": {
          "base_uri": "https://localhost:8080/"
        },
        "id": "bcZdoOa1od8f",
        "outputId": "0c715dd8-ec5e-4854-9677-060fb3abbf5d"
      },
      "execution_count": null,
      "outputs": [
        {
          "output_type": "execute_result",
          "data": {
            "text/plain": [
              "20"
            ]
          },
          "metadata": {},
          "execution_count": 17
        }
      ]
    },
    {
      "cell_type": "markdown",
      "source": [
        "#slicing\n",
        "\n",
        "인덱스를 사용해서 리스트의 부분집합(리스트)를 잘라내는 방법\n",
        "\n",
        "`list[start:end]`\n",
        "\n",
        "*start <= index < end 범위의 인덱스 위치의 원소들을 잘라냄\n",
        "*start를 생략한 경우에는 첫번째 원소부터 잘라냄\n",
        "  * `list[0:5]`과 `list[:5]`는 같은 결과\n",
        "*end를 생략한 경우에는 마지막 원소까지 잘라냄.\n",
        "*리스트를 slicing한 결과는 또다른 새로운 **리스트**"
      ],
      "metadata": {
        "id": "bVWMKPSNqL5D"
      }
    },
    {
      "cell_type": "code",
      "source": [
        "numbers[1:4]"
      ],
      "metadata": {
        "colab": {
          "base_uri": "https://localhost:8080/"
        },
        "id": "drGQaIggrqx7",
        "outputId": "78976f12-5793-470d-891b-49684223c6ee"
      },
      "execution_count": null,
      "outputs": [
        {
          "output_type": "execute_result",
          "data": {
            "text/plain": [
              "[2, 3, 10]"
            ]
          },
          "metadata": {},
          "execution_count": 18
        }
      ]
    },
    {
      "cell_type": "code",
      "source": [
        "numbers[3:6]"
      ],
      "metadata": {
        "colab": {
          "base_uri": "https://localhost:8080/"
        },
        "id": "-lnk4qU_siiG",
        "outputId": "8b8ec401-1c54-47b9-9e43-456acfa704af"
      },
      "execution_count": null,
      "outputs": [
        {
          "output_type": "execute_result",
          "data": {
            "text/plain": [
              "[10, 20, 30]"
            ]
          },
          "metadata": {},
          "execution_count": 21
        }
      ]
    },
    {
      "cell_type": "code",
      "source": [
        "numbers[3:]"
      ],
      "metadata": {
        "colab": {
          "base_uri": "https://localhost:8080/"
        },
        "id": "FeTzIggwssll",
        "outputId": "0a68b927-d814-43cb-9a10-7b381c805d9e"
      },
      "execution_count": null,
      "outputs": [
        {
          "output_type": "execute_result",
          "data": {
            "text/plain": [
              "[10, 20, 30]"
            ]
          },
          "metadata": {},
          "execution_count": 23
        }
      ]
    },
    {
      "cell_type": "code",
      "source": [
        "numbers[:3] #리스트에서 앞에서 3개를 선택"
      ],
      "metadata": {
        "colab": {
          "base_uri": "https://localhost:8080/"
        },
        "id": "aTcfc47FtB_8",
        "outputId": "00dac46e-8b71-4770-a72e-25db3045c43d"
      },
      "execution_count": null,
      "outputs": [
        {
          "output_type": "execute_result",
          "data": {
            "text/plain": [
              "[1, 2, 3]"
            ]
          },
          "metadata": {},
          "execution_count": 25
        }
      ]
    },
    {
      "cell_type": "code",
      "source": [
        "numbers[-3:]#리스트에서 뒤에서 3개"
      ],
      "metadata": {
        "colab": {
          "base_uri": "https://localhost:8080/"
        },
        "id": "WIPba87xtX5l",
        "outputId": "e86ea0bf-38fe-481e-818d-e135e769ae31"
      },
      "execution_count": null,
      "outputs": [
        {
          "output_type": "execute_result",
          "data": {
            "text/plain": [
              "[10, 20, 30]"
            ]
          },
          "metadata": {},
          "execution_count": 28
        }
      ]
    },
    {
      "cell_type": "code",
      "source": [
        "numbers[0:1] #slicing -> 리스트(1개의 리스트)"
      ],
      "metadata": {
        "colab": {
          "base_uri": "https://localhost:8080/"
        },
        "id": "POYbp-i3uMZ3",
        "outputId": "222587a5-145f-4509-fcbb-bbd7fd130df1"
      },
      "execution_count": null,
      "outputs": [
        {
          "output_type": "execute_result",
          "data": {
            "text/plain": [
              "[1]"
            ]
          },
          "metadata": {},
          "execution_count": 31
        }
      ]
    },
    {
      "cell_type": "code",
      "source": [
        "numbers[0] #indexcing -> 값(숫자)(원소1)"
      ],
      "metadata": {
        "colab": {
          "base_uri": "https://localhost:8080/"
        },
        "id": "6L62_qdgujpW",
        "outputId": "0de04d62-8d19-4ce1-f09e-c48e1c2d7ebd"
      },
      "execution_count": null,
      "outputs": [
        {
          "output_type": "execute_result",
          "data": {
            "text/plain": [
              "1"
            ]
          },
          "metadata": {},
          "execution_count": 33
        }
      ]
    },
    {
      "cell_type": "markdown",
      "source": [
        "#문자열(str)\n",
        "*문자들의 *리스트*\n",
        "*문자열은 인덱스를 사용할 수 있음\n",
        "*indexcion, slicing 가능.\n"
      ],
      "metadata": {
        "id": "Q3mBgtkqvAHt"
      }
    },
    {
      "cell_type": "code",
      "source": [
        "message = '안녕하세요, 여러분!' #11개의 문자들로 이루어진 리스트.\n"
      ],
      "metadata": {
        "id": "FR1c8_jKu-ak"
      },
      "execution_count": null,
      "outputs": []
    },
    {
      "cell_type": "code",
      "source": [
        "message[0] #문자열에서 첫번째 문자"
      ],
      "metadata": {
        "colab": {
          "base_uri": "https://localhost:8080/",
          "height": 35
        },
        "id": "eABK5yB5vjSn",
        "outputId": "8830d426-8fe7-4bf7-9465-ee107bcb689a"
      },
      "execution_count": null,
      "outputs": [
        {
          "output_type": "execute_result",
          "data": {
            "text/plain": [
              "'안'"
            ],
            "application/vnd.google.colaboratory.intrinsic+json": {
              "type": "string"
            }
          },
          "metadata": {},
          "execution_count": 39
        }
      ]
    },
    {
      "cell_type": "code",
      "source": [
        "message[-1]"
      ],
      "metadata": {
        "colab": {
          "base_uri": "https://localhost:8080/",
          "height": 35
        },
        "id": "cFAmyVQQv7XM",
        "outputId": "a7bebf57-553c-415c-d847-721a5da460b4"
      },
      "execution_count": null,
      "outputs": [
        {
          "output_type": "execute_result",
          "data": {
            "text/plain": [
              "'!'"
            ],
            "application/vnd.google.colaboratory.intrinsic+json": {
              "type": "string"
            }
          },
          "metadata": {},
          "execution_count": 44
        }
      ]
    },
    {
      "cell_type": "code",
      "source": [
        "message[:3] # 문자열에서 앞에서 3글자"
      ],
      "metadata": {
        "colab": {
          "base_uri": "https://localhost:8080/",
          "height": 35
        },
        "id": "9aVPtPEewPVr",
        "outputId": "938abac4-7b7c-4dc7-82b6-81a29655e57a"
      },
      "execution_count": null,
      "outputs": [
        {
          "output_type": "execute_result",
          "data": {
            "text/plain": [
              "'안녕하'"
            ],
            "application/vnd.google.colaboratory.intrinsic+json": {
              "type": "string"
            }
          },
          "metadata": {},
          "execution_count": 45
        }
      ]
    },
    {
      "cell_type": "code",
      "source": [
        "message[-3:] #문자열에서 뒤에서 3글자"
      ],
      "metadata": {
        "colab": {
          "base_uri": "https://localhost:8080/",
          "height": 35
        },
        "id": "0Qqw0r_3wUwt",
        "outputId": "b33728f6-66ac-45ed-f0ce-680394b589ee"
      },
      "execution_count": null,
      "outputs": [
        {
          "output_type": "execute_result",
          "data": {
            "text/plain": [
              "'러분!'"
            ],
            "application/vnd.google.colaboratory.intrinsic+json": {
              "type": "string"
            }
          },
          "metadata": {},
          "execution_count": 49
        }
      ]
    },
    {
      "cell_type": "code",
      "source": [
        "#문자열 산술 연산 : +, *\n",
        "print('hello' + 'python')\n",
        "print('hello' * 3)"
      ],
      "metadata": {
        "colab": {
          "base_uri": "https://localhost:8080/"
        },
        "id": "2_rbZIRWwek-",
        "outputId": "16fc88f9-cdb0-4c26-f605-fd3a7934130a"
      },
      "execution_count": null,
      "outputs": [
        {
          "output_type": "stream",
          "name": "stdout",
          "text": [
            "hellopython\n",
            "hellohellohello\n"
          ]
        }
      ]
    },
    {
      "cell_type": "markdown",
      "source": [
        "#리스트의 산술 연산\n",
        "\n",
        "* `list + list `\n",
        "* `list * int` 또는 `int * list`"
      ],
      "metadata": {
        "id": "b0miG9S0xLl4"
      }
    },
    {
      "cell_type": "code",
      "source": [
        "[1,2,3] + [4,5,6]"
      ],
      "metadata": {
        "colab": {
          "base_uri": "https://localhost:8080/"
        },
        "id": "tMa7H_l0xi9N",
        "outputId": "55d54312-8a62-409f-8ab5-4b84ecc1cb49"
      },
      "execution_count": null,
      "outputs": [
        {
          "output_type": "execute_result",
          "data": {
            "text/plain": [
              "[1, 2, 3, 4, 5, 6]"
            ]
          },
          "metadata": {},
          "execution_count": 53
        }
      ]
    },
    {
      "cell_type": "code",
      "source": [
        "[1, 2, 3] * 3"
      ],
      "metadata": {
        "colab": {
          "base_uri": "https://localhost:8080/"
        },
        "id": "Dpiktfu8xpEc",
        "outputId": "f2e0fae2-55ee-41ac-febd-fe76643b0f8c"
      },
      "execution_count": null,
      "outputs": [
        {
          "output_type": "execute_result",
          "data": {
            "text/plain": [
              "[1, 2, 3, 1, 2, 3, 1, 2, 3]"
            ]
          },
          "metadata": {},
          "execution_count": 56
        }
      ]
    },
    {
      "cell_type": "code",
      "source": [
        "for x in 'hello':\n",
        "  print(x)"
      ],
      "metadata": {
        "colab": {
          "base_uri": "https://localhost:8080/"
        },
        "id": "7uKosDe52eKD",
        "outputId": "49537d2c-d257-4e4d-91b9-ced571826202"
      },
      "execution_count": null,
      "outputs": [
        {
          "output_type": "stream",
          "name": "stdout",
          "text": [
            "h\n",
            "e\n",
            "l\n",
            "l\n",
            "o\n"
          ]
        }
      ]
    },
    {
      "cell_type": "code",
      "source": [
        "numbers=[1,10,5,100]\n",
        "for x in numbers:\n",
        "  print(x)"
      ],
      "metadata": {
        "colab": {
          "base_uri": "https://localhost:8080/"
        },
        "id": "i-IUFsyx2n8U",
        "outputId": "ea26d7fd-4f80-4e73-b2e6-02a1cb2df036"
      },
      "execution_count": null,
      "outputs": [
        {
          "output_type": "stream",
          "name": "stdout",
          "text": [
            "1\n",
            "10\n",
            "5\n",
            "100\n"
          ]
        }
      ]
    },
    {
      "cell_type": "code",
      "source": [
        "for i in range(len(numbers)): # 0 <=X <len\n",
        "  print(i, ':',numbers[i])"
      ],
      "metadata": {
        "colab": {
          "base_uri": "https://localhost:8080/"
        },
        "id": "6iOBu_Zl27mN",
        "outputId": "b3fd573c-be33-4052-9bcc-f6dcf94e4248"
      },
      "execution_count": null,
      "outputs": [
        {
          "output_type": "stream",
          "name": "stdout",
          "text": [
            "0 : 1\n",
            "1 : 10\n",
            "2 : 5\n",
            "3 : 100\n"
          ]
        }
      ]
    },
    {
      "cell_type": "code",
      "source": [
        "for i, v in enumerate(numbers):\n",
        "  print(i, ':', v)"
      ],
      "metadata": {
        "colab": {
          "base_uri": "https://localhost:8080/"
        },
        "id": "-eVEAnAm4SRr",
        "outputId": "03f9cd41-8ef2-41eb-ddb5-07e9d0dba88f"
      },
      "execution_count": null,
      "outputs": [
        {
          "output_type": "stream",
          "name": "stdout",
          "text": [
            "0 : 1\n",
            "1 : 10\n",
            "2 : 5\n",
            "3 : 100\n"
          ]
        }
      ]
    },
    {
      "cell_type": "code",
      "source": [
        "numbers1=[1,2,3]\n",
        "numbers2 = [10, 11, 12]\n",
        "#numbers1과 numbers2의 같은 인덱스의 원소들끼리의 합을 원소로 갖는리스트.\n",
        "#[11, 13, 15]\n",
        "result = []\n",
        "for i in range(len(numbers1)):\n",
        "  result.append(numbers1[i] + numbers2[i])\n",
        "result"
      ],
      "metadata": {
        "colab": {
          "base_uri": "https://localhost:8080/"
        },
        "id": "s8VVxuYc57z4",
        "outputId": "7d55b888-a274-4457-aecc-3df9b9cfdab8"
      },
      "execution_count": null,
      "outputs": [
        {
          "output_type": "execute_result",
          "data": {
            "text/plain": [
              "[11, 13, 15]"
            ]
          },
          "metadata": {},
          "execution_count": 84
        }
      ]
    },
    {
      "cell_type": "code",
      "source": [
        "result = []\n",
        "for x, y in zip(numbers1, numbers2):\n",
        "  result.append(x+ y)\n",
        "result"
      ],
      "metadata": {
        "colab": {
          "base_uri": "https://localhost:8080/"
        },
        "id": "3rPYqU9V66pw",
        "outputId": "6512e224-f764-44db-dda3-93031fac90e4"
      },
      "execution_count": null,
      "outputs": [
        {
          "output_type": "execute_result",
          "data": {
            "text/plain": [
              "[11, 13, 15]"
            ]
          },
          "metadata": {},
          "execution_count": 86
        }
      ]
    },
    {
      "cell_type": "markdown",
      "source": [
        "파이썬에 난수를 만드는 방법"
      ],
      "metadata": {
        "id": "76nGKYD1-F3Z"
      }
    },
    {
      "cell_type": "code",
      "source": [
        "import random # random 모듈을 임포트"
      ],
      "metadata": {
        "id": "e800kA6g8AA_"
      },
      "execution_count": null,
      "outputs": []
    },
    {
      "cell_type": "code",
      "source": [
        "# random모듈의 random()함수를 호출\n",
        "random.random() #[0, 1) 범위 (0 <= x < 1)의 실수 난수를 리턴."
      ],
      "metadata": {
        "colab": {
          "base_uri": "https://localhost:8080/"
        },
        "id": "cZJogTUY-bMO",
        "outputId": "68596b34-f99f-48cd-fccb-064d73119648"
      },
      "execution_count": null,
      "outputs": [
        {
          "output_type": "execute_result",
          "data": {
            "text/plain": [
              "0.8398926810795909"
            ]
          },
          "metadata": {},
          "execution_count": 95
        }
      ]
    },
    {
      "cell_type": "code",
      "source": [
        "#random 모듈의 randrange()함수를 호출\n",
        "random.randrange(10) #[0,10)\n"
      ],
      "metadata": {
        "colab": {
          "base_uri": "https://localhost:8080/"
        },
        "id": "Z8CbrHNc_D6f",
        "outputId": "4681ad26-50c8-473a-a2dd-45725c7349d5"
      },
      "execution_count": null,
      "outputs": [
        {
          "output_type": "execute_result",
          "data": {
            "text/plain": [
              "2"
            ]
          },
          "metadata": {},
          "execution_count": 102
        }
      ]
    },
    {
      "cell_type": "code",
      "source": [
        "random.randrange(1,4) # [1,4)"
      ],
      "metadata": {
        "colab": {
          "base_uri": "https://localhost:8080/"
        },
        "id": "2rGXYmr3_eVQ",
        "outputId": "47f549ab-c67b-4726-aa79-32e4c16c26ac"
      },
      "execution_count": null,
      "outputs": [
        {
          "output_type": "execute_result",
          "data": {
            "text/plain": [
              "3"
            ]
          },
          "metadata": {},
          "execution_count": 105
        }
      ]
    },
    {
      "cell_type": "markdown",
      "source": [
        "## Ex 1.\n",
        "\n",
        "1. 빈 리스트를 생성.\n",
        "1. 1 이상 10 이하의 정수 난수 5개를 저장.\n",
        "1. 리스트의 모든 정수들의 합을 출력.\n",
        "1. 리스트의 모든 정수들의 평균을 출력."
      ],
      "metadata": {
        "id": "pKn2cstYCmDU"
      }
    },
    {
      "cell_type": "code",
      "source": [
        "numbers=[]\n",
        "for i in range(5):\n",
        "  number = random.randint(1,10)\n",
        "  numbers.append(number)\n",
        "print(numbers)\n",
        "sum = 0\n",
        "\n",
        "for i in numbers:\n",
        "  sum += i\n",
        "print('sum',sum)\n",
        "\n",
        "print('avg',sum / len(numbers))\n"
      ],
      "metadata": {
        "id": "pJz8qOvx_xIG",
        "colab": {
          "base_uri": "https://localhost:8080/"
        },
        "outputId": "e5fdd346-8d1e-4392-e8ba-b79b60affbe6"
      },
      "execution_count": null,
      "outputs": [
        {
          "output_type": "stream",
          "name": "stdout",
          "text": [
            "[5, 5, 3, 7, 10]\n",
            "sum 30\n",
            "avg 6.0\n"
          ]
        }
      ]
    },
    {
      "cell_type": "markdown",
      "source": [
        "## Ex 2.\n",
        "\n",
        "1. 빈 리스트(numbers)를 생성.\n",
        "1. 10 이상, 100 미만의 정수 난수 10개를 numbers에 저장.\n",
        "1. numbers에서 짝수들만 선택해서 evens 리스트를 만들고 출력.\n",
        "1. numbers에서 홀수들만 선택해서 odds 리스트를 만들고 출력."
      ],
      "metadata": {
        "id": "jcTNowvbA0Bt"
      }
    },
    {
      "cell_type": "markdown",
      "source": [],
      "metadata": {
        "id": "SyqfxPX5JsLi"
      }
    },
    {
      "cell_type": "code",
      "source": [
        "numbers = []\n",
        "for i in range(10):\n",
        "  number = random.randrange(10, 99)\n",
        "  numbers.append(number)\n",
        "print(numbers)\n",
        "\n",
        "evens = []\n",
        "odds = []\n",
        "for i in range(len(numbers)):\n",
        "  if numbers[i] % 2 == 0:\n",
        "    evens.append(numbers[i])\n",
        "  else:\n",
        "    odds.append(numbers[i])\n",
        "print('evens', evens)\n",
        "print('odds',odds)\n",
        "\n",
        "\n",
        "\n"
      ],
      "metadata": {
        "colab": {
          "base_uri": "https://localhost:8080/"
        },
        "id": "1MwSEKONJ6-J",
        "outputId": "27dc0aaf-fc0a-4f14-a77e-23ecd52bdff5"
      },
      "execution_count": null,
      "outputs": [
        {
          "output_type": "stream",
          "name": "stdout",
          "text": [
            "[24, 19, 81, 57, 92, 26, 26, 87, 76, 53]\n",
            "evens [24, 92, 26, 26, 76]\n",
            "odds [19, 81, 57, 87, 53]\n"
          ]
        }
      ]
    },
    {
      "cell_type": "markdown",
      "source": [
        "## Ex 3.\n",
        "\n",
        "1. 빈 리스트 numbers를 만듦.\n",
        "1. -10 이상 10 이하인 범위의 정수 난수 10개를 numbers에 저장.\n",
        "1. numbers의 원소가 양수이면 True, 그렇지 않으면 False를 저장하는 is_positive 리스트를 만들고 출력."
      ],
      "metadata": {
        "id": "y6jJtZ0KAxsV"
      }
    },
    {
      "cell_type": "code",
      "source": [
        "numbers = []\n",
        "is_positive = []\n",
        "\n",
        "for i in range(10):\n",
        "    number = random.randrange(-10, 10)\n",
        "    numbers.append(number)\n",
        "    is_positive.append(number > 0)\n",
        "\n",
        "print(numbers)\n",
        "print(is_positive)"
      ],
      "metadata": {
        "colab": {
          "base_uri": "https://localhost:8080/"
        },
        "id": "mouAjM1BBBaA",
        "outputId": "deb46968-9b43-404a-a941-05f643a59624"
      },
      "execution_count": null,
      "outputs": [
        {
          "output_type": "stream",
          "name": "stdout",
          "text": [
            "[-4, -6, -2, -10, 1, -7, 3, -8, 0, 3]\n",
            "[False, False, False, False, True, False, True, False, False, True]\n"
          ]
        }
      ]
    },
    {
      "cell_type": "markdown",
      "source": [
        "## Ex 4.\n",
        "\n",
        "1. gender_codes 리스트에 0 또는 1을 랜덤하게 10개를 저장.\n",
        "1. gender_codes의 값이 0이면 'Male', 그렇지 않으며 'Female'을 저장하는 genders 리스트를 만들고 출력."
      ],
      "metadata": {
        "id": "a0mKXvbMA6d9"
      }
    },
    {
      "cell_type": "code",
      "source": [
        "gender_codes = []\n",
        "genders = []\n",
        "for i in range(10):\n",
        "  code = random.randrange(0, 2)\n",
        "  gender_codes.append(code)\n",
        "\n",
        "  if code == 0:\n",
        "    genders.append('Male')\n",
        "  else:\n",
        "    genders.append('Femal')\n",
        "print(gender_codes)\n",
        "print(genders)"
      ],
      "metadata": {
        "colab": {
          "base_uri": "https://localhost:8080/"
        },
        "id": "9cyYGOoECFif",
        "outputId": "903c7ec0-2529-4eab-9993-5ea422c77be0"
      },
      "execution_count": null,
      "outputs": [
        {
          "output_type": "stream",
          "name": "stdout",
          "text": [
            "[0, 0, 1, 0, 1, 0, 1, 0, 1, 0]\n",
            "['Male', 'Male', 'Femal', 'Male', 'Femal', 'Male', 'Femal', 'Male', 'Femal', 'Male']\n"
          ]
        }
      ]
    },
    {
      "cell_type": "markdown",
      "source": [
        "## Ex 5.\n",
        "\n",
        "1. `numbers1`: 100 미만의 정수 난수 10개를 저장하는 리스트.\n",
        "1. `numbers2`: 100 미만의 정수 난수 10개를 저장하는 리스트.\n",
        "1. `multiplication`: `numbers1`과 `numbers2`의 같은 인덱스에 있는 원소들끼리의 곱셈 결과를 저장하는 리스트.\n",
        "1. `subtraction`: `numbers1`의 원소에서 같은 인덱스에 있는 `numbers2`의 원소를 뺀 값을 저장하는 리스트.\n",
        "\n",
        "`numbers1`, `numbers2`, `multiplication`, `subtraction`를 출력."
      ],
      "metadata": {
        "id": "wO5QjPBNA83f"
      }
    },
    {
      "cell_type": "code",
      "source": [
        "numbers1 = []\n",
        "numbers2 = []\n",
        "\n",
        "multiplication = [] #곱\n",
        "subtraction = [] #n1-n2\n",
        "\n",
        "for i in range(10):\n",
        "  number1 = random.randrange(100)\n",
        "  number2 = random.randrange(100)\n",
        "  numbers2.append(number2)\n",
        "  numbers1.append(number1)\n",
        "\n",
        "  multiplication.append(number1 * number2)\n",
        "  subtraction.append(number1 - number2)\n",
        "print('num1',numbers1)\n",
        "print('num2',numbers2)\n",
        "print('mul',multiplication)\n",
        "print('sub',subtraction)\n"
      ],
      "metadata": {
        "colab": {
          "base_uri": "https://localhost:8080/"
        },
        "id": "naInOycnFDg4",
        "outputId": "ae52abc6-9c8b-4bc1-d173-d4d8d6f558c8"
      },
      "execution_count": null,
      "outputs": [
        {
          "output_type": "stream",
          "name": "stdout",
          "text": [
            "num1 [68, 40, 98, 80, 30, 92, 66, 73, 83, 94]\n",
            "num2 [67, 93, 57, 69, 11, 83, 37, 20, 73, 18]\n",
            "mul [4556, 3720, 5586, 5520, 330, 7636, 2442, 1460, 6059, 1692]\n",
            "sub [1, -53, 41, 11, 19, 9, 29, 53, 10, 76]\n"
          ]
        }
      ]
    }
  ]
}