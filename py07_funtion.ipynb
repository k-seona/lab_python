{
  "nbformat": 4,
  "nbformat_minor": 0,
  "metadata": {
    "colab": {
      "provenance": [],
      "authorship_tag": "ABX9TyNjnWCTwdV3tJUs9/Ohxmkj",
      "include_colab_link": true
    },
    "kernelspec": {
      "name": "python3",
      "display_name": "Python 3"
    },
    "language_info": {
      "name": "python"
    }
  },
  "cells": [
    {
      "cell_type": "markdown",
      "metadata": {
        "id": "view-in-github",
        "colab_type": "text"
      },
      "source": [
        "<a href=\"https://colab.research.google.com/github/k-seona/lab_python/blob/main/py07_funtion.ipynb\" target=\"_parent\"><img src=\"https://colab.research.google.com/assets/colab-badge.svg\" alt=\"Open In Colab\"/></a>"
      ]
    },
    {
      "cell_type": "markdown",
      "source": [
        "#Function(함수)"
      ],
      "metadata": {
        "id": "beMER9TrFDa7"
      }
    },
    {
      "cell_type": "markdown",
      "source": [
        "    *function(함수): 기능을 수행하는 코드블록.\n",
        "    *argument : 함수를 호출하는 곳에서 함수에게 전달하는 값.\n",
        "    *parameter: argument를 저장하기 위햇 함수 선언부에서 선언하는 지역 변수.\n",
        "    *return value: 함수가 기능의 수행결과로 리턴하는 값.\n",
        "        *return value가 있는 함수\n",
        "        *return value가 없는 함수\n",
        "    *파이썬 함수 정의 방법\n",
        "        ```\n",
        "        def function_name([param,...]):\n",
        "            [\"\"\"문서화 주석-용도-함수 기능 설명, 파라미터 설명, 리턴 값 설명\"\"\"]\n",
        "            함수기능구현\n",
        "            [return 값]\n",
        "        ```\n",
        "    *return value가 없는 경우에,\n",
        "        *return 문장을 생략\n",
        "        *return None 명시할 수도 있음"
      ],
      "metadata": {
        "id": "IsLpxJrYFHnV"
      }
    },
    {
      "cell_type": "code",
      "execution_count": 2,
      "metadata": {
        "id": "GUJvzrgCEwbA"
      },
      "outputs": [],
      "source": [
        "def subtract(x,y):\n",
        "    \"\"\"2개의 숫자 x, y 를 전달 받아서 x - y결과를 리턴하는 함수.\n",
        "    \"\"\"\n",
        "    return x - y"
      ]
    },
    {
      "cell_type": "code",
      "source": [
        "result = subtract(2,3)\n",
        "print(result)"
      ],
      "metadata": {
        "colab": {
          "base_uri": "https://localhost:8080/"
        },
        "id": "ah0H3HrDIG6_",
        "outputId": "0413b7b3-a33f-4094-9b33-a5e93a171c3c"
      },
      "execution_count": 7,
      "outputs": [
        {
          "output_type": "stream",
          "name": "stdout",
          "text": [
            "-1\n"
          ]
        }
      ]
    },
    {
      "cell_type": "code",
      "source": [
        "#리턴값없는 함수\n",
        "def repeat_message(message, n):\n",
        "    \"\"\" 문자열과(message)과 양의 정수(n)을 전달 받아서, message를 n번 출력하는 함수\n",
        "    \"\"\"\n",
        "    for _ in range(n):\n",
        "        print(message)\n",
        "    return None\n",
        "    #리턴 값이 없으면 보통 return문을 생략하지만 , return None으로 명시하기도함."
      ],
      "metadata": {
        "id": "EYgUKBxgI-V7"
      },
      "execution_count": 11,
      "outputs": []
    },
    {
      "cell_type": "code",
      "source": [
        "repeat_message('안녕하세요', 3)"
      ],
      "metadata": {
        "colab": {
          "base_uri": "https://localhost:8080/"
        },
        "id": "yBsIlL9rJxyI",
        "outputId": "16ab4bc3-bfa7-436e-af1b-20c0230c0c85"
      },
      "execution_count": 12,
      "outputs": [
        {
          "output_type": "stream",
          "name": "stdout",
          "text": [
            "안녕하세요\n",
            "안녕하세요\n",
            "안녕하세요\n"
          ]
        }
      ]
    }
  ]
}