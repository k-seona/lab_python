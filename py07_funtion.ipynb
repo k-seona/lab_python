{
  "nbformat": 4,
  "nbformat_minor": 0,
  "metadata": {
    "colab": {
      "provenance": [],
      "authorship_tag": "ABX9TyPw0Zwq06j5weNW/ob2/Lk2",
      "include_colab_link": true
    },
    "kernelspec": {
      "name": "python3",
      "display_name": "Python 3"
    },
    "language_info": {
      "name": "python"
    }
  },
  "cells": [
    {
      "cell_type": "markdown",
      "metadata": {
        "id": "view-in-github",
        "colab_type": "text"
      },
      "source": [
        "<a href=\"https://colab.research.google.com/github/k-seona/lab_python/blob/main/py07_funtion.ipynb\" target=\"_parent\"><img src=\"https://colab.research.google.com/assets/colab-badge.svg\" alt=\"Open In Colab\"/></a>"
      ]
    },
    {
      "cell_type": "markdown",
      "source": [
        "#Function(함수)"
      ],
      "metadata": {
        "id": "beMER9TrFDa7"
      }
    },
    {
      "cell_type": "markdown",
      "source": [
        "    *function(함수): 기능을 수행하는 코드블록.\n",
        "    *argument : 함수를 호출하는 곳에서 함수에게 전달하는 값.\n",
        "    *parameter: argument를 저장하기 위햇 함수 선언부에서 선언하는 지역 변수.\n",
        "    *return value: 함수가 기능의 수행결과로 리턴하는 값.\n",
        "        *return value가 있는 함수\n",
        "        *return value가 없는 함수\n",
        "    *파이썬 함수 정의 방법\n",
        "        ```\n",
        "        def function_name([param,...]):\n",
        "            [\"\"\"문서화 주석-용도-함수 기능 설명, 파라미터 설명, 리턴 값 설명\"\"\"]\n",
        "            함수기능구현\n",
        "            [return 값]\n",
        "        ```\n",
        "    *return value가 없는 경우에,\n",
        "        *return 문장을 생략\n",
        "        *return None 명시할 수도 있음"
      ],
      "metadata": {
        "id": "IsLpxJrYFHnV"
      }
    },
    {
      "cell_type": "code",
      "execution_count": 1,
      "metadata": {
        "id": "GUJvzrgCEwbA"
      },
      "outputs": [],
      "source": [
        "def subtract(x,y):\n",
        "    \"\"\"2개의 숫자 x, y 를 전달 받아서 x - y결과를 리턴하는 함수.\n",
        "    \"\"\"\n",
        "    return x - y"
      ]
    },
    {
      "cell_type": "code",
      "source": [
        "result = subtract(2,3)\n",
        "print(result)"
      ],
      "metadata": {
        "colab": {
          "base_uri": "https://localhost:8080/"
        },
        "id": "ah0H3HrDIG6_",
        "outputId": "287a77bb-cb1e-4eed-9fb8-2a6264a49e3c"
      },
      "execution_count": 2,
      "outputs": [
        {
          "output_type": "stream",
          "name": "stdout",
          "text": [
            "-1\n"
          ]
        }
      ]
    },
    {
      "cell_type": "code",
      "source": [
        "#리턴값없는 함수\n",
        "def repeat_message(message, n):\n",
        "    \"\"\" 문자열과(message)과 양의 정수(n)을 전달 받아서, message를 n번 출력하는 함수\n",
        "    \"\"\"\n",
        "    for _ in range(n):\n",
        "        print(message)\n",
        "    return None\n",
        "    #리턴 값이 없으면 보통 return문을 생략하지만 , return None으로 명시하기도함."
      ],
      "metadata": {
        "id": "EYgUKBxgI-V7"
      },
      "execution_count": 3,
      "outputs": []
    },
    {
      "cell_type": "code",
      "source": [
        "repeat_message('안녕하세요', 3)"
      ],
      "metadata": {
        "colab": {
          "base_uri": "https://localhost:8080/"
        },
        "id": "yBsIlL9rJxyI",
        "outputId": "1c8c9d7e-e0eb-4af8-a868-140f39345062"
      },
      "execution_count": 4,
      "outputs": [
        {
          "output_type": "stream",
          "name": "stdout",
          "text": [
            "안녕하세요\n",
            "안녕하세요\n",
            "안녕하세요\n"
          ]
        }
      ]
    },
    {
      "cell_type": "markdown",
      "source": [
        "## Ex 1.\n",
        "\n",
        "* 함수 이름: make_list\n",
        "* 기능: start 이상 end 미만의 정수 난수 n개를 갖는 리스트를 반환하는 함수.\n"
      ],
      "metadata": {
        "id": "IHkgtCogN3Zs"
      }
    },
    {
      "cell_type": "code",
      "source": [
        "import random"
      ],
      "metadata": {
        "id": "6hE8TNKjOJ_f"
      },
      "execution_count": 15,
      "outputs": []
    },
    {
      "cell_type": "code",
      "source": [
        "#x start y end z=n 이런느낌.\n",
        "\n",
        "def make_list(start, end, n):\n",
        "    numbers = []\n",
        "    for _ in range(n): # n 5개\n",
        "        numbers.append(random.randrange(start,end)) # 0 start 이상 , end 10 미만\n",
        "    return numbers"
      ],
      "metadata": {
        "id": "5TYRcuzwOP8J"
      },
      "execution_count": 6,
      "outputs": []
    },
    {
      "cell_type": "code",
      "source": [
        "#선생님 ver\n",
        "def make_listt(start, end, n):\n",
        "    numbers = [random.randrange(start,end) for _ in range(n)]\n",
        "    return numbers"
      ],
      "metadata": {
        "id": "1QZhw_owrkuP"
      },
      "execution_count": 41,
      "outputs": []
    },
    {
      "cell_type": "code",
      "source": [
        "#선생님 ver\n",
        "make_listt(0,10,5)"
      ],
      "metadata": {
        "colab": {
          "base_uri": "https://localhost:8080/"
        },
        "id": "Y4OeZTXYsIS6",
        "outputId": "35098fa6-5cc4-43e3-e2df-6de31c35946a"
      },
      "execution_count": 43,
      "outputs": [
        {
          "output_type": "execute_result",
          "data": {
            "text/plain": [
              "[4, 3, 2, 8, 7]"
            ]
          },
          "metadata": {},
          "execution_count": 43
        }
      ]
    },
    {
      "cell_type": "code",
      "source": [
        "make_list(1,11,3)"
      ],
      "metadata": {
        "colab": {
          "base_uri": "https://localhost:8080/"
        },
        "id": "q3npFSpeVVXq",
        "outputId": "9005b7a8-ca97-47bc-baaa-6cfc05256727"
      },
      "execution_count": 7,
      "outputs": [
        {
          "output_type": "execute_result",
          "data": {
            "text/plain": [
              "[4, 9, 5]"
            ]
          },
          "metadata": {},
          "execution_count": 7
        }
      ]
    },
    {
      "cell_type": "markdown",
      "source": [
        "## Ex 2.\n",
        "\n",
        "* 함수 이름: calc_sum\n",
        "* 기능: 숫자들의 리스트를 전달받아서, 리스트의 모든 원소들의 합을 리턴하는 함수.\n"
      ],
      "metadata": {
        "id": "qZnzQnXNN5uO"
      }
    },
    {
      "cell_type": "code",
      "source": [
        "def calc_sum(numbers):\n",
        "    total = 0\n",
        "    for num in numbers:\n",
        "        total += num\n",
        "    return total\n"
      ],
      "metadata": {
        "id": "6pRYqZz1P5RS"
      },
      "execution_count": 8,
      "outputs": []
    },
    {
      "cell_type": "code",
      "source": [
        "#numbers = [1,2,3,4,5]\n",
        "#result = calc_sum(numbers)\n",
        "print(result)"
      ],
      "metadata": {
        "colab": {
          "base_uri": "https://localhost:8080/"
        },
        "id": "ugwC0jKvQEmL",
        "outputId": "f82daecc-2fe9-4b02-f1e8-2d37dafd3f94"
      },
      "execution_count": 9,
      "outputs": [
        {
          "output_type": "stream",
          "name": "stdout",
          "text": [
            "15\n"
          ]
        }
      ]
    },
    {
      "cell_type": "code",
      "source": [
        "#선생님 ver\n",
        "numbers = make_listt(0,10,5)\n",
        "print(numbers)\n",
        "total = calc_sum(numbers)\n",
        "print(total)"
      ],
      "metadata": {
        "colab": {
          "base_uri": "https://localhost:8080/"
        },
        "id": "VMqfwatnuoGv",
        "outputId": "efb72910-f482-42db-d439-976361e82780"
      },
      "execution_count": 44,
      "outputs": [
        {
          "output_type": "stream",
          "name": "stdout",
          "text": [
            "[6, 2, 6, 4, 0]\n",
            "18\n"
          ]
        }
      ]
    },
    {
      "cell_type": "markdown",
      "source": [],
      "metadata": {
        "id": "sPAfsiYEOemM"
      }
    },
    {
      "cell_type": "markdown",
      "source": [
        "## Ex 3.\n",
        "\n",
        "* 함수 이름: calc_mean\n",
        "* 기능: 숫자들의 리스트를 전달받아서, 리스트의 원소들의 평균을 리턴하는 함수."
      ],
      "metadata": {
        "id": "pAYsQl3rN8wl"
      }
    },
    {
      "cell_type": "code",
      "source": [
        "def calc_mean(numbers):\n",
        "    total = 0\n",
        "    avg = 0\n",
        "    for num in numbers:\n",
        "        total += num\n",
        "        avg = total / len(numbers)\n",
        "    return avg\n"
      ],
      "metadata": {
        "id": "tsoiz27tSSr-"
      },
      "execution_count": 46,
      "outputs": []
    },
    {
      "cell_type": "code",
      "source": [
        "#선생님 ver\n",
        "def calc_meann(num_list):\n",
        "    mean = calc_sum(num_list) / len(num_list)\n",
        "    return mean"
      ],
      "metadata": {
        "id": "g7v8Y5NZwGh6"
      },
      "execution_count": 50,
      "outputs": []
    },
    {
      "cell_type": "code",
      "source": [
        "calc_meann(numbers)"
      ],
      "metadata": {
        "colab": {
          "base_uri": "https://localhost:8080/"
        },
        "id": "hoVEpa9dvx8u",
        "outputId": "8f72bd50-fe4a-4f81-f712-816abd1d5303"
      },
      "execution_count": 51,
      "outputs": [
        {
          "output_type": "execute_result",
          "data": {
            "text/plain": [
              "3.0"
            ]
          },
          "metadata": {},
          "execution_count": 51
        }
      ]
    },
    {
      "cell_type": "code",
      "source": [
        "#numbers = [1,2,3,4,5]\n",
        "result = calc_mean(numbers)\n",
        "print(result)"
      ],
      "metadata": {
        "colab": {
          "base_uri": "https://localhost:8080/"
        },
        "id": "0jjfadfsSkAT",
        "outputId": "3978d490-3618-45fe-83d0-8dad89e3f6df"
      },
      "execution_count": 11,
      "outputs": [
        {
          "output_type": "stream",
          "name": "stdout",
          "text": [
            "3.0\n"
          ]
        }
      ]
    },
    {
      "cell_type": "markdown",
      "source": [
        "## Ex 4.\n",
        "\n",
        "* 함수 이름: calc_var\n",
        "* 기능: 숫자들의 리스트를 전달받아서, 리스트의 원소들의 분산(variance)을 리턴하는 함수.\n",
        "    * 분산 = (값 - 평균)**2 들의 평균\n"
      ],
      "metadata": {
        "id": "Ss-GNFU9N_x-"
      }
    },
    {
      "cell_type": "code",
      "source": [
        "def calc_var(num_list):\n",
        "   mean = calc_mean(num_list)\n",
        "   squares = [(x - mean) ** 2 for x in num_list]\n",
        "   varinace = calc_mean(squares)\n",
        "   return varinace\n"
      ],
      "metadata": {
        "id": "9G4ZWFG3Ss5J"
      },
      "execution_count": 52,
      "outputs": []
    },
    {
      "cell_type": "code",
      "source": [
        "calc_var(numbers)"
      ],
      "metadata": {
        "colab": {
          "base_uri": "https://localhost:8080/"
        },
        "id": "ZtTjU54BMGGo",
        "outputId": "7e5c9496-db4e-449e-9bb2-4bd5f4271eae"
      },
      "execution_count": 67,
      "outputs": [
        {
          "output_type": "execute_result",
          "data": {
            "text/plain": [
              "4.8"
            ]
          },
          "metadata": {},
          "execution_count": 67
        }
      ]
    },
    {
      "cell_type": "code",
      "source": [
        "scores1 = [3, 4, 5, 6, 7]\n",
        "scores2 = [0, 1, 5, 9, 10]\n",
        "mean1 = calc_meann(scores1)\n",
        "mean2 = calc_meann(scores2)\n",
        "\n",
        "print(f'mean1 = {mean1}')\n",
        "print(f'mean2 = {mean2}')\n",
        "\n",
        "print (calc_var(scores1))\n",
        "\n",
        "print (calc_var(scores2))"
      ],
      "metadata": {
        "colab": {
          "base_uri": "https://localhost:8080/"
        },
        "id": "1aNsRGCUy3qN",
        "outputId": "def80f9c-041a-4877-a818-650bc8d3fabb"
      },
      "execution_count": 74,
      "outputs": [
        {
          "output_type": "stream",
          "name": "stdout",
          "text": [
            "mean1 = 5.0\n",
            "mean2 = 5.0\n",
            "2.0\n",
            "16.4\n"
          ]
        }
      ]
    },
    {
      "cell_type": "code",
      "source": [
        "def make_lotto_list():\n",
        "    lottos = []\n",
        "    for _ in range(5):\n",
        "        lotto = set()  # set\n",
        "        while True:\n",
        "            lotto.add(random.randrange(1, 46))\n",
        "            if len(lotto) == 6:\n",
        "                break\n",
        "        lottos.append(lotto)\n",
        "    return lottos"
      ],
      "metadata": {
        "id": "Qaszs1yv0kEq"
      },
      "execution_count": 89,
      "outputs": []
    },
    {
      "cell_type": "code",
      "source": [
        "make_lotto_list()"
      ],
      "metadata": {
        "colab": {
          "base_uri": "https://localhost:8080/"
        },
        "id": "Rqwq8VqN1e8J",
        "outputId": "72c64975-7cc9-4803-e77b-ac988f8b1900"
      },
      "execution_count": 90,
      "outputs": [
        {
          "output_type": "execute_result",
          "data": {
            "text/plain": [
              "[{14, 29, 31, 33, 34, 43},\n",
              " {2, 3, 17, 23, 26, 35},\n",
              " {6, 13, 20, 27, 33, 45},\n",
              " {2, 11, 14, 29, 39, 40},\n",
              " {15, 16, 26, 27, 35, 41}]"
            ]
          },
          "metadata": {},
          "execution_count": 90
        }
      ]
    },
    {
      "cell_type": "code",
      "source": [],
      "metadata": {
        "id": "AZybv1Ot1e3N"
      },
      "execution_count": null,
      "outputs": []
    }
  ]
}