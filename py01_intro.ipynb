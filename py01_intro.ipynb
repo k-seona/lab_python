{
  "nbformat": 4,
  "nbformat_minor": 0,
  "metadata": {
    "colab": {
      "provenance": [],
      "toc_visible": true,
      "authorship_tag": "ABX9TyOgUmCFpHElcboFQPMFrlPf",
      "include_colab_link": true
    },
    "kernelspec": {
      "name": "python3",
      "display_name": "Python 3"
    },
    "language_info": {
      "name": "python"
    }
  },
  "cells": [
    {
      "cell_type": "markdown",
      "metadata": {
        "id": "view-in-github",
        "colab_type": "text"
      },
      "source": [
        "<a href=\"https://colab.research.google.com/github/k-seona/lab_python/blob/main/py01_intro.ipynb\" target=\"_parent\"><img src=\"https://colab.research.google.com/assets/colab-badge.svg\" alt=\"Open In Colab\"/></a>"
      ]
    },
    {
      "cell_type": "markdown",
      "source": [
        "\n",
        "# 파이썬 소개\n",
        "\n"
      ],
      "metadata": {
        "id": "O_1bcSGF0qU4"
      }
    },
    {
      "cell_type": "markdown",
      "source": [
        "# 파이썬 버전 확인"
      ],
      "metadata": {
        "id": "RFjoyjah1mqO"
      }
    },
    {
      "cell_type": "code",
      "source": [
        "!python --version"
      ],
      "metadata": {
        "colab": {
          "base_uri": "https://localhost:8080/"
        },
        "id": "sy_KaJxU1s-9",
        "outputId": "44a700c2-69b0-441d-8e58-1eea018be4a1"
      },
      "execution_count": null,
      "outputs": [
        {
          "output_type": "stream",
          "name": "stdout",
          "text": [
            "Python 3.10.12\n"
          ]
        }
      ]
    },
    {
      "cell_type": "markdown",
      "source": [
        "코드 셀에서 명령창(command prompt)에서 실행하는 명령어를 작성하고 실행할 때는 ! 로시작한다."
      ],
      "metadata": {
        "id": "q-CWJcbf2lJ-"
      }
    },
    {
      "cell_type": "markdown",
      "source": [],
      "metadata": {
        "id": "N0WoM4Pj1M7_"
      }
    },
    {
      "cell_type": "code",
      "execution_count": null,
      "metadata": {
        "colab": {
          "base_uri": "https://localhost:8080/"
        },
        "id": "Os-y38IuxTCG",
        "outputId": "11f4a6b5-e694-4d10-be4d-1296fc3a3304"
      },
      "outputs": [
        {
          "output_type": "stream",
          "name": "stdout",
          "text": [
            "안녕하세요 파이썬!\n"
          ]
        }
      ],
      "source": [
        "# inline comment(주석)\n",
        "print('안녕하세요 파이썬!') #파이썬 문장은 세미콜론을 사용하지 않음.\n"
      ]
    },
    {
      "cell_type": "markdown",
      "source": [
        "#코드셀 실행 방법\n",
        "\n",
        "*   코드셀 왼쪽의 실행 버튼을 클릭\n",
        "*   Ctrl_Enter: 현재 포커스가 있는 코드셀을 실행.\n",
        "*   shift + Enter 현재 포커스가 있는 코드셀을 실행하고, 그 다음셀로 포커스를이동    \n",
        "\n",
        "  *   현재 셀 아래에 아듬 셀이 없는 경우에는 새로운 코드 셀을 자동으로 만들어줌.\n",
        "*   런타임 메뉴\n",
        "\n",
        "\n",
        "\n",
        "\n",
        "\n"
      ],
      "metadata": {
        "id": "LX-I22B5ZdBH"
      }
    },
    {
      "cell_type": "code",
      "source": [
        "print('hello,python!')"
      ],
      "metadata": {
        "colab": {
          "base_uri": "https://localhost:8080/"
        },
        "id": "i0RXjlJNa5vC",
        "outputId": "94b48265-64f7-4e80-d414-35b7d29be8f7"
      },
      "execution_count": null,
      "outputs": [
        {
          "output_type": "stream",
          "name": "stdout",
          "text": [
            "hello,python!\n"
          ]
        }
      ]
    },
    {
      "cell_type": "markdown",
      "source": [
        "#`print()`함수\n",
        "\n",
        "\n"
      ],
      "metadata": {
        "id": "i3fJ7vFabeAe"
      }
    },
    {
      "cell_type": "code",
      "source": [
        "print('hello', 'python', '안녕하세요')"
      ],
      "metadata": {
        "colab": {
          "base_uri": "https://localhost:8080/"
        },
        "id": "PLWZwSRBb9Yt",
        "outputId": "301e03b0-a61d-4764-fef5-62560a310cb8"
      },
      "execution_count": null,
      "outputs": [
        {
          "output_type": "stream",
          "name": "stdout",
          "text": [
            "hello python 안녕하세요\n"
          ]
        }
      ]
    },
    {
      "cell_type": "markdown",
      "source": [
        "'print'함수에 아규먼트를 여러 개 전달하면, 아규먼트들을 공백으로 연결해서 콘솔에 출력함"
      ],
      "metadata": {
        "id": "HurTf04KclV6"
      }
    },
    {
      "cell_type": "markdown",
      "source": [
        "##`format()`메서드를 사용한 출력"
      ],
      "metadata": {
        "id": "esjX-NiDbkJ0"
      }
    },
    {
      "cell_type": "code",
      "source": [
        "print('{} + {} = {}'.format(1,2,1+2))"
      ],
      "metadata": {
        "colab": {
          "base_uri": "https://localhost:8080/"
        },
        "id": "UFY5fKWbbryP",
        "outputId": "d60114e5-fe8c-442c-ebc4-1f7e9f6f34e4"
      },
      "execution_count": null,
      "outputs": [
        {
          "output_type": "stream",
          "name": "stdout",
          "text": [
            "1 + 2 = 3\n"
          ]
        }
      ]
    },
    {
      "cell_type": "code",
      "source": [],
      "metadata": {
        "id": "ruJnceO4dHeL"
      },
      "execution_count": null,
      "outputs": []
    },
    {
      "cell_type": "markdown",
      "source": [
        "Pythin 3.6이상의 버전에서 사용할 수 있음"
      ],
      "metadata": {
        "id": "yND8tGXNdkCN"
      }
    },
    {
      "cell_type": "markdown",
      "source": [
        "## formated string을 사용한 출력"
      ],
      "metadata": {
        "id": "Bd2BvxtPdeD4"
      }
    },
    {
      "cell_type": "code",
      "source": [
        "#변수이름 = 값\n",
        "x = 1\n",
        "y = 2\n",
        "print(f'{x} + {y} = {x + y}')"
      ],
      "metadata": {
        "colab": {
          "base_uri": "https://localhost:8080/"
        },
        "id": "Eu7iNAB-dzOJ",
        "outputId": "bea4e599-9110-4e47-a35e-2cedf8bab6e4"
      },
      "execution_count": null,
      "outputs": [
        {
          "output_type": "stream",
          "name": "stdout",
          "text": [
            "1 + 2 = 3\n"
          ]
        }
      ]
    },
    {
      "cell_type": "markdown",
      "source": [
        "##ipynb 노트북에서의 콘솔 출력\n",
        "\n",
        "* 식(expression): 값(value), 변수, 연산, 함수 호출\n",
        "  * x , x + y\n",
        "* 문장(statement): 코드의 최소 실행 단위\n",
        "  * z = x + y, result = add(x,y)\n",
        "* ipynb 노트북 코드셀에서 가장 마지막 줄에 있는 문장이 완성된 문장이 아니라 식이면, 그 식(expression)을 평가한 결과를 콘솔에 출력해줌\n",
        "  * 마지막 줄에서는 print() 함수를 호출하지 않아도 출력됨."
      ],
      "metadata": {
        "id": "xPn5VI4PfD6e"
      }
    },
    {
      "cell_type": "code",
      "source": [
        "x = 1\n",
        "x #이건 식\n",
        "print(x)\n",
        "y = 2\n",
        "print(y)\n",
        "# print(x + y) 주석처리 컨트로+ 슬래쉬\n",
        "x + y #마지막줄은 프린트문 없어도 출력됨."
      ],
      "metadata": {
        "colab": {
          "base_uri": "https://localhost:8080/"
        },
        "id": "MGDxrPkygl6M",
        "outputId": "a9725cdf-d447-4da5-8f89-2ca3ae512b3a"
      },
      "execution_count": null,
      "outputs": [
        {
          "output_type": "stream",
          "name": "stdout",
          "text": [
            "1\n",
            "2\n"
          ]
        },
        {
          "output_type": "execute_result",
          "data": {
            "text/plain": [
              "3"
            ]
          },
          "metadata": {},
          "execution_count": 21
        }
      ]
    }
  ]
}