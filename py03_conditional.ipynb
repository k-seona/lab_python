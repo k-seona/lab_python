{
  "nbformat": 4,
  "nbformat_minor": 0,
  "metadata": {
    "colab": {
      "provenance": [],
      "authorship_tag": "ABX9TyMg4vJ/ZUlWVcocmL8Nju/v",
      "include_colab_link": true
    },
    "kernelspec": {
      "name": "python3",
      "display_name": "Python 3"
    },
    "language_info": {
      "name": "python"
    }
  },
  "cells": [
    {
      "cell_type": "markdown",
      "metadata": {
        "id": "view-in-github",
        "colab_type": "text"
      },
      "source": [
        "<a href=\"https://colab.research.google.com/github/k-seona/lab_python/blob/main/py03_conditional.ipynb\" target=\"_parent\"><img src=\"https://colab.research.google.com/assets/colab-badge.svg\" alt=\"Open In Colab\"/></a>"
      ]
    },
    {
      "cell_type": "markdown",
      "source": [
        "#else가 없는 조건문\n",
        "\n",
        "\n",
        "```\n",
        "<pre></pre> = > html 태그와 비슷한 기능 == ```\n",
        "if 조건식:\n",
        "  조건식이 참일 떄 실행할 코드 (블록)\n",
        "```\n",
        "  * `if 조건식` 뒤에는 반드시 콜론(:)을 사용해야 함.\n",
        "  * 코드 블록을 작성할 때 `{}`를 사용하지 않음.\n",
        "  * `if` 블록 안의 문장들은 반드시 같은 크기로 들여쓰기(indentation)**을 해야 함\n",
        "\n",
        "\n"
      ],
      "metadata": {
        "id": "0PeO924MxcJ9"
      }
    },
    {
      "cell_type": "code",
      "execution_count": 46,
      "metadata": {
        "id": "EmMBNG4xxTMM"
      },
      "outputs": [],
      "source": [
        "n = -100"
      ]
    },
    {
      "cell_type": "code",
      "source": [
        "if n > 0:\n",
        "  print('양수')\n",
        "  print('if 블록 끝')\n",
        "print('if 블록 바깥') # if 블록과 상관없이 실행하는 문장"
      ],
      "metadata": {
        "colab": {
          "base_uri": "https://localhost:8080/"
        },
        "id": "jjKOGqRFzOMx",
        "outputId": "04670cf1-c3e0-4c20-f6a0-563d920eb487"
      },
      "execution_count": 47,
      "outputs": [
        {
          "output_type": "stream",
          "name": "stdout",
          "text": [
            "if 블록 바깥\n"
          ]
        }
      ]
    },
    {
      "cell_type": "markdown",
      "source": [
        "# else 가 있는 조건문\n",
        "```\n",
        "if  조건식:\n",
        "  참일 때 실행 할 코드블록\n",
        "else:\n",
        "  거짓일 때 실행할 코드블록\n",
        "\n",
        "```\n",
        "\n",
        "\n",
        "\n"
      ],
      "metadata": {
        "id": "TobEmP6c00Ot"
      }
    },
    {
      "cell_type": "code",
      "source": [
        "n = 123\n",
        "if n % 2 ==1:\n",
        "  print('홀수')\n",
        "else:\n",
        "    print('짝수')"
      ],
      "metadata": {
        "colab": {
          "base_uri": "https://localhost:8080/"
        },
        "id": "KE24teTcz4DE",
        "outputId": "7d5b295b-182d-4266-8a65-52ae24516696"
      },
      "execution_count": 48,
      "outputs": [
        {
          "output_type": "stream",
          "name": "stdout",
          "text": [
            "홀수\n"
          ]
        }
      ]
    },
    {
      "cell_type": "markdown",
      "source": [
        "파이썬에서 참(true)로 취급하는 값:\n",
        "* 0이 아닌 숫자들.\n",
        "* 1개 이상의 문자를 가지고 있는 문자열.\n",
        "* 1개 이상의 원소를 가지고 있는리스트(와 비슷한 객체)"
      ],
      "metadata": {
        "id": "fQqh_XRs2REw"
      }
    },
    {
      "cell_type": "markdown",
      "source": [
        "# chainde conditional\n",
        "\n",
        "\n",
        "```\n",
        "if조건식1:\n",
        "  조건식1이 참일 떄 실행할 코드 블록\n",
        "elif 조건식2:\n",
        "  조건식1ㅇ; 거짓이고, 조건식2가 참일 때 실행할 코드불록\n",
        "```\n",
        "```\n",
        "else:\n",
        "  위의 모든 조건이 거짓 일 때 실행 할 코드 블록\n",
        "```\n",
        "\n",
        "\n",
        "\n"
      ],
      "metadata": {
        "id": "eL22CTlL3CC1"
      }
    },
    {
      "cell_type": "markdown",
      "source": [
        "Ex1.정수 3개를 입력받고 변수에 저장. 평균을 계산. 평균이 90이상이면 'A' 80이상이면 'B' 70이상이면 'C' ,70미만이면 ''F"
      ],
      "metadata": {
        "id": "0aSibkDd35p6"
      }
    },
    {
      "cell_type": "code",
      "source": [
        "x = int(input('x 정수 입력>>>'))\n",
        "y = int(input('y 정수 입력>>>'))\n",
        "z = int(input('z 정수 입력>>>'))\n",
        "i = x + y + z\n",
        "n = (x + y + z)/3\n",
        "\n",
        "\n",
        "print(f'총점수 : {i}')\n",
        "print(f'평균 : {n}')\n",
        "\n",
        "if(n >= 90):\n",
        "  print('등급은 A')\n",
        "elif(n >= 80):\n",
        "  print('등급은 B')\n",
        "elif(n >= 70):\n",
        "  print('등급은 C')\n",
        "else:\n",
        "  print('등급은 F')\n",
        "\n",
        "\n",
        "\n"
      ],
      "metadata": {
        "colab": {
          "base_uri": "https://localhost:8080/"
        },
        "id": "gDKQ7His4KNw",
        "outputId": "43ab5f5b-1eaf-43d2-9ba1-9d58b6c222ee"
      },
      "execution_count": 54,
      "outputs": [
        {
          "output_type": "stream",
          "name": "stdout",
          "text": [
            "x 정수 입력>>>100\n",
            "y 정수 입력>>>100\n",
            "z 정수 입력>>>100\n",
            "총점수 : 300\n",
            "평균 : 100.0\n",
            "등급은 A\n"
          ]
        }
      ]
    },
    {
      "cell_type": "code",
      "source": [],
      "metadata": {
        "id": "33sGq59o34Nr"
      },
      "execution_count": null,
      "outputs": []
    },
    {
      "cell_type": "code",
      "source": [
        "for i in range(5):\n",
        "  print('{:<5}'.format('*'* (i+1)))"
      ],
      "metadata": {
        "colab": {
          "base_uri": "https://localhost:8080/"
        },
        "id": "c-uI6tbW13kF",
        "outputId": "d087405d-828e-49ff-b3b9-f63b21b47ee6"
      },
      "execution_count": 15,
      "outputs": [
        {
          "output_type": "stream",
          "name": "stdout",
          "text": [
            "*    \n",
            "**   \n",
            "***  \n",
            "**** \n",
            "*****\n"
          ]
        }
      ]
    },
    {
      "cell_type": "code",
      "source": [
        "list (range(5))"
      ],
      "metadata": {
        "colab": {
          "base_uri": "https://localhost:8080/"
        },
        "id": "IWIJ8OyZ2xuu",
        "outputId": "68f04e6d-406f-413e-8f67-b377a81dc810"
      },
      "execution_count": 23,
      "outputs": [
        {
          "output_type": "execute_result",
          "data": {
            "text/plain": [
              "[0, 1, 2, 3, 4]"
            ]
          },
          "metadata": {},
          "execution_count": 23
        }
      ]
    }
  ]
}