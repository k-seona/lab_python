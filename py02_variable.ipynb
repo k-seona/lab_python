{
  "nbformat": 4,
  "nbformat_minor": 0,
  "metadata": {
    "colab": {
      "provenance": [],
      "authorship_tag": "ABX9TyP5vWv6oZu7LRs5FD6NL0cf",
      "include_colab_link": true
    },
    "kernelspec": {
      "name": "python3",
      "display_name": "Python 3"
    },
    "language_info": {
      "name": "python"
    }
  },
  "cells": [
    {
      "cell_type": "markdown",
      "metadata": {
        "id": "view-in-github",
        "colab_type": "text"
      },
      "source": [
        "<a href=\"https://colab.research.google.com/github/k-seona/lab_python/blob/main/py02_variable.ipynb\" target=\"_parent\"><img src=\"https://colab.research.google.com/assets/colab-badge.svg\" alt=\"Open In Colab\"/></a>"
      ]
    },
    {
      "cell_type": "markdown",
      "source": [
        "# 파이썬 자료 타입\n",
        "\n",
        "\n",
        "*  숫자 타입\n",
        "  * `int` : 정수\n",
        "  * `float` : 실수\n",
        "* 문자열 타입\n",
        " * `str`\n",
        "* 논리타입 (대소문자 구멸함, 대문자)\n",
        "  * `bool` : True/False\n",
        "* 객체 타입\n",
        "줄바꿈 = <비알/> 혹은 엔터 두번.\n",
        "\n",
        "\n",
        "파이썬 에서는 변수를 선언할 때 자료 타입을 명시하지 않음. <br/>\n",
        "변수의 자료 타입은 코드가 실행 될 때 결정된다.\n",
        "\n"
      ],
      "metadata": {
        "id": "2iQ08kp3mkWe"
      }
    },
    {
      "cell_type": "code",
      "execution_count": null,
      "metadata": {
        "colab": {
          "base_uri": "https://localhost:8080/"
        },
        "id": "-cFvLwoxlcgK",
        "outputId": "cfc1f066-45fa-4793-87fb-39baaa1a16f0"
      },
      "outputs": [
        {
          "output_type": "stream",
          "name": "stdout",
          "text": [
            "3.14\n"
          ]
        },
        {
          "output_type": "execute_result",
          "data": {
            "text/plain": [
              "float"
            ]
          },
          "metadata": {},
          "execution_count": 1
        }
      ],
      "source": [
        "pi = 3.14\n",
        "print(pi)\n",
        "type(pi) #print(type(pi))"
      ]
    },
    {
      "cell_type": "markdown",
      "source": [
        "## 명시적 타입 변환\n",
        "  *`int(arg)` : arg를 정수 타입으로 변환해서 리턴\n",
        "  *`float(arg)`: arg를 실수 타입으로 변환해서 리턴\n",
        "  *`str(arg)`: arg를 문자열로 변환해서 리턴"
      ],
      "metadata": {
        "id": "5Rpe32Tuo5y2"
      }
    },
    {
      "cell_type": "code",
      "source": [
        "#colab 노트북에서 콘솔 입력:\n",
        "n = input('정수 입력>>>')"
      ],
      "metadata": {
        "colab": {
          "base_uri": "https://localhost:8080/"
        },
        "id": "-7jS9a_3pbxd",
        "outputId": "2e74a6a7-2375-4cbb-8a88-5f3cc30ff6ea"
      },
      "execution_count": null,
      "outputs": [
        {
          "name": "stdout",
          "output_type": "stream",
          "text": [
            "정수 입력>>>123\n"
          ]
        }
      ]
    },
    {
      "cell_type": "code",
      "source": [
        "type(n)  #위에 n"
      ],
      "metadata": {
        "colab": {
          "base_uri": "https://localhost:8080/"
        },
        "id": "cForm8s1qD-p",
        "outputId": "264cff93-8b60-4d61-8c04-a893f77d8a1f"
      },
      "execution_count": null,
      "outputs": [
        {
          "output_type": "execute_result",
          "data": {
            "text/plain": [
              "str"
            ]
          },
          "metadata": {},
          "execution_count": 5
        }
      ]
    },
    {
      "cell_type": "code",
      "source": [
        "int(n) + 1  #123 + 1"
      ],
      "metadata": {
        "colab": {
          "base_uri": "https://localhost:8080/"
        },
        "id": "F-Dc1NQpqmcK",
        "outputId": "c967d806-e175-4d7d-9da3-af1bc5f73031"
      },
      "execution_count": null,
      "outputs": [
        {
          "output_type": "execute_result",
          "data": {
            "text/plain": [
              "124"
            ]
          },
          "metadata": {},
          "execution_count": 7
        }
      ]
    },
    {
      "cell_type": "code",
      "source": [
        "n + str(1) # 123문자열 + 문자열로 변환한1 = 1231"
      ],
      "metadata": {
        "colab": {
          "base_uri": "https://localhost:8080/",
          "height": 35
        },
        "id": "yk1o9l3Xqx1-",
        "outputId": "244c6e79-a0d4-42bb-c2ca-78452be7dba0"
      },
      "execution_count": null,
      "outputs": [
        {
          "output_type": "execute_result",
          "data": {
            "text/plain": [
              "'1231'"
            ],
            "application/vnd.google.colaboratory.intrinsic+json": {
              "type": "string"
            }
          },
          "metadata": {},
          "execution_count": 8
        }
      ]
    },
    {
      "cell_type": "markdown",
      "source": [
        "# 산술 연산자\n",
        "`+, -, *, /, // ,%, **`\n",
        "* '/': 소수점까지 계산하는 나눗셈/\n",
        "* '//' : 나눈 몫을 계산\n",
        "*'%' : 나눈 나머지\n",
        "* ** : 거듭제곱"
      ],
      "metadata": {
        "id": "-1GRSAOnrJCX"
      }
    },
    {
      "cell_type": "code",
      "source": [
        "10 / 3"
      ],
      "metadata": {
        "colab": {
          "base_uri": "https://localhost:8080/"
        },
        "id": "kzI2s8VIr7Qi",
        "outputId": "671328d0-828d-48b9-d958-4e698bb7d96b"
      },
      "execution_count": null,
      "outputs": [
        {
          "output_type": "execute_result",
          "data": {
            "text/plain": [
              "3.3333333333333335"
            ]
          },
          "metadata": {},
          "execution_count": 10
        }
      ]
    },
    {
      "cell_type": "code",
      "source": [
        "10 // 3"
      ],
      "metadata": {
        "colab": {
          "base_uri": "https://localhost:8080/"
        },
        "id": "1Kd4948Kr9AW",
        "outputId": "20f7ff95-fb1c-4ba8-bee4-ffcb8b698e48"
      },
      "execution_count": null,
      "outputs": [
        {
          "output_type": "execute_result",
          "data": {
            "text/plain": [
              "3"
            ]
          },
          "metadata": {},
          "execution_count": 11
        }
      ]
    },
    {
      "cell_type": "code",
      "source": [
        "10 % 3"
      ],
      "metadata": {
        "colab": {
          "base_uri": "https://localhost:8080/"
        },
        "id": "t7i4s1z_r-am",
        "outputId": "f385eedc-3ac6-4031-fce2-55644fd2e78a"
      },
      "execution_count": null,
      "outputs": [
        {
          "output_type": "execute_result",
          "data": {
            "text/plain": [
              "1"
            ]
          },
          "metadata": {},
          "execution_count": 12
        }
      ]
    },
    {
      "cell_type": "code",
      "source": [
        "10 ** 3"
      ],
      "metadata": {
        "colab": {
          "base_uri": "https://localhost:8080/"
        },
        "id": "xLHfeXG_sBZu",
        "outputId": "dee37f01-11d6-4586-fa41-de4bf3a05075"
      },
      "execution_count": null,
      "outputs": [
        {
          "output_type": "execute_result",
          "data": {
            "text/plain": [
              "1000"
            ]
          },
          "metadata": {},
          "execution_count": 13
        }
      ]
    },
    {
      "cell_type": "markdown",
      "source": [
        "# 비교 연산자, 논리 연산자\n",
        "\n",
        "* 비교 연산자: `==, !=, > , >=, <, <=`\n",
        "* 논리 연산자 : `and, or, not`"
      ],
      "metadata": {
        "id": "wr7BGd9vsQ_B"
      }
    },
    {
      "cell_type": "code",
      "source": [
        "x =100\n",
        "(x > 50) and (x < 150)"
      ],
      "metadata": {
        "colab": {
          "base_uri": "https://localhost:8080/"
        },
        "id": "1-ZQHhAqspMa",
        "outputId": "f32ed608-df05-4248-ca96-effabab92ba7"
      },
      "execution_count": null,
      "outputs": [
        {
          "output_type": "execute_result",
          "data": {
            "text/plain": [
              "True"
            ]
          },
          "metadata": {},
          "execution_count": 15
        }
      ]
    },
    {
      "cell_type": "code",
      "source": [
        "50 < x < 150"
      ],
      "metadata": {
        "colab": {
          "base_uri": "https://localhost:8080/"
        },
        "id": "B2WSBib6tBeN",
        "outputId": "2d4fff7f-f64c-4eed-f82e-f012a12608c3"
      },
      "execution_count": null,
      "outputs": [
        {
          "output_type": "execute_result",
          "data": {
            "text/plain": [
              "True"
            ]
          },
          "metadata": {},
          "execution_count": 16
        }
      ]
    }
  ]
}