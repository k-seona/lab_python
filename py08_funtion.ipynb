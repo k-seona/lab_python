{
  "nbformat": 4,
  "nbformat_minor": 0,
  "metadata": {
    "colab": {
      "provenance": [],
      "authorship_tag": "ABX9TyPnH5gJBixob29CgpWOqPWV",
      "include_colab_link": true
    },
    "kernelspec": {
      "name": "python3",
      "display_name": "Python 3"
    },
    "language_info": {
      "name": "python"
    }
  },
  "cells": [
    {
      "cell_type": "markdown",
      "metadata": {
        "id": "view-in-github",
        "colab_type": "text"
      },
      "source": [
        "<a href=\"https://colab.research.google.com/github/k-seona/lab_python/blob/main/py08_funtion.ipynb\" target=\"_parent\"><img src=\"https://colab.research.google.com/assets/colab-badge.svg\" alt=\"Open In Colab\"/></a>"
      ]
    },
    {
      "cell_type": "markdown",
      "source": [
        "#1급객체(first-class object)로서의 함수\n",
        "\n",
        "* 함수는 변수에 할당할 수 있음\n",
        "* 함수의 파라미터에 아규먼트로 다른 함수를 전달 할 수 있음\n",
        "    *함수는 아규먼트가 될 수 있음\n",
        "* 함수는 다른 함수의 리턴 값이 될 수 있음"
      ],
      "metadata": {
        "id": "ewgcUSfFxaVw"
      }
    },
    {
      "cell_type": "markdown",
      "source": [
        "#함수를 변수에 할당"
      ],
      "metadata": {
        "id": "McoiqtgTyLol"
      }
    },
    {
      "cell_type": "code",
      "execution_count": 1,
      "metadata": {
        "id": "9G9xbF1UxE_k"
      },
      "outputs": [],
      "source": [
        "def twice(x):\n",
        "    return 2 * x"
      ]
    },
    {
      "cell_type": "code",
      "source": [
        "result = twice(100) #함수 호출 결과(리턴 값)을 변수에 저장\n",
        "result"
      ],
      "metadata": {
        "colab": {
          "base_uri": "https://localhost:8080/"
        },
        "id": "ELTF2RMqyVWS",
        "outputId": "686c6e8d-d54a-4d18-c08a-b76c1e300a63"
      },
      "execution_count": 3,
      "outputs": [
        {
          "output_type": "execute_result",
          "data": {
            "text/plain": [
              "200"
            ]
          },
          "metadata": {},
          "execution_count": 3
        }
      ]
    },
    {
      "cell_type": "code",
      "source": [
        "double = twice #함수 (객체)를 변수에 저장\n",
        "double"
      ],
      "metadata": {
        "colab": {
          "base_uri": "https://localhost:8080/"
        },
        "id": "TDucsC4rylWI",
        "outputId": "a34980f5-96f8-419a-c00b-e380ca88d9b0"
      },
      "execution_count": 6,
      "outputs": [
        {
          "output_type": "execute_result",
          "data": {
            "text/plain": [
              "<function __main__.twice(x)>"
            ]
          },
          "metadata": {},
          "execution_count": 6
        }
      ]
    },
    {
      "cell_type": "code",
      "source": [
        "double(12)"
      ],
      "metadata": {
        "colab": {
          "base_uri": "https://localhost:8080/"
        },
        "id": "dcm6L8ATy4cY",
        "outputId": "4696fddd-5896-4ae3-8e36-5fd3c65e0fe4"
      },
      "execution_count": 8,
      "outputs": [
        {
          "output_type": "execute_result",
          "data": {
            "text/plain": [
              "24"
            ]
          },
          "metadata": {},
          "execution_count": 8
        }
      ]
    },
    {
      "cell_type": "markdown",
      "source": [
        "#함수를 아규먼트로 사용"
      ],
      "metadata": {
        "id": "J8RIQG6LzAbA"
      }
    },
    {
      "cell_type": "code",
      "source": [
        "def calculate(x,y,fn):\n",
        "    result = fn(x,y)\n",
        "    return result"
      ],
      "metadata": {
        "id": "spez6HY9y9wo"
      },
      "execution_count": 11,
      "outputs": []
    },
    {
      "cell_type": "code",
      "source": [
        "def plus(x,y):\n",
        "    return x + y"
      ],
      "metadata": {
        "id": "x4ozHNSDzWcI"
      },
      "execution_count": 14,
      "outputs": []
    },
    {
      "cell_type": "code",
      "source": [
        "calculate(1,2, plus)"
      ],
      "metadata": {
        "colab": {
          "base_uri": "https://localhost:8080/"
        },
        "id": "uLAvj0BQzmEI",
        "outputId": "58048a1b-f8e9-494e-e8ca-e35fcf598b3a"
      },
      "execution_count": 15,
      "outputs": [
        {
          "output_type": "execute_result",
          "data": {
            "text/plain": [
              "3"
            ]
          },
          "metadata": {},
          "execution_count": 15
        }
      ]
    },
    {
      "cell_type": "code",
      "source": [
        "def minus(x, y):\n",
        "    return x - y"
      ],
      "metadata": {
        "id": "awNamBje0Jp5"
      },
      "execution_count": 16,
      "outputs": []
    },
    {
      "cell_type": "code",
      "source": [
        "calculate(1,2, minus)"
      ],
      "metadata": {
        "colab": {
          "base_uri": "https://localhost:8080/"
        },
        "id": "5k3f1vgG0RDx",
        "outputId": "527341f8-4021-4e31-f2f2-d8f69c232f74"
      },
      "execution_count": 18,
      "outputs": [
        {
          "output_type": "execute_result",
          "data": {
            "text/plain": [
              "-1"
            ]
          },
          "metadata": {},
          "execution_count": 18
        }
      ]
    },
    {
      "cell_type": "markdown",
      "source": [
        "## 내부 함수, 함수 리턴"
      ],
      "metadata": {
        "id": "Kk2rsDcx1DoB"
      }
    },
    {
      "cell_type": "code",
      "source": [
        "def make_increment(n):\n",
        "    def add_n(x):\n",
        "        return x + n\n",
        "\n",
        "    return add_n"
      ],
      "metadata": {
        "id": "bj4Z9l811H9r"
      },
      "execution_count": 19,
      "outputs": []
    },
    {
      "cell_type": "code",
      "source": [
        "increase_by_2 = make_increment(2)\n",
        "increase_by_2"
      ],
      "metadata": {
        "colab": {
          "base_uri": "https://localhost:8080/"
        },
        "id": "fuqYPd5z1r6y",
        "outputId": "2e6db036-adad-4b6d-f502-a0e7feffc7b4"
      },
      "execution_count": 21,
      "outputs": [
        {
          "output_type": "execute_result",
          "data": {
            "text/plain": [
              "<function __main__.make_increment.<locals>.add_n(x)>"
            ]
          },
          "metadata": {},
          "execution_count": 21
        }
      ]
    },
    {
      "cell_type": "code",
      "source": [
        "increase_by_2(100)"
      ],
      "metadata": {
        "colab": {
          "base_uri": "https://localhost:8080/"
        },
        "id": "xQB3nfn42MNY",
        "outputId": "3921ff07-7d7f-4589-8bc5-16f4c1ad4be9"
      },
      "execution_count": 23,
      "outputs": [
        {
          "output_type": "execute_result",
          "data": {
            "text/plain": [
              "102"
            ]
          },
          "metadata": {},
          "execution_count": 23
        }
      ]
    },
    {
      "cell_type": "code",
      "source": [
        "increase_by_10 = make_increment(10)\n",
        "increase_by_10(100)"
      ],
      "metadata": {
        "colab": {
          "base_uri": "https://localhost:8080/"
        },
        "id": "oLWecVwG2yR3",
        "outputId": "ca40d5db-5388-4323-9509-aa53151251f5"
      },
      "execution_count": 25,
      "outputs": [
        {
          "output_type": "execute_result",
          "data": {
            "text/plain": [
              "110"
            ]
          },
          "metadata": {},
          "execution_count": 25
        }
      ]
    },
    {
      "cell_type": "code",
      "source": [
        "make_increment(5)(100)"
      ],
      "metadata": {
        "colab": {
          "base_uri": "https://localhost:8080/"
        },
        "id": "ibr4h9y93qq8",
        "outputId": "ce1200dc-46e5-468a-bc40-0cd5dfc5eac1"
      },
      "execution_count": 27,
      "outputs": [
        {
          "output_type": "execute_result",
          "data": {
            "text/plain": [
              "105"
            ]
          },
          "metadata": {},
          "execution_count": 27
        }
      ]
    },
    {
      "cell_type": "markdown",
      "source": [
        "# Lambda expression(람다표현식)\n",
        "\n",
        "\n",
        "\n",
        "```\n",
        "lambda param1, param2,...: expression\n",
        "\n",
        "```\n",
        "* 이름이 없는 함수 표기법\n",
        "* 함수 이름 없이 함수의 파라미터 선언과 반환 값 또는 반환 식으로만 함수를 정의하는 방법.\n",
        "* 파이썬은 2줄 이상의 문장이 포함된 람다 표현식 문법을 제공하지 않음\n",
        "\n"
      ],
      "metadata": {
        "id": "SBnGOh-u8VKu"
      }
    },
    {
      "cell_type": "code",
      "source": [
        "minus = lambda x, y : x - y\n",
        "minus"
      ],
      "metadata": {
        "colab": {
          "base_uri": "https://localhost:8080/"
        },
        "id": "I_xKsarv9byZ",
        "outputId": "641bc28a-b8ac-4b32-8e84-735c0fbdb548"
      },
      "execution_count": 30,
      "outputs": [
        {
          "output_type": "execute_result",
          "data": {
            "text/plain": [
              "<function __main__.<lambda>(x, y)>"
            ]
          },
          "metadata": {},
          "execution_count": 30
        }
      ]
    },
    {
      "cell_type": "code",
      "source": [
        "minus(1, 2)"
      ],
      "metadata": {
        "colab": {
          "base_uri": "https://localhost:8080/"
        },
        "id": "7o81ey7K9nn8",
        "outputId": "4d2d2f81-e956-429d-e594-14af688a7790"
      },
      "execution_count": 31,
      "outputs": [
        {
          "output_type": "execute_result",
          "data": {
            "text/plain": [
              "-1"
            ]
          },
          "metadata": {},
          "execution_count": 31
        }
      ]
    },
    {
      "cell_type": "code",
      "source": [
        "calculate(2,3, lambda x ,y :x * y)\n"
      ],
      "metadata": {
        "colab": {
          "base_uri": "https://localhost:8080/"
        },
        "id": "WuZx3kbu-XHs",
        "outputId": "e133dd2b-c1a7-49f8-efcf-8a878d2175db"
      },
      "execution_count": 33,
      "outputs": [
        {
          "output_type": "execute_result",
          "data": {
            "text/plain": [
              "6"
            ]
          },
          "metadata": {},
          "execution_count": 33
        }
      ]
    },
    {
      "cell_type": "code",
      "source": [
        "calculate(2,3, lambda x ,y :x / y)"
      ],
      "metadata": {
        "colab": {
          "base_uri": "https://localhost:8080/"
        },
        "id": "R3BIRx6m-vpc",
        "outputId": "bb1af9e7-653f-44c8-97dc-54e288190781"
      },
      "execution_count": 34,
      "outputs": [
        {
          "output_type": "execute_result",
          "data": {
            "text/plain": [
              "0.6666666666666666"
            ]
          },
          "metadata": {},
          "execution_count": 34
        }
      ]
    },
    {
      "cell_type": "code",
      "source": [
        "def calculate(x,y,fn):\n",
        "    result = fn(x,y)\n",
        "    return result"
      ],
      "metadata": {
        "id": "hkuZVtgd_ntm"
      },
      "execution_count": 35,
      "outputs": []
    },
    {
      "cell_type": "markdown",
      "source": [
        "1. calculate 함수에 2개의 숫자 중에서 더 큰 수를 리턴하는 람다표현식을 전달"
      ],
      "metadata": {
        "id": "cCXsLAJT_OOU"
      }
    },
    {
      "cell_type": "code",
      "source": [],
      "metadata": {
        "id": "N1OH_-97_3Ls"
      },
      "execution_count": null,
      "outputs": []
    },
    {
      "cell_type": "code",
      "source": [
        "calculate(1,2,lambda x , y : x if x > y else y)"
      ],
      "metadata": {
        "colab": {
          "base_uri": "https://localhost:8080/"
        },
        "id": "VN9_W0AO_jt0",
        "outputId": "9c94e93c-fb18-4bf6-8c89-e7ff17972cca"
      },
      "execution_count": 36,
      "outputs": [
        {
          "output_type": "execute_result",
          "data": {
            "text/plain": [
              "2"
            ]
          },
          "metadata": {},
          "execution_count": 36
        }
      ]
    },
    {
      "cell_type": "markdown",
      "source": [
        "2.calculate함수에 첫번째 아규먼트가 크면 true 그렇지 않으면 false를 리턴하는 람다표현식을 전달"
      ],
      "metadata": {
        "id": "bdW-Zv7P_VlP"
      }
    },
    {
      "cell_type": "code",
      "source": [
        "calculate(1, 2, lambda x , y : True if x > y else False )"
      ],
      "metadata": {
        "colab": {
          "base_uri": "https://localhost:8080/"
        },
        "id": "50dhpq3OATFz",
        "outputId": "de514c84-330a-4bb7-f9a3-be09801d9df7"
      },
      "execution_count": 43,
      "outputs": [
        {
          "output_type": "execute_result",
          "data": {
            "text/plain": [
              "False"
            ]
          },
          "metadata": {},
          "execution_count": 43
        }
      ]
    },
    {
      "cell_type": "code",
      "source": [
        "calculate(2,1,lambda x, y:x >y)"
      ],
      "metadata": {
        "colab": {
          "base_uri": "https://localhost:8080/"
        },
        "id": "HKTHHMiLBaue",
        "outputId": "a173f117-647f-45f8-81cc-07b0339e0a36"
      },
      "execution_count": 44,
      "outputs": [
        {
          "output_type": "execute_result",
          "data": {
            "text/plain": [
              "True"
            ]
          },
          "metadata": {},
          "execution_count": 44
        }
      ]
    },
    {
      "cell_type": "markdown",
      "source": [
        "## filter 함수\n",
        "조건에 맞는 원소들만 선택"
      ],
      "metadata": {
        "id": "0u0-fboRCE2c"
      }
    },
    {
      "cell_type": "code",
      "source": [
        "import random"
      ],
      "metadata": {
        "id": "lS8wZXn9E0wb"
      },
      "execution_count": 47,
      "outputs": []
    },
    {
      "cell_type": "code",
      "source": [
        "def my_filter(iterable, fn):\n",
        "\n",
        "    \"\"\"\n",
        "    리스트 iterable의 원소들 중에서 함수 fn의 호출 값이 True인 원소들로만\n",
        "    이루어진 리스트를 리턴\n",
        "    param iterable: 리스트\n",
        "\n",
        "    param fn: 아규먼트가 1개 이고 true 혹은 false를 리턴하는 함수.\n",
        "    \"\"\"\n",
        "    # result = [] #필터링된 원소들을 저장할 빈 리스트\n",
        "    # for x in iterables: #리스트의 원소들을 순서대로 반복하면서\n",
        "    #     if fn(x): # 그원소를  함수에게 전달했을 때 True를 리턴하면\n",
        "    #         #필터링 조건을 족하면\n",
        "    #         result.append(x)\n",
        "    # return result # 필터링된 결과를 가지고 있는 리스트를 리턴한다.\n",
        "    return [x for x in iterable if fn(x)]\n",
        ""
      ],
      "metadata": {
        "id": "PIAtgOpHCESr"
      },
      "execution_count": 72,
      "outputs": []
    },
    {
      "cell_type": "code",
      "source": [
        "numbers = [1, -2, 3, 4, -5, -6, 7]\n",
        "my_filter(numbers, lambda x: x > 0)"
      ],
      "metadata": {
        "colab": {
          "base_uri": "https://localhost:8080/"
        },
        "id": "472N3hx_KR3I",
        "outputId": "ee34a9f9-b281-48cf-cd5f-105fb2b623d6"
      },
      "execution_count": 67,
      "outputs": [
        {
          "output_type": "execute_result",
          "data": {
            "text/plain": [
              "[1, 3, 4, 7]"
            ]
          },
          "metadata": {},
          "execution_count": 67
        }
      ]
    },
    {
      "cell_type": "code",
      "source": [
        "strings = ['python' , 'java', 'javascript', 'sql']\n",
        "\n",
        "# my_filter함수를 사용해서 strings에서 5글자 이상인 문자열들만 필터링\n",
        "\n",
        "my_filter(strings, lambda x: len(x) >= 5)"
      ],
      "metadata": {
        "colab": {
          "base_uri": "https://localhost:8080/"
        },
        "id": "yFMrEeaqMnpU",
        "outputId": "468b0868-cbcd-4344-cce1-9e5be4f84edc"
      },
      "execution_count": 73,
      "outputs": [
        {
          "output_type": "execute_result",
          "data": {
            "text/plain": [
              "['python', 'javascript']"
            ]
          },
          "metadata": {},
          "execution_count": 73
        }
      ]
    },
    {
      "cell_type": "code",
      "source": [
        "pp = [1, -2, 3, 4, -5, -6, 7]\n",
        "my_filter(pp, lambda i: i > 0)"
      ],
      "metadata": {
        "colab": {
          "base_uri": "https://localhost:8080/"
        },
        "id": "xM2oRhbvFe2N",
        "outputId": "fdfc39ca-f79c-4d79-ee97-646de7476312"
      },
      "execution_count": 63,
      "outputs": [
        {
          "output_type": "execute_result",
          "data": {
            "text/plain": [
              "[1]"
            ]
          },
          "metadata": {},
          "execution_count": 63
        }
      ]
    },
    {
      "cell_type": "markdown",
      "source": [
        "## map 함수\n",
        "원소들을 규칙에 따라서 다른 값으로 변환"
      ],
      "metadata": {
        "id": "O5xK_3QJOJbd"
      }
    },
    {
      "cell_type": "code",
      "source": [
        "def my_mapper(iterable, fn):\n",
        "    \"\"\"\n",
        "    리스트 iterable의 원소들을 함수 fn의 리턴 값으로 변환한 리스트를 리턴.\n",
        "\n",
        "    Param iterable: 리스트\n",
        "    Param fn: 아규먼트가 1개이고 리턴 값이 있는 함수.\n",
        "    \"\"\"\n",
        "    return [fn(x) for x in iterable]\n",
        "\n",
        "    # result = []\n",
        "    # for x in iterable:\n",
        "    #     result.append(fn(x))\n",
        "    # return result"
      ],
      "metadata": {
        "id": "TEnEJr3aOB7R"
      },
      "execution_count": 83,
      "outputs": []
    },
    {
      "cell_type": "code",
      "source": [
        "print(numbers)"
      ],
      "metadata": {
        "colab": {
          "base_uri": "https://localhost:8080/"
        },
        "id": "I0D1juETPOf8",
        "outputId": "09fb3119-1aea-46e7-a33d-bb2ee90a0492"
      },
      "execution_count": 75,
      "outputs": [
        {
          "output_type": "stream",
          "name": "stdout",
          "text": [
            "[1, -2, 3, 4, -5, -6, 7]\n"
          ]
        }
      ]
    },
    {
      "cell_type": "code",
      "source": [
        "#리스트 numbers의 원소들의 제곱으로 이루어진 리스트\n",
        "\n",
        "my_mapper(numbers, lambda  k: k ** 2)"
      ],
      "metadata": {
        "colab": {
          "base_uri": "https://localhost:8080/"
        },
        "id": "TGOxaPH7QKS4",
        "outputId": "3416a2e6-f404-4f15-d943-456d5e23c0e0"
      },
      "execution_count": 84,
      "outputs": [
        {
          "output_type": "execute_result",
          "data": {
            "text/plain": [
              "[1, 4, 9, 16, 25, 36, 49]"
            ]
          },
          "metadata": {},
          "execution_count": 84
        }
      ]
    },
    {
      "cell_type": "code",
      "source": [
        "#리스트 numbers의 짝수 even 홀수 odd 이루어진리스트\n",
        "\n",
        "my_mapper(numbers, lambda x : 'even' if (x % 2) else 'odd')"
      ],
      "metadata": {
        "colab": {
          "base_uri": "https://localhost:8080/"
        },
        "id": "EZRN7VsrQSbF",
        "outputId": "933b1379-4737-49e1-e3b0-6f9161f2e150"
      },
      "execution_count": 86,
      "outputs": [
        {
          "output_type": "execute_result",
          "data": {
            "text/plain": [
              "['even', 'odd', 'even', 'odd', 'even', 'odd', 'even']"
            ]
          },
          "metadata": {},
          "execution_count": 86
        }
      ]
    },
    {
      "cell_type": "code",
      "source": [
        "#strings가 가지고 있는 문자열의 길이들로 이루어진 리스트\n",
        "my_mapper(strings, lambda x : len(x))"
      ],
      "metadata": {
        "colab": {
          "base_uri": "https://localhost:8080/"
        },
        "id": "phY13ZxyRyey",
        "outputId": "e10bbf75-eaa8-417b-b712-2d5f8c58596c"
      },
      "execution_count": 87,
      "outputs": [
        {
          "output_type": "execute_result",
          "data": {
            "text/plain": [
              "[6, 4, 10, 3]"
            ]
          },
          "metadata": {},
          "execution_count": 87
        }
      ]
    },
    {
      "cell_type": "code",
      "source": [
        "#strings의 문자열들을 대문자로 변환한 리스트\n",
        "my_mapper(strings, lambda x : x.upper())"
      ],
      "metadata": {
        "colab": {
          "base_uri": "https://localhost:8080/"
        },
        "id": "bKT_CDKPSBom",
        "outputId": "1c409c48-0267-49d2-c842-96a068128e1f"
      },
      "execution_count": 89,
      "outputs": [
        {
          "output_type": "execute_result",
          "data": {
            "text/plain": [
              "['PYTHON', 'JAVA', 'JAVASCRIPT', 'SQL']"
            ]
          },
          "metadata": {},
          "execution_count": 89
        }
      ]
    },
    {
      "cell_type": "markdown",
      "source": [
        "챕터 2장 아이파이썬 = 주피터노트북의 사용방법읽기\n",
        "아이파이썬 고급 657페이지\n",
        "툴에 대한 설명임."
      ],
      "metadata": {
        "id": "pmO0_udwTHFr"
      }
    }
  ]
}