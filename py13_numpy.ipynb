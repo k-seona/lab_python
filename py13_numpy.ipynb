{
  "nbformat": 4,
  "nbformat_minor": 0,
  "metadata": {
    "colab": {
      "provenance": [],
      "authorship_tag": "ABX9TyOTuVlBDYa9HSWFHBNtQG8E",
      "include_colab_link": true
    },
    "kernelspec": {
      "name": "python3",
      "display_name": "Python 3"
    },
    "language_info": {
      "name": "python"
    }
  },
  "cells": [
    {
      "cell_type": "markdown",
      "metadata": {
        "id": "view-in-github",
        "colab_type": "text"
      },
      "source": [
        "<a href=\"https://colab.research.google.com/github/k-seona/lab_python/blob/main/py13_numpy.ipynb\" target=\"_parent\"><img src=\"https://colab.research.google.com/assets/colab-badge.svg\" alt=\"Open In Colab\"/></a>"
      ]
    },
    {
      "cell_type": "markdown",
      "source": [
        "#데이터 분석 패키지\n",
        "\n",
        "google colab에는 데이터 분석과 머신 러닝에 필요한 대부분의 패키지들이 이미 설치가 되어 있음.\n",
        "\n",
        "*numPy : 다차원 배열을 다르는 패키지. 머신 러닝에서 중요하게 사용됨\n",
        "*pandas: 시리즈, 데이터 프레임을 다루는 페키지 데이터 분석에서 기본으로 사용되는 패키지\n",
        "* matplotlib: 데이터시각화(그래프)\n",
        "* seaborn : 데이터 시각화 통게작업\n"
      ],
      "metadata": {
        "id": "q5clQKQNVcOT"
      }
    },
    {
      "cell_type": "code",
      "execution_count": null,
      "metadata": {
        "id": "otDfkRfBVKvf"
      },
      "outputs": [],
      "source": [
        "import numpy as np\n",
        "import pandas as pd\n",
        "import matplotlib as mpl\n",
        "import seaborn as sns"
      ]
    },
    {
      "cell_type": "code",
      "source": [
        "print('넘피 버전', np.__version__)\n",
        "print('판다 버전', pd.__version__)\n",
        "print('멧 버전', mpl.__version__)\n",
        "print('씨본 버전', sns.__version__)"
      ],
      "metadata": {
        "colab": {
          "base_uri": "https://localhost:8080/"
        },
        "id": "B6los7XDbXgH",
        "outputId": "39e6d2e2-22a0-44f5-ce5e-f405976de606"
      },
      "execution_count": null,
      "outputs": [
        {
          "output_type": "stream",
          "name": "stdout",
          "text": [
            "넘피 버전 1.22.4\n",
            "판다 버전 1.5.3\n",
            "멧 버전 3.7.1\n",
            "씨본 버전 0.12.2\n"
          ]
        }
      ]
    },
    {
      "cell_type": "markdown",
      "source": [
        "#python `list` class\n",
        "\n",
        "* 여러개의 값들을 저장할 수 있는 데이터 타입\n",
        "* 인덱스를 기반으로 값들을 저장, 참조하는 데이터타입.\n",
        "\n",
        "    *indexiing: 인덱스를 사용해서 원하는 위치의 값을 참조, 변경\n",
        "    *slicing: `[start, end)` 인덱스 범위의 값들로 이루어진 부분집합을 잘라내는 방법.\n",
        "* `list + list`:\n",
        "* `list * int `, `int * list`: 리스트의 원소들을 정수만큼 반복해서 복제\n",
        "(replicate)"
      ],
      "metadata": {
        "id": "xaj38ljhcO2b"
      }
    },
    {
      "cell_type": "code",
      "source": [
        "list1 = [1,2,3,4]\n",
        "list2 = [10,20,30,40]"
      ],
      "metadata": {
        "id": "06K1CN3LcOqx"
      },
      "execution_count": null,
      "outputs": []
    },
    {
      "cell_type": "code",
      "source": [
        "#indexing:\n",
        "print(list1[0]) #list1의 첫번째 원소\n",
        "print(list1[3], list1[-1]) # 리스트의 마지막원소"
      ],
      "metadata": {
        "colab": {
          "base_uri": "https://localhost:8080/"
        },
        "id": "4r7VvfhrcNBn",
        "outputId": "6b2c07ca-886a-4365-b945-e74f37c6e8e6"
      },
      "execution_count": null,
      "outputs": [
        {
          "output_type": "stream",
          "name": "stdout",
          "text": [
            "1\n",
            "4 4\n"
          ]
        }
      ]
    },
    {
      "cell_type": "code",
      "source": [
        "print(list1[:3]) #list1의 첫번째 원소\n",
        "print(list1[-3:]) # 리스트의 마지막원소"
      ],
      "metadata": {
        "colab": {
          "base_uri": "https://localhost:8080/"
        },
        "id": "Zr_mGqYudsGV",
        "outputId": "d974bf04-1756-419a-93dc-562e5d6ce544"
      },
      "execution_count": null,
      "outputs": [
        {
          "output_type": "stream",
          "name": "stdout",
          "text": [
            "[1, 2, 3]\n",
            "[2, 3, 4]\n"
          ]
        }
      ]
    },
    {
      "cell_type": "code",
      "source": [
        "list1 + list2"
      ],
      "metadata": {
        "colab": {
          "base_uri": "https://localhost:8080/"
        },
        "id": "94ui_fSzd5oc",
        "outputId": "dd3a046f-aac5-4809-d80d-0e3f1ebf3899"
      },
      "execution_count": null,
      "outputs": [
        {
          "output_type": "execute_result",
          "data": {
            "text/plain": [
              "[1, 2, 3, 4, 10, 20, 30, 40]"
            ]
          },
          "metadata": {},
          "execution_count": 9
        }
      ]
    },
    {
      "cell_type": "code",
      "source": [
        "list1 * 3"
      ],
      "metadata": {
        "colab": {
          "base_uri": "https://localhost:8080/"
        },
        "id": "9Ogitoc0eBNc",
        "outputId": "d8e1c76e-172c-4caf-b0d8-f6cd1a6b62d5"
      },
      "execution_count": null,
      "outputs": [
        {
          "output_type": "execute_result",
          "data": {
            "text/plain": [
              "[1, 2, 3, 4, 1, 2, 3, 4, 1, 2, 3, 4]"
            ]
          },
          "metadata": {},
          "execution_count": 10
        }
      ]
    },
    {
      "cell_type": "code",
      "source": [
        "#list1 , list2에서 같은 인덱스 위치의 원소들끼리 덧셈\n",
        "[x + y for x,y in zip(list1, list2)]"
      ],
      "metadata": {
        "colab": {
          "base_uri": "https://localhost:8080/"
        },
        "id": "_f9LFW7heO40",
        "outputId": "72969f9d-da61-4d32-c2f4-30af0bc74dd4"
      },
      "execution_count": null,
      "outputs": [
        {
          "output_type": "execute_result",
          "data": {
            "text/plain": [
              "[11, 22, 33, 44]"
            ]
          },
          "metadata": {},
          "execution_count": 11
        }
      ]
    },
    {
      "cell_type": "code",
      "source": [
        "#list1의 모든 원소에 3을 곱함\n",
        "[3 * x for x in list1]"
      ],
      "metadata": {
        "colab": {
          "base_uri": "https://localhost:8080/"
        },
        "id": "Y33xbQnAedbj",
        "outputId": "1abbd02b-9a66-46f0-f7d3-43e58607dff0"
      },
      "execution_count": null,
      "outputs": [
        {
          "output_type": "execute_result",
          "data": {
            "text/plain": [
              "[3, 6, 9, 12]"
            ]
          },
          "metadata": {},
          "execution_count": 12
        }
      ]
    },
    {
      "cell_type": "markdown",
      "source": [
        "#numPy\n",
        "\n",
        "*배열(ndarray)을 쉽고 빠르게 연산(+, - ,*,//,/,%)을 수행하는 라이브러리\n",
        "* numPy패키지의 함수 또는 메서드들을 대부분 반복문의 기능을 가지고 있음.\n",
        "* np.ndarray 클래스 : NumPy패키지에서 기본 타입 클래스. n차원 배열\n",
        "(n-dimensional array)\n",
        "    * `ndarray`는 같은 인덱스(위치)에 있는 원소들끼리 연산을 수행"
      ],
      "metadata": {
        "id": "DfUEurqaioWJ"
      }
    },
    {
      "cell_type": "code",
      "source": [
        "array1 = np.array([1,2,3]) #python의 list 객체를 numpy의 ndarray 객체로 변환"
      ],
      "metadata": {
        "id": "ZOu9kdS0jhT7"
      },
      "execution_count": null,
      "outputs": []
    },
    {
      "cell_type": "code",
      "source": [
        "type(array1)"
      ],
      "metadata": {
        "colab": {
          "base_uri": "https://localhost:8080/"
        },
        "id": "yKR7Zr18kfFa",
        "outputId": "1a2b02a9-e806-496c-8988-02f7b092158b"
      },
      "execution_count": null,
      "outputs": [
        {
          "output_type": "execute_result",
          "data": {
            "text/plain": [
              "numpy.ndarray"
            ]
          },
          "metadata": {},
          "execution_count": 14
        }
      ]
    },
    {
      "cell_type": "code",
      "source": [
        "print(array1)# 프린트 함수는 __str__메서드의 리턴값을 출력"
      ],
      "metadata": {
        "colab": {
          "base_uri": "https://localhost:8080/"
        },
        "id": "m-59b-cvkg_K",
        "outputId": "f8886fe2-6bea-4e14-8ca3-1064f101e90e"
      },
      "execution_count": null,
      "outputs": [
        {
          "output_type": "stream",
          "name": "stdout",
          "text": [
            "[1 2 3]\n"
          ]
        }
      ]
    },
    {
      "cell_type": "code",
      "source": [
        "array1"
      ],
      "metadata": {
        "colab": {
          "base_uri": "https://localhost:8080/"
        },
        "id": "4fW6qZh2k8vB",
        "outputId": "e93acd25-a91b-4b59-f065-9ec16cdb3435"
      },
      "execution_count": null,
      "outputs": [
        {
          "output_type": "execute_result",
          "data": {
            "text/plain": [
              "array([1, 2, 3])"
            ]
          },
          "metadata": {},
          "execution_count": 16
        }
      ]
    },
    {
      "cell_type": "code",
      "source": [
        "array1 = np.array([1,2,3])\n",
        "array2 = np.array([4,5,6])\n",
        "print(array2)"
      ],
      "metadata": {
        "colab": {
          "base_uri": "https://localhost:8080/"
        },
        "id": "_tYi9JNglOwZ",
        "outputId": "f4cf3103-ea44-4037-acb6-4680f5c34c4c"
      },
      "execution_count": null,
      "outputs": [
        {
          "output_type": "stream",
          "name": "stdout",
          "text": [
            "[4 5 6]\n"
          ]
        }
      ]
    },
    {
      "cell_type": "code",
      "source": [
        "#ndarray의 사칙연산 -같은 원소들끼리 연산수행\n",
        "print(array1 + array2)\n",
        "print(array1 - array2)\n",
        "print(array1 * array2)\n",
        "print(array1 / array2)"
      ],
      "metadata": {
        "colab": {
          "base_uri": "https://localhost:8080/"
        },
        "id": "UinrEGoilVRh",
        "outputId": "9c03394f-188d-48cc-b414-b766a773cc84"
      },
      "execution_count": null,
      "outputs": [
        {
          "output_type": "stream",
          "name": "stdout",
          "text": [
            "[5 7 9]\n",
            "[-3 -3 -3]\n",
            "[ 4 10 18]\n",
            "[0.25 0.4  0.5 ]\n"
          ]
        }
      ]
    },
    {
      "cell_type": "markdown",
      "source": [
        "##ndarry클래스의 속성들"
      ],
      "metadata": {
        "id": "VW2Xz8DVmc3v"
      }
    },
    {
      "cell_type": "code",
      "source": [
        "print(array1)\n",
        "print('ndim:', array1.ndim) #차원(dimesion). 배열의 축(axis)의 개수\n",
        "print('size',array1.size) # 배열의 크기, 원소 개수\n",
        "print('shape:',array1.shape) # 배열의 모양, 각 차원에소의 원소 개수\n",
        "print('dtype:',array1.dtype) # 배열원소의 데이터 타입"
      ],
      "metadata": {
        "colab": {
          "base_uri": "https://localhost:8080/"
        },
        "id": "_czgr8nUmcJS",
        "outputId": "71020422-8f35-454a-a5d9-f8c9e0a904e7"
      },
      "execution_count": null,
      "outputs": [
        {
          "output_type": "stream",
          "name": "stdout",
          "text": [
            "[1 2 3]\n",
            "ndim: 1\n",
            "size 3\n",
            "shape: (3,)\n",
            "dtype: int64\n"
          ]
        }
      ]
    },
    {
      "cell_type": "markdown",
      "source": [
        "`ndarray`는 한가지 타입의 데이터들만 저장할 수 있는 데이터 타입 - `list`와 다른점"
      ],
      "metadata": {
        "id": "R7NsolB4oNfg"
      }
    },
    {
      "cell_type": "markdown",
      "source": [
        "## 2차원 배열"
      ],
      "metadata": {
        "id": "ukBnL4RVo2qn"
      }
    },
    {
      "cell_type": "code",
      "source": [
        "array_2d = np.array([\n",
        "    [1,2,3,4],\n",
        "    [5,6,7,8],\n",
        "    [9,10,11,12]\n",
        "])"
      ],
      "metadata": {
        "id": "qpb_QE_8oX7D"
      },
      "execution_count": null,
      "outputs": []
    },
    {
      "cell_type": "code",
      "source": [
        "array_2d"
      ],
      "metadata": {
        "colab": {
          "base_uri": "https://localhost:8080/"
        },
        "id": "eCy7xZp1pxVp",
        "outputId": "cbd7e873-3455-4351-87e6-651db5e64a27"
      },
      "execution_count": null,
      "outputs": [
        {
          "output_type": "execute_result",
          "data": {
            "text/plain": [
              "array([[ 1,  2,  3,  4],\n",
              "       [ 5,  6,  7,  8],\n",
              "       [ 9, 10, 11, 12]])"
            ]
          },
          "metadata": {},
          "execution_count": 21
        }
      ]
    },
    {
      "cell_type": "code",
      "source": [
        "print(array_2d)"
      ],
      "metadata": {
        "colab": {
          "base_uri": "https://localhost:8080/"
        },
        "id": "GOF7XOHUpc6Y",
        "outputId": "d65b5ba5-7842-4bd8-ee9f-6ae0933730cd"
      },
      "execution_count": null,
      "outputs": [
        {
          "output_type": "stream",
          "name": "stdout",
          "text": [
            "[[ 1  2  3  4]\n",
            " [ 5  6  7  8]\n",
            " [ 9 10 11 12]]\n"
          ]
        }
      ]
    },
    {
      "cell_type": "code",
      "source": [
        "print('ndim:', array_2d.ndim) #차원\n",
        "print('size:', array_2d.size) #크기\n",
        "print('shape:', array_2d.shape) #모양\n",
        "print('dtype:', array_2d.dtype) #데이터타입\n",
        "\n"
      ],
      "metadata": {
        "colab": {
          "base_uri": "https://localhost:8080/"
        },
        "id": "KPd8BYj5pd7H",
        "outputId": "1e6eaa1b-7f71-414a-95fa-618a8cdae96a"
      },
      "execution_count": null,
      "outputs": [
        {
          "output_type": "stream",
          "name": "stdout",
          "text": [
            "ndim: 2\n",
            "size: 12\n",
            "shape: (3, 4)\n",
            "dtype: int64\n"
          ]
        }
      ]
    },
    {
      "cell_type": "markdown",
      "source": [
        "### 2차원 `ndarray`의 인덱스 사용 방법:\n",
        "* `array[i][j]` -python list와 같은 사용 방법\n",
        "* `array[i, j]` -ndarray에서만 사용가능"
      ],
      "metadata": {
        "id": "SVd3TxQ-u9Qi"
      }
    },
    {
      "cell_type": "code",
      "source": [],
      "metadata": {
        "id": "MTedF60yu7mp"
      },
      "execution_count": null,
      "outputs": []
    },
    {
      "cell_type": "code",
      "source": [
        "array_2d[0,0] #array_2d[0][0]"
      ],
      "metadata": {
        "colab": {
          "base_uri": "https://localhost:8080/"
        },
        "id": "epNhI2Novyos",
        "outputId": "96b1f0d9-fc53-43c5-d4ad-e3113072bde3"
      },
      "execution_count": null,
      "outputs": [
        {
          "output_type": "execute_result",
          "data": {
            "text/plain": [
              "1"
            ]
          },
          "metadata": {},
          "execution_count": 24
        }
      ]
    },
    {
      "cell_type": "code",
      "source": [
        "array_2d[1,2]"
      ],
      "metadata": {
        "colab": {
          "base_uri": "https://localhost:8080/"
        },
        "id": "p5UsEhBkv96X",
        "outputId": "3f06e69b-cd39-45d2-9661-087cf8c2d9d2"
      },
      "execution_count": null,
      "outputs": [
        {
          "output_type": "execute_result",
          "data": {
            "text/plain": [
              "7"
            ]
          },
          "metadata": {},
          "execution_count": 25
        }
      ]
    },
    {
      "cell_type": "markdown",
      "source": [
        "##`ndarray`인덱스"
      ],
      "metadata": {
        "id": "XZjCPi7ZwbMC"
      }
    },
    {
      "cell_type": "code",
      "source": [
        "#0이상 100이하 범위의 정수,난수 10개를 갖는 ndarray 객체를 생성:\n",
        "array = np.random.randint(0, 100, size=10)\n",
        "print(array)"
      ],
      "metadata": {
        "colab": {
          "base_uri": "https://localhost:8080/"
        },
        "id": "d3a7rTASwWY1",
        "outputId": "6073df96-be23-44c2-8945-f2fa9f61db4b"
      },
      "execution_count": null,
      "outputs": [
        {
          "output_type": "stream",
          "name": "stdout",
          "text": [
            "[90 85 32 62 51 98 83 53  7 65]\n"
          ]
        }
      ]
    },
    {
      "cell_type": "code",
      "source": [
        "#indexing:\n",
        "print(array[0]) # 첫번째 원소\n",
        "print(array[-1]) # 마지막 원소"
      ],
      "metadata": {
        "colab": {
          "base_uri": "https://localhost:8080/"
        },
        "id": "EAKa_fqxxgFV",
        "outputId": "0c4942ae-1fc3-40b3-b085-c7e7a5ee4ff7"
      },
      "execution_count": null,
      "outputs": [
        {
          "output_type": "stream",
          "name": "stdout",
          "text": [
            "90\n",
            "65\n"
          ]
        }
      ]
    },
    {
      "cell_type": "code",
      "source": [
        "#slicing\n",
        "print(array[0:3]) #첫 3개 원소 자르기\n",
        "print(array[-3:]) #마지막 3개 원소 자르기\n"
      ],
      "metadata": {
        "colab": {
          "base_uri": "https://localhost:8080/"
        },
        "id": "5ixz9jATxxol",
        "outputId": "90b4f6a9-b9ad-465e-ce4e-80bb4bdf3469"
      },
      "execution_count": null,
      "outputs": [
        {
          "output_type": "stream",
          "name": "stdout",
          "text": [
            "[90 85 32]\n",
            "[53  7 65]\n"
          ]
        }
      ]
    },
    {
      "cell_type": "code",
      "source": [
        "print(array[0]) # indexcing -> 아이템(값)\n",
        "print(array[0:1]) # slicing -> 배열 (ndarray)"
      ],
      "metadata": {
        "colab": {
          "base_uri": "https://localhost:8080/"
        },
        "id": "gTC4Hhdix8XV",
        "outputId": "61d882f5-5d89-4201-a3db-4c4125da97b9"
      },
      "execution_count": null,
      "outputs": [
        {
          "output_type": "stream",
          "name": "stdout",
          "text": [
            "90\n",
            "[90]\n"
          ]
        }
      ]
    },
    {
      "cell_type": "markdown",
      "source": [
        "### fancy indexcing\n",
        "\n",
        "* 배열과 비슷한 객체(ndarray, list, tuple, set, ...)를 사용해서 원하는 우너소들을 참조하는 방법\n",
        "* fancy indexcing의 결과는 ndarray."
      ],
      "metadata": {
        "id": "jFEi2b3NyuOa"
      }
    },
    {
      "cell_type": "code",
      "source": [
        "print(array)\n",
        "print(array[0]) #indexcing /0 아이템/\n",
        "print(array[[0,2,4]]) #fancy indexcing (인덱스 안에서 리스트 ㄴ ), 인덱스0,2,4번 원소들 찾기\n",
        "print(array[[0]])  #0번 원소를 갖는 배열 //fancy indexcing->결과는 배열!"
      ],
      "metadata": {
        "colab": {
          "base_uri": "https://localhost:8080/"
        },
        "id": "aEWR64XOzJqP",
        "outputId": "803aee94-7a20-42c8-c8e9-e2345c1bd211"
      },
      "execution_count": null,
      "outputs": [
        {
          "output_type": "stream",
          "name": "stdout",
          "text": [
            "[90 85 32 62 51 98 83 53  7 65]\n",
            "90\n",
            "[90 32 51]\n",
            "[90]\n"
          ]
        }
      ]
    },
    {
      "cell_type": "markdown",
      "source": [
        "### boolean indexcing\n",
        "*논리값(true/ false)들의 배열 (리스트, 튜플,...)을 사용한 fancy indenxing 방법\n",
        "*배열에서 조건을 만족하는 원소들로 이루어진 부분집합(ndarray)를 만드는 방법"
      ],
      "metadata": {
        "id": "ocQr5sJ80ryB"
      }
    },
    {
      "cell_type": "code",
      "source": [
        "print(array)\n",
        "print(array[[True, False,True, False,True, False,True, False,True, False]])"
      ],
      "metadata": {
        "colab": {
          "base_uri": "https://localhost:8080/"
        },
        "id": "pLJAAeGNzLm9",
        "outputId": "eaf13ccb-0148-475b-d72f-68047c4f3f31"
      },
      "execution_count": null,
      "outputs": [
        {
          "output_type": "stream",
          "name": "stdout",
          "text": [
            "[90 85 32 62 51 98 83 53  7 65]\n",
            "[90 32 51 83  7]\n"
          ]
        }
      ]
    },
    {
      "cell_type": "code",
      "source": [
        "#배열 array의 원소들 중 홀수들만 찾기\n",
        "array % 2 == 1\n",
        "print(array % 2)\n",
        "print(array % 2 == 1)\n",
        "print(array[array % 2 == 1])"
      ],
      "metadata": {
        "colab": {
          "base_uri": "https://localhost:8080/"
        },
        "id": "9mcZz1WY1m8H",
        "outputId": "7ea5e5b1-f346-4f6e-9a0a-f2aaff78ad39"
      },
      "execution_count": null,
      "outputs": [
        {
          "output_type": "stream",
          "name": "stdout",
          "text": [
            "[0 1 0 0 1 0 1 1 1 1]\n",
            "[False  True False False  True False  True  True  True  True]\n",
            "[85 51 83 53  7 65]\n"
          ]
        }
      ]
    },
    {
      "cell_type": "code",
      "source": [
        "#배열 array의 원소들 중에서 50이상인 숫자들의 배열을 찾기:\n",
        "print(array[array >= 50])"
      ],
      "metadata": {
        "colab": {
          "base_uri": "https://localhost:8080/"
        },
        "id": "KxL1SeHy2ni9",
        "outputId": "e5a8348b-e311-4b1d-a439-44dbf6f3331b"
      },
      "execution_count": null,
      "outputs": [
        {
          "output_type": "stream",
          "name": "stdout",
          "text": [
            "[90 85 62 51 98 83 53 65]\n"
          ]
        }
      ]
    },
    {
      "cell_type": "markdown",
      "source": [
        "## numPy의 통계함수ㅡ 메서드\n",
        "\n",
        "* np.function(ndarray) 함수\n",
        "* np.ndarray.method()메서드"
      ],
      "metadata": {
        "id": "0O5-P6Ws3t4d"
      }
    },
    {
      "cell_type": "code",
      "source": [
        "array = np.array([1,2,3,4,5])\n",
        "print(array)"
      ],
      "metadata": {
        "colab": {
          "base_uri": "https://localhost:8080/"
        },
        "id": "Kmk0XPOE3pJG",
        "outputId": "bd8ac37a-50f9-4eb0-8bdd-dfe189e2aa38"
      },
      "execution_count": null,
      "outputs": [
        {
          "output_type": "stream",
          "name": "stdout",
          "text": [
            "[1 2 3 4 5]\n"
          ]
        }
      ]
    },
    {
      "cell_type": "code",
      "source": [
        "#합계:\n",
        "print(np.sum(array)) #\n",
        "print(array.sum()) #함수\n"
      ],
      "metadata": {
        "colab": {
          "base_uri": "https://localhost:8080/"
        },
        "id": "yrwxQYof4IWz",
        "outputId": "77afdd67-8eb5-4c2e-c1f3-65f15b60adfc"
      },
      "execution_count": null,
      "outputs": [
        {
          "output_type": "stream",
          "name": "stdout",
          "text": [
            "15\n",
            "15\n"
          ]
        }
      ]
    },
    {
      "cell_type": "code",
      "source": [
        "#평균\n",
        "print(np.mean(array) ) # 함수\n",
        "print(array.mean ) # 메서드"
      ],
      "metadata": {
        "colab": {
          "base_uri": "https://localhost:8080/"
        },
        "id": "mNsTxK1X5QNt",
        "outputId": "5090a922-f973-4059-a860-3e01263c0cce"
      },
      "execution_count": null,
      "outputs": [
        {
          "output_type": "stream",
          "name": "stdout",
          "text": [
            "3.0\n",
            "<built-in method mean of numpy.ndarray object at 0x7f2a561fe4f0>\n"
          ]
        }
      ]
    },
    {
      "cell_type": "markdown",
      "source": [
        "* numpy패키지를 사용\n",
        "* [0 , 100)범위의 난수 10개를 갖는 ndarray를 생성\n",
        "* 배열에서 최댓값, 최솟값, 평균, 분산(variance), 표준편차( standard deviation) 출력\n",
        "* 배열의 원소들 중 평균보다 큰 값들로 이루어진 배열을 만들고 출력.\n"
      ],
      "metadata": {
        "id": "G4CECXrmbw8F"
      }
    },
    {
      "cell_type": "code",
      "source": [
        "#0이상 100이하 범위의 정수,난수 10개를 갖는 ndarray 객체를 생성:\n",
        "#분산 (x)2승 / 개수\n",
        "np.random.seed(1) # 난수들을 생성하는 seed를 설정 -> 항상 같은 난수들을 생성\n",
        "numbers = np.random.randint(0, 100, size=10)\n",
        "print(numbers )\n",
        "\n",
        "print('최댓값', np.max(numbers))\n",
        "print('최솟값', np.min(numbers))\n",
        "print('합',np.sum(numbers))\n",
        "#print('평균',np.mean(numbers))\n",
        "print('평균', np.average(numbers))\n",
        "print('분산', np.var(numbers))\n",
        "print('표준편차', np.std(numbers))\n",
        "print(numbers[numbers > np.average(numbers)])"
      ],
      "metadata": {
        "colab": {
          "base_uri": "https://localhost:8080/"
        },
        "id": "DMZJQfetcaZY",
        "outputId": "8db90a4f-ceb7-4175-fff7-49a3f31686a1"
      },
      "execution_count": 73,
      "outputs": [
        {
          "output_type": "stream",
          "name": "stdout",
          "text": [
            "[37 12 72  9 75  5 79 64 16  1]\n",
            "최댓값 79\n",
            "최솟값 1\n",
            "합 370\n",
            "평균 37.0\n",
            "분산 933.2\n",
            "표준편차 30.548322376196047\n",
            "[72 75 79 64]\n"
          ]
        }
      ]
    },
    {
      "cell_type": "markdown",
      "source": [
        "#2차원 배열에서의 통계 함수, 메서드"
      ],
      "metadata": {
        "id": "WF_WxYncfw9A"
      }
    },
    {
      "cell_type": "markdown",
      "source": [],
      "metadata": {
        "id": "X59DWNmihHvy"
      }
    },
    {
      "cell_type": "code",
      "source": [
        "# [0, 100] 범위의 정수 난수를 갖는 (3,4) 모양(shape)을 갖는 2차원 ndarrau\n",
        "np.random.seed(1)\n",
        "array = np.random.randint(100, size=(3,4))\n",
        "print(array)"
      ],
      "metadata": {
        "colab": {
          "base_uri": "https://localhost:8080/"
        },
        "id": "jLJQpTM7fQi9",
        "outputId": "d106fa90-9eef-4e4c-db22-d3d056c9b5c0"
      },
      "execution_count": 74,
      "outputs": [
        {
          "output_type": "stream",
          "name": "stdout",
          "text": [
            "[[37 12 72  9]\n",
            " [75  5 79 64]\n",
            " [16  1 76 71]]\n"
          ]
        }
      ]
    },
    {
      "cell_type": "code",
      "source": [
        "np.sum(array)  # 배열의 모든 원소들의 합계 // axis=None기본값\n"
      ],
      "metadata": {
        "colab": {
          "base_uri": "https://localhost:8080/"
        },
        "id": "5xtTCFWdhmVv",
        "outputId": "63b7f968-e208-4de9-c0bb-94184b1f6f25"
      },
      "execution_count": 76,
      "outputs": [
        {
          "output_type": "execute_result",
          "data": {
            "text/plain": [
              "517"
            ]
          },
          "metadata": {},
          "execution_count": 76
        }
      ]
    },
    {
      "cell_type": "code",
      "source": [
        "np.sum(array,axis=0) #세로로 한 줄 0번 axis=0: 2차원 배열에서 첫번째 인덱스가 축 방향으로 계산"
      ],
      "metadata": {
        "colab": {
          "base_uri": "https://localhost:8080/"
        },
        "id": "qlBGyP1ziFKI",
        "outputId": "b6320525-aba9-4f48-c98a-8b26b7d65ed5"
      },
      "execution_count": 78,
      "outputs": [
        {
          "output_type": "execute_result",
          "data": {
            "text/plain": [
              "array([128,  18, 227, 144])"
            ]
          },
          "metadata": {},
          "execution_count": 78
        }
      ]
    },
    {
      "cell_type": "code",
      "source": [
        "np.sum(array,axis=1)"
      ],
      "metadata": {
        "colab": {
          "base_uri": "https://localhost:8080/"
        },
        "id": "s1o7hlEWjHHV",
        "outputId": "7cd4d525-e492-4a53-c8a7-e4bde12381a3"
      },
      "execution_count": 79,
      "outputs": [
        {
          "output_type": "execute_result",
          "data": {
            "text/plain": [
              "array([130, 223, 164])"
            ]
          },
          "metadata": {},
          "execution_count": 79
        }
      ]
    },
    {
      "cell_type": "code",
      "source": [
        "np.sum(array,axis=1, keepdims=True)"
      ],
      "metadata": {
        "colab": {
          "base_uri": "https://localhost:8080/"
        },
        "id": "E5ShdCZ_jxgV",
        "outputId": "fb892f87-3846-4bbd-e8e5-3d3b9f368522"
      },
      "execution_count": 80,
      "outputs": [
        {
          "output_type": "execute_result",
          "data": {
            "text/plain": [
              "array([[130],\n",
              "       [223],\n",
              "       [164]])"
            ]
          },
          "metadata": {},
          "execution_count": 80
        }
      ]
    }
  ]
}